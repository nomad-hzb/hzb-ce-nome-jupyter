{
 "cells": [
  {
   "cell_type": "code",
   "execution_count": null,
   "id": "11459e49-86b8-4cc6-a063-028cff8ec6bb",
   "metadata": {
    "tags": []
   },
   "outputs": [],
   "source": [
    "%%capture\n",
    "!pip install baybe\n",
    "import pandas as pd\n",
    "import numpy as np\n",
    "import datetime\n",
    "from baybe.targets import NumericalTarget\n",
    "from baybe.objectives.single import SingleTargetObjective\n",
    "from baybe.constraints import ContinuousLinearInequalityConstraint"
   ]
  },
  {
   "cell_type": "code",
   "execution_count": null,
   "id": "18ff952a-86fd-4e56-876e-e73e1107d52a",
   "metadata": {
    "tags": []
   },
   "outputs": [],
   "source": [
    "parameters_data = [\n",
    "    (\"potential1\",-2000,2000,1),\n",
    "    (\"hold1\",0,1800,1),\n",
    "    (\"potential2\",-2000,2000,1),\n",
    "    (\"hold2\",0,300,1),\n",
    "    (\"potential3\",-2000,2000,1),\n",
    "    (\"sweep_speed\",10,10000,1),\n",
    "    (\"cycles\",0,100,1),\n",
    "]\n",
    "constraints = None\n",
    "\n",
    "from baybe.parameters import NumericalContinuousParameter\n",
    "parameters = [\n",
    "    NumericalContinuousParameter(\n",
    "        name=p[0],\n",
    "         bounds=(0, 1),      \n",
    "    ) for p in parameters_data\n",
    "]"
   ]
  },
  {
   "cell_type": "code",
   "execution_count": null,
   "id": "8a99a65d-ed75-4d15-8b6e-05c58fca6030",
   "metadata": {
    "tags": []
   },
   "outputs": [],
   "source": [
    "from baybe.searchspace import SearchSpace\n",
    "from baybe.recommenders import (\n",
    "    BotorchRecommender,\n",
    "    RandomRecommender,\n",
    "    TwoPhaseMetaRecommender,\n",
    ")\n",
    "\n",
    "recommender = TwoPhaseMetaRecommender(\n",
    "    initial_recommender=RandomRecommender(),  # farthest point sampling\n",
    "    recommender=BotorchRecommender(sequential_continuous=True),  # Bayesian model-based optimization\n",
    ")\n",
    "\n",
    "searchspace = SearchSpace.from_product(parameters,constraints=constraints)"
   ]
  },
  {
   "cell_type": "code",
   "execution_count": null,
   "id": "fe773797-0a47-4dd2-b79e-16810fdd0c73",
   "metadata": {
    "tags": []
   },
   "outputs": [],
   "source": [
    "def scale_measurements_down(df, parameter_info):\n",
    "    for p in parameter_info:\n",
    "        values = (df[p[0]]-p[1])/(p[2]-p[1])\n",
    "        df[p[0]] = values\n",
    "    return df\n",
    "\n",
    "def scale_parameters_up(df, parameter_info):\n",
    "    for p in parameter_info:\n",
    "        values = (p[2]-p[1])*df[p[0]] + p[1]\n",
    "        df[p[0]] = round(values / p[3]) * p[3]\n",
    "    return df"
   ]
  },
  {
   "cell_type": "code",
   "execution_count": null,
   "id": "5aac2fc7-1e85-4101-a645-6fd558965219",
   "metadata": {
    "tags": []
   },
   "outputs": [],
   "source": [
    "from baybe import Campaign\n",
    "\n",
    "target = NumericalTarget(name=\"Activity\", mode=\"MAX\")\n",
    "objective = SingleTargetObjective(target)\n",
    "columns = [p[0] for p in parameters_data]\n",
    "campaign = Campaign(searchspace, objective, recommender)\n",
    "measurements = pd.read_csv('baybe_csv/wateroxidation_ni.csv')\n",
    "\n",
    "measurements = scale_measurements_down(measurements, parameters_data)\n",
    "campaign.add_measurements(measurements)\n",
    "df_next = campaign.recommend(batch_size=2)\n",
    "\n",
    "print(df_next)\n",
    "df_next = scale_parameters_up(df_next, parameters_data)\n",
    "\n",
    "df_next\n"
   ]
  },
  {
   "cell_type": "code",
   "execution_count": null,
   "id": "f300d53a-174b-43ce-b291-7b89f8cc6033",
   "metadata": {},
   "outputs": [],
   "source": [
    "measurements"
   ]
  },
  {
   "cell_type": "code",
   "execution_count": null,
   "id": "a92a61e7-55ce-43cd-b61f-26fb12fe0ff8",
   "metadata": {
    "tags": []
   },
   "outputs": [],
   "source": [
    "# make table as expected by student\n",
    "interval1 = df_next['hold1'] + np.abs(df_next['potential1'] - df_next['potential2'])/df_next['sweep_speed']\n",
    "interval2 = np.abs(df_next['potential2'] - df_next['potential3'])/df_next['sweep_speed'] + df_next['hold2']\n",
    "df_next['duration'] = interval1 + df_next['cycles']*interval2\n",
    "rename_columns = {\n",
    "    'potential1': 'potential1 (mV vs RHE)',\n",
    "    'hold1': 'hold1 (s)',\n",
    "    'potential2': 'potential2 (mV vs RHE)',\n",
    "    'hold2': 'hold2 (s)',\n",
    "    'potential3': 'potential3 (mV vs RHE)',\n",
    "    'sweep_speed': 'sweep speed (mV/s)',\n",
    "    'cycles': 'cycle (P2-P3)',\n",
    "    'duration': 'duration (s)',\n",
    "}\n",
    "df_next = df_next.rename(columns=rename_columns)\n",
    "\n",
    "date_now = datetime.datetime.now()\n",
    "filename = 'baybe_csv/newparameters_ni_' + date_now.strftime(\"%Y%m%d\") + '.csv'\n",
    "df_next.to_csv(filename)\n",
    "\n",
    "df_next"
   ]
  },
  {
   "cell_type": "code",
   "execution_count": null,
   "id": "8efbe71f-1a75-435b-85c8-c4cc5ce70dc2",
   "metadata": {},
   "outputs": [],
   "source": []
  }
 ],
 "metadata": {
  "kernelspec": {
   "display_name": "Python 3 (ipykernel)",
   "language": "python",
   "name": "python3"
  },
  "language_info": {
   "codemirror_mode": {
    "name": "ipython",
    "version": 3
   },
   "file_extension": ".py",
   "mimetype": "text/x-python",
   "name": "python",
   "nbconvert_exporter": "python",
   "pygments_lexer": "ipython3",
   "version": "3.12.10"
  }
 },
 "nbformat": 4,
 "nbformat_minor": 5
}
