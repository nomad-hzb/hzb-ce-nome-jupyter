{
 "cells": [
  {
   "cell_type": "code",
   "execution_count": 1,
   "id": "4985d606-e658-4119-bc44-db5149d7b8ed",
   "metadata": {},
   "outputs": [],
   "source": [
    "%%capture\n",
    "%matplotlib widget\n",
    "#!pip install requests_cache\n",
    "\n",
    "import matplotlib.pyplot as plt\n",
    "import time\n",
    "import requests\n",
    "import pandas as pd\n",
    "import numpy as np\n",
    "import datetime\n",
    "import math\n",
    "\n",
    "import ipywidgets as widgets\n",
    "from IPython.display import display, clear_output\n",
    "\n",
    "import sys\n",
    "sys.path.insert(1, '../python-scripts-c6fxKDJrSsWp1xCxON1Y7g')\n",
    "sys.path.insert(1, '../../python-scripts-c6fxKDJrSsWp1xCxON1Y7g')\n",
    "from api_calls import *\n",
    "\n",
    "url = \"https://nomad-hzb-ce.de/nomad-oasis/api/v1\"\n",
    "\n",
    "import os\n",
    "token = os.environ['NOMAD_CLIENT_ACCESS_TOKEN']"
   ]
  },
  {
   "cell_type": "code",
   "execution_count": 2,
   "id": "d8aa4420-c962-44eb-8168-bae2bacc0757",
   "metadata": {},
   "outputs": [],
   "source": [
    "# all widgets used in notebook\n",
    "uploads = get_all_uploads(url, token, number_of_uploads=250)\n",
    "upload_checkboxes = [widgets.Checkbox(value=False, description=upload.get('upload_name','--no-name--')) for upload in uploads]\n",
    "scrollable_box = widgets.VBox(upload_checkboxes)\n",
    "scrollable_area = widgets.Box([scrollable_box],\n",
    "                              layout=widgets.Layout(\n",
    "                                  overflow='scroll',\n",
    "                                  border='1px solid gray',\n",
    "                                  height='300px',\n",
    "                                  width='600px',\n",
    "                                  flex_flow='column',\n",
    "                                  display='flex'\n",
    "                              ))\n",
    "select_uploads_button = widgets.Button(description='Confirm Selected Uploads', layout=widgets.Layout(width='600px',))\n",
    "upload_selection_output = widgets.Output()"
   ]
  },
  {
   "cell_type": "code",
   "execution_count": 3,
   "id": "ecec64a6-f534-4137-9df8-2b7630ce6085",
   "metadata": {},
   "outputs": [],
   "source": [
    "# widget logic\n",
    "def save_selected_uploads(b):\n",
    "    global upload_names, ca_data, cv_data\n",
    "    upload_names = [cb.description for cb in upload_checkboxes if cb.value]\n",
    "    with upload_selection_output:\n",
    "        clear_output(wait=True)\n",
    "        #print('Collecting CA and CV data from selected uploads. This can take a moment...')\n",
    "        #ca_data = get_specific_entrytype_of_uploads(url, token, upload_names, 'CE_NOME_Chronoamperometry', with_meta=False)\n",
    "        #cv_data = get_specific_entrytype_of_uploads(url, token, upload_names, 'CE_NOME_CyclicVoltammetry', with_meta=False)\n",
    "        #clear_output(wait=True)\n",
    "        print('Selected:', upload_names)\n",
    "        #print('\\nNumber of found CA files:', len(ca_data))\n",
    "        #print('\\nNumber of found CV files:', len(cv_data))\n",
    "\n",
    "select_uploads_button.on_click(save_selected_uploads)"
   ]
  },
  {
   "cell_type": "markdown",
   "id": "20c7d392-a56e-4089-b967-6327dc999345",
   "metadata": {},
   "source": [
    "### Select Uploads"
   ]
  },
  {
   "cell_type": "code",
   "execution_count": 4,
   "id": "6d71eb01-f48c-411b-8ef6-531440b1710d",
   "metadata": {},
   "outputs": [
    {
     "data": {
      "application/vnd.jupyter.widget-view+json": {
       "model_id": "67ffb3a315cd4fdf8112ebd2ac28dc0c",
       "version_major": 2,
       "version_minor": 0
      },
      "text/plain": [
       "Box(children=(VBox(children=(Checkbox(value=False, description='KMC3 tests'), Checkbox(value=False, descriptio…"
      ]
     },
     "metadata": {},
     "output_type": "display_data"
    },
    {
     "data": {
      "application/vnd.jupyter.widget-view+json": {
       "model_id": "f7a612b478e64b77bc969562c116f839",
       "version_major": 2,
       "version_minor": 0
      },
      "text/plain": [
       "Button(description='Confirm Selected Uploads', layout=Layout(width='600px'), style=ButtonStyle())"
      ]
     },
     "metadata": {},
     "output_type": "display_data"
    },
    {
     "data": {
      "application/vnd.jupyter.widget-view+json": {
       "model_id": "c202b852d3af4812a2e86fd0740de532",
       "version_major": 2,
       "version_minor": 0
      },
      "text/plain": [
       "Output()"
      ]
     },
     "metadata": {},
     "output_type": "display_data"
    }
   ],
   "source": [
    "upload_names = []\n",
    "display(scrollable_area, select_uploads_button, upload_selection_output)"
   ]
  },
  {
   "cell_type": "code",
   "execution_count": 5,
   "id": "4741a087-ef21-45f6-b23b-1866c90521e5",
   "metadata": {},
   "outputs": [],
   "source": [
    "# TODO remove this in production\n",
    "upload_names = ['test data for summer student project']"
   ]
  },
  {
   "cell_type": "markdown",
   "id": "16d84a34-a293-45a0-b8cc-01d474789843",
   "metadata": {},
   "source": [
    "### Create Table from NOMAD entries"
   ]
  },
  {
   "cell_type": "code",
   "execution_count": 6,
   "id": "6df04e95-e07c-435b-85ec-7a9b3e0b1536",
   "metadata": {},
   "outputs": [
    {
     "name": "stdout",
     "output_type": "stream",
     "text": [
      "test data for summer student project : 1 CV files, 1 CA files\n"
     ]
    },
    {
     "data": {
      "text/html": [
       "<div>\n",
       "<style scoped>\n",
       "    .dataframe tbody tr th:only-of-type {\n",
       "        vertical-align: middle;\n",
       "    }\n",
       "\n",
       "    .dataframe tbody tr th {\n",
       "        vertical-align: top;\n",
       "    }\n",
       "\n",
       "    .dataframe thead th {\n",
       "        text-align: right;\n",
       "    }\n",
       "</style>\n",
       "<table border=\"1\" class=\"dataframe\">\n",
       "  <thead>\n",
       "    <tr style=\"text-align: right;\">\n",
       "      <th></th>\n",
       "      <th>sample_id</th>\n",
       "      <th>potential1 (mV vs RHE)</th>\n",
       "      <th>hold1 (s)</th>\n",
       "      <th>potential2 (mV vs RHE)</th>\n",
       "      <th>hold2 (s)</th>\n",
       "      <th>potential3 (mV vs RHE)</th>\n",
       "      <th>sweep speed (mV/s)</th>\n",
       "      <th>cycle (P2-P3)</th>\n",
       "      <th>duration (s)</th>\n",
       "      <th>duration (h)</th>\n",
       "    </tr>\n",
       "  </thead>\n",
       "  <tbody>\n",
       "    <tr>\n",
       "      <th>0</th>\n",
       "      <td>None</td>\n",
       "      <td>833.0</td>\n",
       "      <td>120</td>\n",
       "      <td>0.0</td>\n",
       "      <td>0</td>\n",
       "      <td>100.0</td>\n",
       "      <td>100</td>\n",
       "      <td>100</td>\n",
       "      <td>120.10833</td>\n",
       "      <td>0.033363</td>\n",
       "    </tr>\n",
       "  </tbody>\n",
       "</table>\n",
       "</div>"
      ],
      "text/plain": [
       "  sample_id  potential1 (mV vs RHE)  hold1 (s)  potential2 (mV vs RHE)  \\\n",
       "0      None                   833.0        120                     0.0   \n",
       "\n",
       "   hold2 (s)  potential3 (mV vs RHE)  sweep speed (mV/s)  cycle (P2-P3)  \\\n",
       "0          0                   100.0                 100            100   \n",
       "\n",
       "   duration (s)  duration (h)  \n",
       "0     120.10833      0.033363  "
      ]
     },
     "execution_count": 6,
     "metadata": {},
     "output_type": "execute_result"
    }
   ],
   "source": [
    "\n",
    "columns = ['sample_id', 'potential1 (mV vs RHE)', 'hold1 (s)', 'potential2 (mV vs RHE)', 'hold2 (s)', 'potential3 (mV vs RHE)', 'sweep speed (mV/s)', 'cycle (P2-P3)', 'duration (s)', 'duration (h)']\n",
    "rows = []\n",
    "hold1 = 120\n",
    "hold2 = 0\n",
    "sweep_speed = 100\n",
    "\n",
    "# TODO from samples to uploads\n",
    "# TODO get sample ids\n",
    "for upload_name in upload_names:\n",
    "    try:\n",
    "        ca_data = get_specific_entrytype_of_uploads(url, token, [upload_name], 'CE_NOME_Chronoamperometry', with_meta=False)\n",
    "        cv_data = get_specific_entrytype_of_uploads(url, token, [upload_name], 'CE_NOME_CyclicVoltammetry', with_meta=False)\n",
    "\n",
    "        sample_id = ca_data[0].get('samples')\n",
    "    \n",
    "        # extract data from Chronoamperometry files\n",
    "        rhe = ca_data[0].get('voltage_shift') or -0.933     #TODO get this from calibration files\n",
    "        potential1 = ca_data[0].get('properties').get('step_1_potential') - rhe\n",
    "    \n",
    "        # extract data from CyclicVoltammetry files\n",
    "        potential2 = cv_data[0].get('properties').get('limit_potential_1') # - rhe   # TODO is this the value we are looking for?\n",
    "        potential3 = cv_data[0].get('properties').get('limit_potential_2') # - rhe   # TODO is this the value we are looking for?\n",
    "     \n",
    "        interval1 = hold1 + np.abs(potential1 - potential2)/sweep_speed\n",
    "        interval2 = np.abs(potential2 - potential3)/sweep_speed + hold2\n",
    "        cycles = min(100, math.floor((3600 - interval1) / interval2)) #TODO check min\n",
    "        duration = interval1 + cycles*interval2\n",
    "        # TODO maybe compare calculated cycles and duration with found data\n",
    "        # cycle_number = len(ca_data)\n",
    "    \n",
    "        rows.append([sample_id, potential1*1000, hold1, potential2*1000, hold2, potential3*1000, sweep_speed, cycles, duration, duration/3600])\n",
    "    \n",
    "        print(upload_name, f': {len(cv_data)} CV files, {len(ca_data)} CA files')\n",
    "    except:\n",
    "        print(upload_name, \"didnt work\")\n",
    "\n",
    "result = pd.DataFrame(rows, columns=columns)\n",
    "result"
   ]
  },
  {
   "cell_type": "code",
   "execution_count": 7,
   "id": "6b1a27ae-18c1-47bb-8442-2d5e46a3ae25",
   "metadata": {},
   "outputs": [],
   "source": [
    "import datetime\n",
    "date_now = datetime.datetime.now()\n",
    "file_name = 'baybe_csv/nomad_result_table_ni_' + date_now.strftime(\"%Y%m%d\") + '.csv'\n",
    "result.to_csv(file_name, index=False)"
   ]
  },
  {
   "cell_type": "code",
   "execution_count": 8,
   "id": "bdc7dbb6-ba41-4ba7-ab30-816aa2e45927",
   "metadata": {},
   "outputs": [
    {
     "data": {
      "text/html": [
       "<div>\n",
       "<style scoped>\n",
       "    .dataframe tbody tr th:only-of-type {\n",
       "        vertical-align: middle;\n",
       "    }\n",
       "\n",
       "    .dataframe tbody tr th {\n",
       "        vertical-align: top;\n",
       "    }\n",
       "\n",
       "    .dataframe thead th {\n",
       "        text-align: right;\n",
       "    }\n",
       "</style>\n",
       "<table border=\"1\" class=\"dataframe\">\n",
       "  <thead>\n",
       "    <tr style=\"text-align: right;\">\n",
       "      <th></th>\n",
       "      <th>potential1</th>\n",
       "      <th>hold1</th>\n",
       "      <th>potential2</th>\n",
       "      <th>hold2</th>\n",
       "      <th>potential3</th>\n",
       "      <th>sweep_speed</th>\n",
       "      <th>cycles</th>\n",
       "      <th>Activity</th>\n",
       "    </tr>\n",
       "  </thead>\n",
       "  <tbody>\n",
       "    <tr>\n",
       "      <th>0</th>\n",
       "      <td>833.0</td>\n",
       "      <td>120</td>\n",
       "      <td>0.0</td>\n",
       "      <td>0</td>\n",
       "      <td>100.0</td>\n",
       "      <td>100</td>\n",
       "      <td>100</td>\n",
       "      <td>1</td>\n",
       "    </tr>\n",
       "  </tbody>\n",
       "</table>\n",
       "</div>"
      ],
      "text/plain": [
       "   potential1  hold1  potential2  hold2  potential3  sweep_speed  cycles  \\\n",
       "0       833.0    120         0.0      0       100.0          100     100   \n",
       "\n",
       "   Activity  \n",
       "0         1  "
      ]
     },
     "execution_count": 8,
     "metadata": {},
     "output_type": "execute_result"
    }
   ],
   "source": [
    "rename_baybe = {\n",
    "    'potential1 (mV vs RHE)': 'potential1',\n",
    "    'hold1 (s)': 'hold1',\n",
    "    'potential2 (mV vs RHE)': 'potential2',\n",
    "    'hold2 (s)': 'hold2',\n",
    "    'potential3 (mV vs RHE)': 'potential3',  \n",
    "    'sweep speed (mV/s)': 'sweep_speed',\n",
    "    'cycle (P2-P3)': 'cycles'}\n",
    "baybe_table = result.rename(columns=rename_baybe)[['potential1', 'hold1', 'potential2', 'hold2', 'potential3', 'sweep_speed', 'cycles']]\n",
    "import random \n",
    "baybe_table['Activity'] = range(1,len(result)+1) # TODO calculate this!!\n",
    "baybe_table = baybe_table.replace('n/a', 0)    # this is from last year where sweep speed could be n/a TODO check if this is also possible this year\n",
    "baybe_table.to_csv('baybe_csv/wateroxidation_ni.csv', index=False, header=True)\n",
    "baybe_table"
   ]
  },
  {
   "cell_type": "code",
   "execution_count": 9,
   "id": "367d93e7-ebb0-4f2f-8145-52e933989596",
   "metadata": {},
   "outputs": [],
   "source": [
    "# TODO add calculation of targets\n",
    "# criteria for evaluation:\n",
    "# 1) min potential of CP at 500 mA/cm2, potential lower than untreated sample\n",
    "# 2) min area under CV (should be equivalent to CP), area lower than untreated sample\n",
    "# 3) min standard deviation of CP in 1)\n",
    "# 4) min rms sum of (CV minus averaged CV)\n",
    "\n",
    "# TODO add plots for parameter visualization"
   ]
  },
  {
   "cell_type": "code",
   "execution_count": 10,
   "id": "bd8825c0-77b8-4c2f-9b8c-a11604ac15a6",
   "metadata": {},
   "outputs": [
    {
     "name": "stdout",
     "output_type": "stream",
     "text": [
      "3.4064011165336687\n",
      "test data for summer student project\n"
     ]
    }
   ],
   "source": [
    "# TODO from samples to uploads\n",
    "for upload_name in upload_names:\n",
    "    try:\n",
    "        cp_data = get_specific_entrytype_of_uploads(url, token, [upload_name], 'CE_NOME_Chronopotentiometry', with_meta=False)\n",
    "        if len(cp_data) > 1:\n",
    "            cp_data.sort(key=lambda x: datetime.datetime.strptime(x.get('datetime'), \"%Y-%m-%dT%H:%M:%S.%f+00:00\") if \".\" in x.get('datetime') else datetime.datetime.strptime(x.get('datetime'), \"%Y-%m-%dT%H:%M:%S+00:00\"))\n",
    "\n",
    "            # TODO find CP at 500 mA/cm2\n",
    "            cp_values = cp_data[0].get('voltage')\n",
    "            min_cp = min(cp_values)\n",
    "            min_std_cp = np.std(cp_values)\n",
    "            print(min_std_cp)\n",
    "\n",
    "\n",
    "        cv_data = get_specific_entrytype_of_uploads(url, token, [upload_name], 'CE_NOME_CyclicVoltammetry', with_meta=False)\n",
    "        if len(cv_data) > 1:\n",
    "            cv_data.sort(key=lambda x: datetime.datetime.strptime(x.get('datetime'), \"%Y-%m-%dT%H:%M:%S.%f+00:00\") if \".\" in x.get('datetime') else datetime.datetime.strptime(x.get('datetime'), \"%Y-%m-%dT%H:%M:%S+00:00\"))\n",
    "\n",
    "        cv_values = cv_data[0].get('cycles', [{}])[0].get('current_density') # TODO use current or current density or ...\n",
    "        #TODO calculate area\n",
    "        cv_avg = np.mean(cv_values)\n",
    "        rms_sum = np.sqrt(np.sum(np.square(cv_values - cv_avg)))\n",
    "        print(rms_sum)\n",
    "\n",
    "        print(upload_name)\n",
    "    except:\n",
    "        print(upload_name, \"didnt work\")"
   ]
  },
  {
   "cell_type": "code",
   "execution_count": null,
   "id": "1cb69ea5-7ae7-4d64-b112-b8b77d9c35af",
   "metadata": {},
   "outputs": [],
   "source": []
  }
 ],
 "metadata": {
  "kernelspec": {
   "display_name": "Python 3 (ipykernel)",
   "language": "python",
   "name": "python3"
  },
  "language_info": {
   "codemirror_mode": {
    "name": "ipython",
    "version": 3
   },
   "file_extension": ".py",
   "mimetype": "text/x-python",
   "name": "python",
   "nbconvert_exporter": "python",
   "pygments_lexer": "ipython3",
   "version": "3.12.10"
  }
 },
 "nbformat": 4,
 "nbformat_minor": 5
}
