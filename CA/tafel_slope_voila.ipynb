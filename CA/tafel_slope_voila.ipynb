{
 "cells": [
  {
   "cell_type": "code",
   "execution_count": 1,
   "id": "0f026229-db49-4b67-882f-d98fb005b969",
   "metadata": {
    "tags": []
   },
   "outputs": [],
   "source": [
    "%%capture\n",
    "%matplotlib widget\n",
    "\n",
    "import numpy as np\n",
    "import pandas as pd\n",
    "import matplotlib.pyplot as plt\n",
    "import os\n",
    "import sys\n",
    "\n",
    "import ipywidgets as widgets\n",
    "from IPython.display import display, clear_output"
   ]
  },
  {
   "cell_type": "code",
   "execution_count": 2,
   "id": "0e2eb795-06c6-46d7-b0bb-3f48274c2daa",
   "metadata": {
    "tags": []
   },
   "outputs": [],
   "source": [
    "# I recommend that you do not change things in this cell!\n",
    "url = \"https://nomad-hzb-ce.de/nomad-oasis/api/v1\"\n",
    "token = os.environ['NOMAD_CLIENT_ACCESS_TOKEN']\n",
    "sys.path.insert(1, '../../python-scripts-c6fxKDJrSsWp1xCxON1Y7g')\n",
    "from api_calls import *\n",
    "from tafel_slope_functions import *\n",
    "sys.path.append(os.path.abspath('..'))\n",
    "from helpers import *"
   ]
  },
  {
   "cell_type": "markdown",
   "id": "8d531401-93a2-4f13-9f5b-e194ae5e24ae",
   "metadata": {},
   "source": [
    "# Tafel Slope\n",
    "\n",
    "This notebook is designed for uploads with multiple `CE_NOME_Chronoamperometry` files.  \n",
    "It allows you to get the Tafel Slope using all CA files and optionally you can download the calculated data. \n",
    "\n",
    "**For more custom tafel slope scripts you can copy and edit the file `tafel_slope_jupyter.ipynb` in your own upload.**\n"
   ]
  },
  {
   "cell_type": "code",
   "execution_count": 3,
   "id": "284d42c5-667a-481e-b45c-eb7bd6b09802",
   "metadata": {},
   "outputs": [],
   "source": [
    "# all widgets used in notebook\n",
    "uploads = get_all_uploads(url, token, number_of_uploads=250)\n",
    "upload_checkboxes = [widgets.Checkbox(value=False, description=upload.get('upload_name','--no-name--')) for upload in uploads]\n",
    "scrollable_box = widgets.VBox(upload_checkboxes)\n",
    "scrollable_area = widgets.Box([scrollable_box],\n",
    "                              layout=widgets.Layout(\n",
    "                                  overflow='scroll',\n",
    "                                  border='1px solid gray',\n",
    "                                  height='300px',\n",
    "                                  width='600px',\n",
    "                                  flex_flow='column',\n",
    "                                  display='flex'\n",
    "                              ))\n",
    "select_uploads_button = widgets.Button(description='Confirm Selected Uploads', layout=widgets.Layout(width='600px',))\n",
    "upload_selection_output = widgets.Output()\n",
    "\n",
    "avg_points_box = widgets.BoundedIntText(\n",
    "    value=40,\n",
    "    min=1,\n",
    "    max=200,\n",
    "    step=1,\n",
    "    description='Number of records to be averaged:',\n",
    "    layout=widgets.Layout(width='300px'),\n",
    "    style={'description_width': 'initial'}\n",
    ")\n",
    "run_analysis_button = widgets.Button(description='Run Tafel Slope Analysis', layout=widgets.Layout(width='300px',))\n",
    "show_avg_calc_button = widgets.Button(description='Show Calculation of Average Current', layout=widgets.Layout(width='300px',))\n",
    "clear_output_button = widgets.Button(description='Clear Output', layout=widgets.Layout(width='300px',))\n",
    "analysis_output = widgets.Output()\n",
    "avg_calc_output = widgets.Output()\n",
    "\n",
    "download_button = widgets.Button(description='Prepare Data for Download', layout=widgets.Layout(width='300px'))\n",
    "download_button_output = widgets.Output()"
   ]
  },
  {
   "cell_type": "code",
   "execution_count": 4,
   "id": "fbc0636f-642f-4f02-b029-250f3c1bd03e",
   "metadata": {},
   "outputs": [],
   "source": [
    "# widget logic\n",
    "def save_selected_uploads(b):\n",
    "    global upload_names, data\n",
    "    upload_names = [cb.description for cb in upload_checkboxes if cb.value]\n",
    "    with upload_selection_output:\n",
    "        clear_output(wait=True)\n",
    "        print('Collecting CA data from selected uploads. This can take a moment...')\n",
    "        data = get_ca_env_upload(url, token, upload_names)\n",
    "        clear_output(wait=True)\n",
    "        print('Selected:', upload_names)\n",
    "        print('\\nNumber of found CA files:', len(data))\n",
    "\n",
    "def run_analysis(b):\n",
    "    global overview_df\n",
    "    plt.close('all')\n",
    "    with analysis_output:\n",
    "        clear_output()\n",
    "        avg_points = avg_points_box.value\n",
    "        overview_df = get_overview_df(data, avg_points)\n",
    "        display(overview_df)\n",
    "        show_tafel_slope_plot(overview_df)\n",
    "\n",
    "def show_avg_calc(b):\n",
    "    plt.close('all')\n",
    "    with avg_calc_output:\n",
    "        clear_output()\n",
    "        avg_points = avg_points_box.value\n",
    "        plot_avg_current_calculation(overview_df, avg_points)\n",
    "\n",
    "def on_clear_output_clicked(b):\n",
    "    plt.close('all')\n",
    "    with analysis_output:\n",
    "        clear_output()\n",
    "    with avg_calc_output:\n",
    "        clear_output()\n",
    "        \n",
    "select_uploads_button.on_click(save_selected_uploads)\n",
    "run_analysis_button.on_click(run_analysis)\n",
    "show_avg_calc_button.on_click(show_avg_calc)\n",
    "clear_output_button.on_click(on_clear_output_clicked)"
   ]
  },
  {
   "cell_type": "markdown",
   "id": "a3bf8c2b-58f3-4d49-8640-23906646eaed",
   "metadata": {},
   "source": [
    "### Select uploads"
   ]
  },
  {
   "cell_type": "code",
   "execution_count": 5,
   "id": "b3a613e8-1ba3-4550-acff-b2a015da5799",
   "metadata": {},
   "outputs": [
    {
     "data": {
      "application/vnd.jupyter.widget-view+json": {
       "model_id": "7bbb1a1d81b44b69af1dd00a32ad730d",
       "version_major": 2,
       "version_minor": 0
      },
      "text/plain": [
       "Box(children=(VBox(children=(Checkbox(value=False, description='KMC3 tests'), Checkbox(value=False, descriptio…"
      ]
     },
     "metadata": {},
     "output_type": "display_data"
    },
    {
     "data": {
      "application/vnd.jupyter.widget-view+json": {
       "model_id": "59a2405ed81648bcb53185e8d73982b9",
       "version_major": 2,
       "version_minor": 0
      },
      "text/plain": [
       "Button(description='Confirm Selected Uploads', layout=Layout(width='600px'), style=ButtonStyle())"
      ]
     },
     "metadata": {},
     "output_type": "display_data"
    },
    {
     "data": {
      "application/vnd.jupyter.widget-view+json": {
       "model_id": "1eaddcb0575e4b29a4a227ebf733c00e",
       "version_major": 2,
       "version_minor": 0
      },
      "text/plain": [
       "Output()"
      ]
     },
     "metadata": {},
     "output_type": "display_data"
    }
   ],
   "source": [
    "upload_names = []\n",
    "data = []\n",
    "overview_df = pd.DataFrame()\n",
    "\n",
    "display(scrollable_area, select_uploads_button, upload_selection_output)"
   ]
  },
  {
   "cell_type": "markdown",
   "id": "2d4718aa-a6e1-47b6-a191-2025002ed96a",
   "metadata": {},
   "source": [
    "### Run Analysis\n",
    "\n",
    "For each file, we are looking for the **average of the last `x` recorded current values**. \n",
    "Please enter the number of recorded values to be averaged."
   ]
  },
  {
   "cell_type": "code",
   "execution_count": 6,
   "id": "8db9d1a5-86cb-4032-9027-c494e60cef9a",
   "metadata": {},
   "outputs": [
    {
     "data": {
      "application/vnd.jupyter.widget-view+json": {
       "model_id": "8aa0057c784b468a8a9ad41baf6065a2",
       "version_major": 2,
       "version_minor": 0
      },
      "text/plain": [
       "BoundedIntText(value=40, description='Number of records to be averaged:', layout=Layout(width='300px'), max=20…"
      ]
     },
     "metadata": {},
     "output_type": "display_data"
    },
    {
     "data": {
      "application/vnd.jupyter.widget-view+json": {
       "model_id": "7cbaf439cc5f4c959981d79f1e3b7c27",
       "version_major": 2,
       "version_minor": 0
      },
      "text/plain": [
       "Button(description='Run Tafel Slope Analysis', layout=Layout(width='300px'), style=ButtonStyle())"
      ]
     },
     "metadata": {},
     "output_type": "display_data"
    },
    {
     "data": {
      "application/vnd.jupyter.widget-view+json": {
       "model_id": "468b3c62e4df4b8b9fe1c61fde9e63e9",
       "version_major": 2,
       "version_minor": 0
      },
      "text/plain": [
       "Output()"
      ]
     },
     "metadata": {},
     "output_type": "display_data"
    },
    {
     "data": {
      "application/vnd.jupyter.widget-view+json": {
       "model_id": "af24fec1dd5c414e9bd5093257819b5b",
       "version_major": 2,
       "version_minor": 0
      },
      "text/plain": [
       "Button(description='Show Calculation of Average Current', layout=Layout(width='300px'), style=ButtonStyle())"
      ]
     },
     "metadata": {},
     "output_type": "display_data"
    },
    {
     "data": {
      "application/vnd.jupyter.widget-view+json": {
       "model_id": "77e80bf926a84362a526e26d0e974a51",
       "version_major": 2,
       "version_minor": 0
      },
      "text/plain": [
       "Output()"
      ]
     },
     "metadata": {},
     "output_type": "display_data"
    },
    {
     "data": {
      "application/vnd.jupyter.widget-view+json": {
       "model_id": "7be2d0cef4c341a7a6779fad19336c09",
       "version_major": 2,
       "version_minor": 0
      },
      "text/plain": [
       "Button(description='Clear Output', layout=Layout(width='300px'), style=ButtonStyle())"
      ]
     },
     "metadata": {},
     "output_type": "display_data"
    }
   ],
   "source": [
    "display(avg_points_box, run_analysis_button, analysis_output, show_avg_calc_button, avg_calc_output, clear_output_button)"
   ]
  },
  {
   "cell_type": "markdown",
   "id": "d630d527-a4d8-4b47-a64c-2408a8823a2f",
   "metadata": {},
   "source": [
    "### Download Data"
   ]
  },
  {
   "cell_type": "code",
   "execution_count": 7,
   "id": "21b1889e-9e3e-4c6c-b0c1-80d43afc9e5e",
   "metadata": {},
   "outputs": [
    {
     "data": {
      "application/vnd.jupyter.widget-view+json": {
       "model_id": "9b2164ccc4784b699792c846c2a1301a",
       "version_major": 2,
       "version_minor": 0
      },
      "text/plain": [
       "Button(description='Prepare Data for Download', layout=Layout(width='300px'), style=ButtonStyle())"
      ]
     },
     "metadata": {},
     "output_type": "display_data"
    },
    {
     "data": {
      "application/vnd.jupyter.widget-view+json": {
       "model_id": "d143586770f848649bf7f7b357a0d240",
       "version_major": 2,
       "version_minor": 0
      },
      "text/plain": [
       "Output()"
      ]
     },
     "metadata": {},
     "output_type": "display_data"
    }
   ],
   "source": [
    "def on_download_button_clicked(b):\n",
    "    if overview_df.empty:\n",
    "        with download_button_output:\n",
    "            clear_output(wait=True)\n",
    "            print('Please select another upload that contains CA data and run the analysis before downloading.')\n",
    "            return\n",
    "    df_list = [upload_df for _, upload_df in overview_df.groupby('upload_name')]\n",
    "    file_name_list = [f'{upload_name}_tafel_slope.csv' for upload_name, _ in overview_df.groupby('upload_name')]\n",
    "    with download_button_output:\n",
    "        clear_output(wait=True)\n",
    "        try:\n",
    "            create_zip_download_link(df_list, file_name_list, 'tafel_slope_data')\n",
    "            plot_list = [plt.figure(fig_num) for fig_num in plt.get_fignums()]\n",
    "            fig_names = [f'plot_{fig_num}' for fig_num in plt.get_fignums()]\n",
    "            create_zip_plots_link(plot_list, fig_names, 'tafel_slope_plots')\n",
    "        except NameError:\n",
    "            print('Please select another upload that contains CA data and run the analysis before downloading.')\n",
    "\n",
    "download_button.on_click(on_download_button_clicked)\n",
    "display(download_button, download_button_output)"
   ]
  },
  {
   "cell_type": "code",
   "execution_count": null,
   "id": "383ddd3c-83b9-4321-a6f6-2b5a2bcce7ac",
   "metadata": {},
   "outputs": [],
   "source": []
  }
 ],
 "metadata": {
  "kernelspec": {
   "display_name": "Python 3 (ipykernel)",
   "language": "python",
   "name": "python3"
  },
  "language_info": {
   "codemirror_mode": {
    "name": "ipython",
    "version": 3
   },
   "file_extension": ".py",
   "mimetype": "text/x-python",
   "name": "python",
   "nbconvert_exporter": "python",
   "pygments_lexer": "ipython3",
   "version": "3.12.10"
  }
 },
 "nbformat": 4,
 "nbformat_minor": 5
}
