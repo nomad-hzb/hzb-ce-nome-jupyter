{
 "cells": [
  {
   "cell_type": "code",
   "execution_count": 1,
   "id": "a62d5671-9662-47a2-93d2-87fd089ca1d1",
   "metadata": {},
   "outputs": [],
   "source": [
    "%%capture\n",
    "%matplotlib widget\n",
    "\n",
    "import numpy as np\n",
    "import pandas as pd\n",
    "import matplotlib.pyplot as plt\n",
    "import io\n",
    "import os\n",
    "import sys\n",
    "\n",
    "import ipywidgets as widgets\n",
    "from IPython.display import display, clear_output"
   ]
  },
  {
   "cell_type": "code",
   "execution_count": 2,
   "id": "373ac586-8bf6-4762-81eb-3dd1b3c53b03",
   "metadata": {},
   "outputs": [],
   "source": [
    "# I recommend that you do not change things in this cell!\n",
    "url = \"https://nomad-hzb-ce.de/nomad-oasis/api/v1\"\n",
    "token = os.environ['NOMAD_CLIENT_ACCESS_TOKEN']\n",
    "\n",
    "sys.path.insert(1, '../../../python-scripts-c6fxKDJrSsWp1xCxON1Y7g')\n",
    "from api_calls import *\n",
    "from ce_nome_tool_box import *\n",
    "from cp_plots_functions import *\n",
    "sys.path.append(os.path.abspath('..'))\n",
    "from helpers import *"
   ]
  },
  {
   "cell_type": "markdown",
   "id": "4b36ddca-3b58-40e5-942b-42894c0eaead",
   "metadata": {},
   "source": [
    "# CP Overview\n",
    "\n",
    "This notebook is designed for uploads with multiple `CE_NOME_Chronopotentiometry` files.\n",
    "It allows you to get an overview of all concatenated CP files and optionally you can inspect specific time intervalls. \n",
    "\n",
    "**For more custom plots you can copy and edit the file `cp_plots_jupyter.ipynb` in your own upload.**\n"
   ]
  },
  {
   "cell_type": "code",
   "execution_count": 3,
   "id": "6dfc82e3-1e5b-487c-bf8b-88e4587b8085",
   "metadata": {},
   "outputs": [],
   "source": [
    "# all widgets used in notebook\n",
    "uploads = get_all_uploads(url, token, number_of_uploads=200)\n",
    "upload_names = widgets.Dropdown(options=[u.get(\"upload_name\",\"--no-name--\") for u in uploads],description='Upload:')\n",
    "\n",
    "time_slider = widgets.IntRangeSlider(\n",
    "    step=1,\n",
    "    description='Time Range (in s):',\n",
    "    continuous_update=False,\n",
    "    layout=widgets.Layout(width='500px'),\n",
    "    style={'description_width': 'initial'}\n",
    ")\n",
    "\n",
    "overview_output = widgets.Output()\n",
    "interval_output = widgets.Output()"
   ]
  },
  {
   "cell_type": "code",
   "execution_count": 4,
   "id": "92a0fece-50fe-4c37-8c5a-3058b06f77cf",
   "metadata": {},
   "outputs": [],
   "source": [
    "# widget logic\n",
    "def set_slider(minvalue, maxvalue, values):\n",
    "    if time_slider.max < minvalue:\n",
    "        time_slider.max = maxvalue\n",
    "        time_slider.min = minvalue\n",
    "    else:\n",
    "        time_slider.min = minvalue\n",
    "        time_slider.max = maxvalue\n",
    "    time_slider.value = values\n",
    "\n",
    "def on_change_uploads(change):\n",
    "    global upload_name, df\n",
    "    if change['type'] == 'change' and change['name'] == 'value':\n",
    "        upload_name = change['new']\n",
    "        with overview_output:\n",
    "            overview_output.clear_output()\n",
    "            df = run_analysis(url, token, upload_name)\n",
    "        with interval_output:\n",
    "            if df.empty:\n",
    "                set_slider(minvalue=0, maxvalue=0, values=[0,0])\n",
    "                interval_output.clear_output()\n",
    "            else:\n",
    "                set_slider(df['time'].min(), df['time'].max(), [df['time'].min(), df['time'].max()])         \n",
    "\n",
    "def inspect_interval(change):\n",
    "    with interval_output:\n",
    "        interval_output.clear_output()\n",
    "        start_time, end_time = time_slider.value\n",
    "        if not df.empty:\n",
    "            filtered_df = df[(df['time'] >= start_time) & (df['time'] <= end_time)]\n",
    "            plot_interval(filtered_df)\n",
    "            display(filtered_df)\n",
    "        \n",
    "upload_names.observe(on_change_uploads)\n",
    "time_slider.observe(inspect_interval, names='value')"
   ]
  },
  {
   "cell_type": "markdown",
   "id": "8752e700-1232-447a-92ac-da55c676e974",
   "metadata": {},
   "source": [
    "### Overview"
   ]
  },
  {
   "cell_type": "code",
   "execution_count": 5,
   "id": "4e5fbb7e-80f1-4ff1-bd79-07fd9d13f3ad",
   "metadata": {},
   "outputs": [
    {
     "data": {
      "application/vnd.jupyter.widget-view+json": {
       "model_id": "8d1398fa5d014be19e614fd53c1e21db",
       "version_major": 2,
       "version_minor": 0
      },
      "text/plain": [
       "HBox(children=(Dropdown(description='Upload:', options=('test notebook copy', '250502_GZ_Cu_nanop_NO3RR_benchm…"
      ]
     },
     "metadata": {},
     "output_type": "display_data"
    },
    {
     "data": {
      "application/vnd.jupyter.widget-view+json": {
       "model_id": "565ff827b7f94033a9b6415bded354f0",
       "version_major": 2,
       "version_minor": 0
      },
      "text/plain": [
       "Output()"
      ]
     },
     "metadata": {},
     "output_type": "display_data"
    }
   ],
   "source": [
    "# trigger on_change_uploads once in the beginning\n",
    "on_change_uploads({'new': upload_names.value,\n",
    "                   'type': 'change',\n",
    "                   'name': 'value',\n",
    "                  })\n",
    "\n",
    "# show widgets\n",
    "display(widgets.HBox([upload_names]), overview_output)"
   ]
  },
  {
   "cell_type": "markdown",
   "id": "208f9e14-eb85-461e-bd4f-0992f4f2226c",
   "metadata": {},
   "source": [
    "### Inspect Time Intervals"
   ]
  },
  {
   "cell_type": "code",
   "execution_count": 6,
   "id": "9e492999-d70f-4d62-95e4-357fc0b7112a",
   "metadata": {},
   "outputs": [
    {
     "data": {
      "application/vnd.jupyter.widget-view+json": {
       "model_id": "e1fee91cdfb54f39beb331ce020d1665",
       "version_major": 2,
       "version_minor": 0
      },
      "text/plain": [
       "IntRangeSlider(value=(0, 0), continuous_update=False, description='Time Range (in s):', layout=Layout(width='5…"
      ]
     },
     "metadata": {},
     "output_type": "display_data"
    },
    {
     "data": {
      "application/vnd.jupyter.widget-view+json": {
       "model_id": "17dfe18f697a4f75971fde38e92cf34c",
       "version_major": 2,
       "version_minor": 0
      },
      "text/plain": [
       "Output()"
      ]
     },
     "metadata": {},
     "output_type": "display_data"
    }
   ],
   "source": [
    "#initial trigger\n",
    "inspect_interval(None)\n",
    "\n",
    "display(time_slider, interval_output)"
   ]
  },
  {
   "cell_type": "markdown",
   "id": "af234f88-8523-42bf-8c31-28a942367655",
   "metadata": {},
   "source": [
    "### Download Overview Data as csv Table"
   ]
  },
  {
   "cell_type": "code",
   "execution_count": 7,
   "id": "fb74e79a-f78b-46e6-828f-c0dea3763e74",
   "metadata": {},
   "outputs": [
    {
     "data": {
      "application/vnd.jupyter.widget-view+json": {
       "model_id": "825b2183d9304604aecac35a7e654a81",
       "version_major": 2,
       "version_minor": 0
      },
      "text/plain": [
       "Button(description='Prepare Data for Download', layout=Layout(width='200px'), style=ButtonStyle())"
      ]
     },
     "metadata": {},
     "output_type": "display_data"
    },
    {
     "data": {
      "application/vnd.jupyter.widget-view+json": {
       "model_id": "ea8b83888b9d4739b06c44433dd98686",
       "version_major": 2,
       "version_minor": 0
      },
      "text/plain": [
       "Output()"
      ]
     },
     "metadata": {},
     "output_type": "display_data"
    }
   ],
   "source": [
    "download_button = widgets.Button(description='Prepare Data for Download',\n",
    "                                 layout=widgets.Layout(width='200px'))\n",
    "download_button_output = widgets.Output()\n",
    "\n",
    "def on_download_button_clicked(b):\n",
    "    file_name = f'{upload_name}_cp_overview.csv'\n",
    "    with download_button_output:\n",
    "        clear_output(wait=True)\n",
    "        try:\n",
    "            create_zip_download_link([df], [file_name], 'cp_overview')\n",
    "            plot_list = [plt.figure(fig_num) for fig_num in plt.get_fignums()]\n",
    "            fig_names = ['overview', 'timeinterval']\n",
    "            create_zip_plots_link(plot_list, fig_names, 'cp_plots')\n",
    "        except NameError:\n",
    "            print('Please select another upload that contains CP data.')\n",
    "\n",
    "download_button.on_click(on_download_button_clicked)\n",
    "display(download_button, download_button_output)"
   ]
  },
  {
   "cell_type": "code",
   "execution_count": null,
   "id": "a0c34c98-1193-4186-8bd8-4c2e853583ff",
   "metadata": {},
   "outputs": [],
   "source": []
  }
 ],
 "metadata": {
  "kernelspec": {
   "display_name": "Python 3 (ipykernel)",
   "language": "python",
   "name": "python3"
  },
  "language_info": {
   "codemirror_mode": {
    "name": "ipython",
    "version": 3
   },
   "file_extension": ".py",
   "mimetype": "text/x-python",
   "name": "python",
   "nbconvert_exporter": "python",
   "pygments_lexer": "ipython3",
   "version": "3.10.10"
  }
 },
 "nbformat": 4,
 "nbformat_minor": 5
}
