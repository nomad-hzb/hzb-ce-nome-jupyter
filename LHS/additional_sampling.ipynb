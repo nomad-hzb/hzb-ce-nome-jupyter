{
 "cells": [
  {
   "cell_type": "markdown",
   "id": "4e5d6f5d-843d-4a67-8d51-07200c5f58bc",
   "metadata": {},
   "source": [
    "# Additional sampling (with dead zones)"
   ]
  },
  {
   "cell_type": "code",
   "execution_count": 1,
   "id": "a044b680-2dfc-4760-945b-9b52bae17c7b",
   "metadata": {},
   "outputs": [],
   "source": [
    "import numpy as np\n",
    "from scipy.stats import qmc"
   ]
  },
  {
   "cell_type": "raw",
   "id": "4a586f7b-7bbd-497b-8627-8085ecc1f491",
   "metadata": {},
   "source": [
    "activation_current = [600, 2000]\n",
    "activation_duration = [600, 86400]\n",
    "\n",
    "already_used = [72629, 2512, 37919, 61969, 56564, 28106]\n",
    "\n",
    "num_samples = 6"
   ]
  },
  {
   "cell_type": "code",
   "execution_count": 7,
   "id": "465bc618-8dab-4438-8e96-ed8c9bbcc741",
   "metadata": {},
   "outputs": [
    {
     "name": "stdout",
     "output_type": "stream",
     "text": [
      "Allowed zones for activation_duration:\n",
      "  6112 – 24506\n",
      "  31706 – 34319\n",
      "  41519 – 52964\n",
      "  65569 – 69029\n",
      "  76229 – 86400\n",
      "\n",
      "New LHS Samples:\n",
      "Sample 1: current=1765.5, duration=7625.5\n",
      "Sample 2: current=805.1, duration=43139.2\n",
      "Sample 3: current=1883.8, duration=67639.6\n",
      "Sample 4: current=1236.0, duration=17867.8\n",
      "Sample 5: current=1408.1, duration=81894.6\n",
      "Sample 6: current=1060.8, duration=46030.2\n"
     ]
    }
   ],
   "source": [
    "# Parameter ranges\n",
    "activation_current = [600, 2000]\n",
    "activation_duration = [600, 86400]\n",
    "already_used = np.array([72629, 2512, 37919, 61969, 56564, 28106])\n",
    "num_samples = 6\n",
    "\n",
    "# Width of dead zones around each used value (± seconds)\n",
    "dead_zone_width = 3600\n",
    "\n",
    "# Step 1: Compute allowed zones\n",
    "dead_zones = np.array([[x - dead_zone_width, x + dead_zone_width] for x in already_used])\n",
    "dead_zones = np.clip(dead_zones, activation_duration[0], activation_duration[1])\n",
    "dead_zones = dead_zones[np.argsort(dead_zones[:, 0])]  # sort by start\n",
    "\n",
    "allowed_zones = []\n",
    "start = activation_duration[0]\n",
    "for low, high in dead_zones:\n",
    "    if low > start:\n",
    "        allowed_zones.append([start, low])\n",
    "    start = max(start, high)\n",
    "if start < activation_duration[1]:\n",
    "    allowed_zones.append([start, activation_duration[1]])\n",
    "\n",
    "allowed_zones = np.array(allowed_zones)\n",
    "\n",
    "# Step 2: Generate LHS samples (normalized)\n",
    "sampler = qmc.LatinHypercube(d=2)\n",
    "lhs = sampler.random(n=num_samples)\n",
    "\n",
    "# Step 3: Scale current directly\n",
    "#currents = qmc.scale(lhs[:, 0], activation_current[0], activation_current[1])\n",
    "\n",
    "scaled = qmc.scale(lhs, [activation_current[0], activation_duration[0]],\n",
    "                         [activation_current[1], activation_duration[1]])\n",
    "\n",
    "currents = scaled[:, 0]\n",
    "durations_raw = scaled[:, 1]\n",
    "\n",
    "# Step 4: Map duration samples into the allowed zones\n",
    "zone_lengths = allowed_zones[:, 1] - allowed_zones[:, 0]\n",
    "zone_probs = zone_lengths / np.sum(zone_lengths)\n",
    "cum_probs = np.cumsum(zone_probs)\n",
    "\n",
    "durations = []\n",
    "for u in lhs[:, 1]:\n",
    "    # Find which allowed zone this sample belongs to\n",
    "    idx = np.searchsorted(cum_probs, u)\n",
    "    idx = min(idx, len(allowed_zones) - 1)\n",
    "    # Compute position within that zone\n",
    "    if idx == 0:\n",
    "        local_u = u / cum_probs[idx]\n",
    "    else:\n",
    "        local_u = (u - cum_probs[idx - 1]) / (cum_probs[idx] - cum_probs[idx - 1])\n",
    "    val = allowed_zones[idx, 0] + local_u * (allowed_zones[idx, 1] - allowed_zones[idx, 0])\n",
    "    durations.append(val)\n",
    "\n",
    "durations = np.array(durations)\n",
    "\n",
    "# Final combined samples\n",
    "final_samples = np.column_stack((currents, durations))\n",
    "\n",
    "print(\"Allowed zones for activation_duration:\")\n",
    "for z in allowed_zones:\n",
    "    print(f\"  {z[0]:.0f} – {z[1]:.0f}\")\n",
    "\n",
    "print(\"\\nNew LHS Samples:\")\n",
    "for i, (c, d) in enumerate(final_samples):\n",
    "    print(f\"Sample {i+1}: current={c:.1f}, duration={d:.1f}\")\n"
   ]
  },
  {
   "cell_type": "raw",
   "id": "43a8c668-31a7-4fd0-a62b-91f1fa0d8260",
   "metadata": {},
   "source": [
    "Allowed zones for activation_duration:\n",
    "  6112 – 24506\n",
    "  31706 – 34319\n",
    "  41519 – 52964\n",
    "  65569 – 69029\n",
    "  76229 – 86400\n",
    "\n",
    "New LHS Samples:\n",
    "Sample 1: current=1765.5, duration=7625.5\n",
    "Sample 2: current=805.1, duration=43139.2\n",
    "Sample 3: current=1883.8, duration=67639.6\n",
    "Sample 4: current=1236.0, duration=17867.8\n",
    "Sample 5: current=1408.1, duration=81894.6\n",
    "Sample 6: current=1060.8, duration=46030.2"
   ]
  },
  {
   "cell_type": "raw",
   "id": "105f88a3-5ca9-43dc-ad9c-09dc649cf74a",
   "metadata": {},
   "source": [
    "OLD\n",
    "\n",
    "Allowed zones for activation_duration:\n",
    "  600 – 1912\n",
    "  3112 – 27506\n",
    "  28706 – 37319\n",
    "  38519 – 55964\n",
    "  57164 – 61369\n",
    "  62569 – 72029\n",
    "  73229 – 86400\n",
    "\n",
    "New LHS Samples:\n",
    "Sample 1: current=1131.2, duration=46932.6\n",
    "Sample 2: current=890.7, duration=27466.8\n",
    "Sample 3: current=1335.4, duration=11190.9\n",
    "Sample 4: current=1788.7, duration=33020.0\n",
    "Sample 5: current=731.3, duration=65398.2\n",
    "Sample 6: current=1751.9, duration=79830.8\n"
   ]
  }
 ],
 "metadata": {
  "kernelspec": {
   "display_name": "Python 3 (ipykernel)",
   "language": "python",
   "name": "python3"
  },
  "language_info": {
   "codemirror_mode": {
    "name": "ipython",
    "version": 3
   },
   "file_extension": ".py",
   "mimetype": "text/x-python",
   "name": "python",
   "nbconvert_exporter": "python",
   "pygments_lexer": "ipython3",
   "version": "3.12.10"
  }
 },
 "nbformat": 4,
 "nbformat_minor": 5
}
