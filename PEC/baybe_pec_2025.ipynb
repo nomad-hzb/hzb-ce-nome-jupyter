{
 "cells": [
  {
   "cell_type": "markdown",
   "id": "b6e5d834-b67b-4942-bb05-13575d94c40d",
   "metadata": {},
   "source": [
    "# Get new parametersets with Baysian Optimization\n",
    "\n",
    "This script uses the BaysianBackEnd (BayBE). For more information you can find the documentation here: https://emdgroup.github.io/baybe/stable/index.html "
   ]
  },
  {
   "cell_type": "code",
   "execution_count": 1,
   "id": "11459e49-86b8-4cc6-a063-028cff8ec6bb",
   "metadata": {
    "tags": []
   },
   "outputs": [],
   "source": [
    "%%capture\n",
    "!pip install baybe\n",
    "from baybe.targets import NumericalTarget\n",
    "from baybe.objectives.single import SingleTargetObjective\n",
    "from baybe.constraints import ContinuousLinearInequalityConstraint\n",
    "\n",
    "import pandas as pd\n",
    "import numpy as np\n",
    "import datetime\n",
    "\n",
    "import ipywidgets as widgets\n",
    "from IPython.display import display, clear_output"
   ]
  },
  {
   "cell_type": "code",
   "execution_count": 16,
   "id": "18ff952a-86fd-4e56-876e-e73e1107d52a",
   "metadata": {
    "tags": []
   },
   "outputs": [],
   "source": [
    "parameters_data_slow_1 = [\n",
    "    (\"BiNO3_M\",0.005,0.05,0.005),\n",
    "    (\"KI_M\",0.1,1,0.1),\n",
    "    (\"LA_M\",0.01,0.06,0.01),\n",
    "    (\"benzoquinone_M\",0.03,0.06,0.002),\n",
    "    (\"Vacac2_M\",0.02,0.8,0.005),\n",
    "    (\"Ni_M\",0.005,0.095,0.005),\n",
    "]\n",
    "\n",
    "# electrodeposition BiVO4\n",
    "parameters_data_fast_1 = [\n",
    "    (\"N1_mAcm_2\",-15,-1,1),\n",
    "    (\"G1_mAcm_2\",-10,-0.5,0.1),\n",
    "    (\"N1_s\",5,45,5),\n",
    "    (\"G1_s\",10,70,10),\n",
    "    (\"NG1_s\",10,80,10),\n",
    "    (\"no_cycles\",10,105,10),\n",
    "]\n",
    "\n",
    "# synthesis TiO2\n",
    "parameters_data_slow_2 = [\n",
    "    (\"TiCl3_M\",0.02,0.1,0.01),\n",
    "    (\"Na2CO3_M\",0.1,1,0.2),\n",
    "    (\"pH\",0.5,7,0.5),\n",
    "    (\"Temperature_C\",25,90,5),\n",
    "]\n",
    "\n",
    "# electrodeposition TiO2 (maybe N, G, NG parameters missing?)\n",
    "parameters_data_fast_2 = [\n",
    "    (\"potential_V\",0,2,0.2),\n",
    "    (\"N_s\",10,60,0.5),\n",
    "]\n",
    "constraints = None\n",
    "\n",
    "def get_parameters_data(parameter_set):\n",
    "    params_data = []\n",
    "    if parameter_set == 'synthesis BiVO4 and NiFe (\"slow\")':\n",
    "        params_data = parameters_data_slow_1\n",
    "    elif parameter_set == 'BiVO4 electrodeposition (\"fast\")':\n",
    "        params_data = parameters_data_fast_1\n",
    "    elif parameter_set == \"slow_2\":\n",
    "        params_data = parameters_data_slow_2\n",
    "    elif parameter_set == \"fast_2\":\n",
    "        params_data = parameters_data_fast_2\n",
    "    return params_data"
   ]
  },
  {
   "cell_type": "code",
   "execution_count": 17,
   "id": "3b68a44e-1708-42d1-bf5a-c23fdacdea86",
   "metadata": {},
   "outputs": [],
   "source": [
    "# all ipywidgets\n",
    "parameter_selector = widgets.Dropdown(\n",
    "    options=['BiVO4 electrodeposition (\"fast\")', 'synthesis BiVO4 and NiFe (\"slow\")'],\n",
    "    value='BiVO4 electrodeposition (\"fast\")',\n",
    "    description='Select parameter set:',\n",
    "    style={'description_width': 'initial'},\n",
    "    layout=widgets.Layout(width='500px'),\n",
    ")\n",
    "\n",
    "author_selector = widgets.Dropdown(\n",
    "    options=['Felipe Mata mata', 'Maddalena Zoli'],\n",
    "    value=None,\n",
    "    description='NOMAD author:',\n",
    "    style={'description_width': 'initial'},\n",
    "    layout=widgets.Layout(width='500px'),\n",
    ")\n",
    "\n",
    "run_baybe_button = widgets.Button(\n",
    "    description='Run Bayesian Optimization',\n",
    "    button_style='primary',\n",
    "    layout=widgets.Layout(width='auto')\n",
    ")\n",
    "\n",
    "save_recommendations_button = widgets.Button(\n",
    "    description='Save recommended parameters as csv',\n",
    "    button_style='primary',\n",
    "    layout=widgets.Layout(width='auto')\n",
    ")\n",
    "\n",
    "author_measurement_overview_output = widgets.Output()\n",
    "recommendations_output = widgets.Output()\n",
    "save_csv_output = widgets.Output()"
   ]
  },
  {
   "cell_type": "code",
   "execution_count": 18,
   "id": "82b74874-d4b7-40d5-8074-492882d0ff04",
   "metadata": {},
   "outputs": [
    {
     "data": {
      "application/vnd.jupyter.widget-view+json": {
       "model_id": "91f457dd418e42868214146180ba3113",
       "version_major": 2,
       "version_minor": 0
      },
      "text/plain": [
       "Dropdown(description='Select parameter set:', layout=Layout(width='500px'), options=('BiVO4 electrodeposition …"
      ]
     },
     "metadata": {},
     "output_type": "display_data"
    },
    {
     "data": {
      "application/vnd.jupyter.widget-view+json": {
       "model_id": "8799169261aa4358a04195a9edf03f20",
       "version_major": 2,
       "version_minor": 0
      },
      "text/plain": [
       "Dropdown(description='NOMAD author:', layout=Layout(width='500px'), options=('Felipe Mata mata', 'Maddalena Zo…"
      ]
     },
     "metadata": {},
     "output_type": "display_data"
    },
    {
     "data": {
      "application/vnd.jupyter.widget-view+json": {
       "model_id": "d606634ec07247d9acb391681549344f",
       "version_major": 2,
       "version_minor": 0
      },
      "text/plain": [
       "Output()"
      ]
     },
     "metadata": {},
     "output_type": "display_data"
    }
   ],
   "source": [
    "def update_measurement_overview_output():\n",
    "    global parameters_data, measurements\n",
    "    parameters_data = get_parameters_data(parameter_selector.value)\n",
    "    first_name = author_selector.value.split()[0].lower()\n",
    "    param_name = 'bivo4_synthesis'\n",
    "    if parameter_selector.value == 'BiVO4 electrodeposition (\"fast\")':\n",
    "        param_name = 'bivo4_electrodeposition'\n",
    "    file_name = f'baybe_csv/{param_name}_{first_name}.csv'\n",
    "    with author_measurement_overview_output:\n",
    "        author_measurement_overview_output.clear_output()\n",
    "        try:\n",
    "            measurements = pd.read_csv(file_name)\n",
    "            print('Measurements for given user:')\n",
    "            display(measurements)\n",
    "        except FileNotFoundError:\n",
    "            print(f'Could not find file {file_name}')\n",
    "\n",
    "def on_paramset_change(change):\n",
    "    if change['type'] == 'change' and change['name'] == 'value':\n",
    "        update_measurement_overview_output()\n",
    "\n",
    "parameter_selector.observe(on_paramset_change)\n",
    "parameter_selector.value = 'BiVO4 electrodeposition (\"fast\")'\n",
    "\n",
    "def on_author_change(change):\n",
    "    if change['type'] == 'change' and change['name'] == 'value':\n",
    "        update_measurement_overview_output()\n",
    "            \n",
    "\n",
    "author_selector.observe(on_author_change)\n",
    "author_selector.value = 'Felipe Mata mata'\n",
    "\n",
    "display(parameter_selector, author_selector, author_measurement_overview_output)"
   ]
  },
  {
   "cell_type": "code",
   "execution_count": 19,
   "id": "8e239287-8d23-422e-98ca-320eb47ee08b",
   "metadata": {},
   "outputs": [],
   "source": [
    "def scale_measurements_down(df, parameter_info):\n",
    "    for p in parameter_info:\n",
    "        values = (df[p[0]]-p[1])/(p[2]-p[1])\n",
    "        df[p[0]] = values\n",
    "    return df\n",
    "\n",
    "def scale_parameters_up(df, parameter_info):\n",
    "    for p in parameter_info:\n",
    "        values = (p[2]-p[1])*df[p[0]] + p[1]\n",
    "        df[p[0]] = round(values / p[3]) * p[3]\n",
    "    return df"
   ]
  },
  {
   "cell_type": "code",
   "execution_count": 20,
   "id": "8990bee2-8928-464e-a6d1-9126b4acb2b4",
   "metadata": {},
   "outputs": [],
   "source": [
    "from baybe.parameters import NumericalContinuousParameter\n",
    "from baybe.searchspace import SearchSpace\n",
    "from baybe.recommenders import (\n",
    "    BotorchRecommender,\n",
    "    RandomRecommender,\n",
    "    TwoPhaseMetaRecommender,\n",
    ")\n",
    "from baybe import Campaign\n",
    "\n",
    "\n",
    "def get_clean_baybe_setup(parameters_data):\n",
    "    constraints = None\n",
    "    parameters = [\n",
    "        NumericalContinuousParameter(\n",
    "            name=p[0],\n",
    "             bounds=(0, 1),      \n",
    "        ) for p in parameters_data\n",
    "    ]\n",
    "    recommender = TwoPhaseMetaRecommender(\n",
    "        initial_recommender=RandomRecommender(),  # farthest point sampling\n",
    "        recommender=BotorchRecommender(sequential_continuous=True),  # Bayesian model-based optimization\n",
    "    )\n",
    "    searchspace = SearchSpace.from_product(parameters,constraints=constraints)\n",
    "\n",
    "    #print('Maximize for target activity.')\n",
    "    #target = NumericalTarget(name=\"activity\", mode=\"MAX\")\n",
    "    print('Minimize for target stability.')\n",
    "    target = NumericalTarget(name=\"stability\", mode=\"MIN\")\n",
    "    objective = SingleTargetObjective(target)\n",
    "    columns = [p[0] for p in parameters_data]\n",
    "    campaign = Campaign(searchspace, objective, recommender)\n",
    "    return campaign\n",
    "\n",
    "def get_baybe_recommendations(campaign, parameters_data, measurements, num_recommendations=5):\n",
    "    scaled_measurements = measurements.copy() # use a copy if user hits recommendation button several times\n",
    "    scaled_measurements = scale_measurements_down(scaled_measurements, parameters_data)\n",
    "    # print(scaled_measurements) # uncomment to check if measurements are scaled down as expected\n",
    "    campaign.add_measurements(scaled_measurements)\n",
    "    df_next = campaign.recommend(batch_size=num_recommendations)\n",
    "    # print(df_next) #uncomment to see unscaled recommendations\n",
    "    df_next = scale_parameters_up(df_next, parameters_data)\n",
    "    return df_next\n",
    "\n",
    "def save_recommendations_as_csv(df_next, author_name):\n",
    "    date_now = datetime.datetime.now()\n",
    "    filename = f'baybe_csv/newparameters_ni_{author_name}_{date_now.strftime(\"%Y%m%d\")}.csv'\n",
    "    df_next.to_csv(filename, index=False, header=True)\n",
    "    print(f'File saved in {filename}')"
   ]
  },
  {
   "cell_type": "code",
   "execution_count": 21,
   "id": "b272b894-d62f-4e7d-9544-90cf9a5e6997",
   "metadata": {},
   "outputs": [
    {
     "data": {
      "application/vnd.jupyter.widget-view+json": {
       "model_id": "11fef70007814817bf5d2d8abdae6406",
       "version_major": 2,
       "version_minor": 0
      },
      "text/plain": [
       "Button(button_style='primary', description='Run Bayesian Optimization', layout=Layout(width='auto'), style=But…"
      ]
     },
     "metadata": {},
     "output_type": "display_data"
    },
    {
     "data": {
      "application/vnd.jupyter.widget-view+json": {
       "model_id": "3b43773c6adf40709fdd1e81a60bf6da",
       "version_major": 2,
       "version_minor": 0
      },
      "text/plain": [
       "Output()"
      ]
     },
     "metadata": {},
     "output_type": "display_data"
    }
   ],
   "source": [
    "def on_baybe_button_clicked(b):\n",
    "    global df_pretty\n",
    "    with recommendations_output:\n",
    "        recommendations_output.clear_output()\n",
    "        campaign = get_clean_baybe_setup(parameters_data)\n",
    "        df_pretty = get_baybe_recommendations(campaign, parameters_data, measurements, num_recommendations=6)\n",
    "        print('Recommended next parameter sets:')\n",
    "        display(df_pretty)\n",
    "\n",
    "run_baybe_button.on_click(on_baybe_button_clicked)\n",
    "\n",
    "display(run_baybe_button, recommendations_output)"
   ]
  },
  {
   "cell_type": "code",
   "execution_count": 8,
   "id": "0bb50d23-98d1-4532-8f5c-cd82fae86f26",
   "metadata": {},
   "outputs": [
    {
     "data": {
      "application/vnd.jupyter.widget-view+json": {
       "model_id": "7cab297f721040a788968a0b6510dbda",
       "version_major": 2,
       "version_minor": 0
      },
      "text/plain": [
       "Button(button_style='primary', description='Save recommended parameters as csv', layout=Layout(width='auto'), …"
      ]
     },
     "metadata": {},
     "output_type": "display_data"
    },
    {
     "data": {
      "application/vnd.jupyter.widget-view+json": {
       "model_id": "b1048b4b782f40bb8647ea3f690a20c3",
       "version_major": 2,
       "version_minor": 0
      },
      "text/plain": [
       "Output()"
      ]
     },
     "metadata": {},
     "output_type": "display_data"
    }
   ],
   "source": [
    "def on_save_csv_button_clicked(b):\n",
    "    with save_csv_output:\n",
    "        save_csv_output.clear_output()\n",
    "        first_name = author_selector.value.split()[0].lower()\n",
    "        save_recommendations_as_csv(df_pretty, first_name)\n",
    "\n",
    "save_recommendations_button.on_click(on_save_csv_button_clicked)\n",
    "\n",
    "display(save_recommendations_button, save_csv_output)"
   ]
  },
  {
   "cell_type": "code",
   "execution_count": null,
   "id": "af40773d-3e8b-4dbd-a248-f29de9d9c4d9",
   "metadata": {},
   "outputs": [],
   "source": []
  }
 ],
 "metadata": {
  "kernelspec": {
   "display_name": "Python 3 (ipykernel)",
   "language": "python",
   "name": "python3"
  },
  "language_info": {
   "codemirror_mode": {
    "name": "ipython",
    "version": 3
   },
   "file_extension": ".py",
   "mimetype": "text/x-python",
   "name": "python",
   "nbconvert_exporter": "python",
   "pygments_lexer": "ipython3",
   "version": "3.12.10"
  }
 },
 "nbformat": 4,
 "nbformat_minor": 5
}
