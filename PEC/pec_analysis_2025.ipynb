{
 "cells": [
  {
   "cell_type": "markdown",
   "id": "15ddc800-72a0-42eb-bfcb-08def7ed29c5",
   "metadata": {},
   "source": [
    "# Summer Student 2025 Analysis - PEC"
   ]
  },
  {
   "cell_type": "code",
   "execution_count": 1,
   "id": "100bd820-63ef-4eb3-a2cd-e023afb95a30",
   "metadata": {
    "tags": []
   },
   "outputs": [],
   "source": [
    "%%capture\n",
    "%matplotlib widget\n",
    "#!pip install requests_cache\n",
    "\n",
    "import matplotlib.pyplot as plt\n",
    "import time\n",
    "import requests\n",
    "import pandas as pd\n",
    "import numpy as np\n",
    "import datetime\n",
    "\n",
    "import plotly.graph_objects as go\n",
    "from scipy.signal import find_peaks\n",
    "\n",
    "import ipywidgets as widgets\n",
    "from IPython.display import display\n",
    "\n",
    "import sys\n",
    "sys.path.insert(1, '../python-scripts-c6fxKDJrSsWp1xCxON1Y7g')\n",
    "sys.path.insert(1, '../../python-scripts-c6fxKDJrSsWp1xCxON1Y7g')\n",
    "from api_calls import *\n",
    "from pec_activity_stability_functions import *\n",
    "\n",
    "url = \"https://nomad-hzb-ce.de/nomad-oasis/api/v1\"\n",
    "\n",
    "import os\n",
    "token = os.environ['NOMAD_CLIENT_ACCESS_TOKEN']"
   ]
  },
  {
   "cell_type": "code",
   "execution_count": 2,
   "id": "d605024b-cb56-4445-adae-e0d9a7a70d27",
   "metadata": {
    "tags": []
   },
   "outputs": [],
   "source": [
    "def get_ids_of_all_samples(url, token, author_name, sample_type='CE_NOME_Sample'):\n",
    "    row = {\"entry_type\":sample_type,\n",
    "           #\"authors.name\": \"Abdelrahman Ishmael\"\n",
    "           #\"authors.name\": \"Sofia Muñoz\"\n",
    "           #\"authors.name\": \"Felipe Mata mata\"\n",
    "           \"authors.name\": author_name\n",
    "        }\n",
    "    query = {\n",
    "        'required': {\n",
    "            'metadata': '*',\n",
    "            'data': '*',\n",
    "        },\n",
    "        'owner': 'visible',\n",
    "        'query': row,\n",
    "        'pagination': {\n",
    "            'page_size': 100\n",
    "        }\n",
    "    }\n",
    "    response = requests.post(f'{url}/entries/archive/query',\n",
    "                             headers={'Authorization': f'Bearer {token}'}, json=query)\n",
    "    return [s[\"archive\"][\"data\"].get(\"lab_id\") for s in response.json()[\"data\"] if s[\"archive\"][\"data\"].get(\"lab_id\")]\n",
    "\n",
    "def get_overview_table(sample_id_list):\n",
    "    columns = [\"Sample_id\", \"env_id\", \"Bi(NO3)3 5H2O\", \"KI\", \"LA\", \"VO(acac)2\", \"benzoquinone\", \"ph\", \"G1_mAcm_2\", \"G_time\", \"N1_mAcm_2\", \"N_time\", \"NG_time\", \"no_cycles\"]\n",
    "    overview_table = pd.DataFrame(columns=columns)\n",
    "    for sample_id in sample_id_list:\n",
    "        try:\n",
    "            row = {\"Sample_id\":sample_id}\n",
    "            data = get_specific_data_of_sample(url, token, sample_id, \"\", with_meta=True)            \n",
    "            data.sort(key=lambda x: datetime.datetime.strptime(x[0].get('datetime'), \"%Y-%m-%dT%H:%M:%S.%f+00:00\") if \".\" in x[0].get('datetime') else\n",
    "             datetime.datetime.strptime(x[0].get('datetime'), \"%Y-%m-%dT%H:%M:%S+00:00\")       \n",
    "             )\n",
    "    \n",
    "            N = data[0]\n",
    "            G = data[1]\n",
    "            NG = data[2]\n",
    "            env = get_environment(url, token,N[1][\"entry_id\"])\n",
    "            for s in env[\"substances\"]:\n",
    "                if \"Bi(NO3)3 5H2O\" in s[\"name\"]:\n",
    "                    row.update({\"Bi(NO3)3 5H2O\":s[\"concentration_mmol_per_l\"]})\n",
    "                if \"KI\" in s[\"name\"]:\n",
    "                    row.update({\"KI\":s[\"concentration_mmol_per_l\"]})\n",
    "                if \"Lactic Acid\" in s[\"name\"] or \"Lactic\" in s[\"name\"]:\n",
    "                    row.update({\"LA\":s[\"concentration_mmol_per_l\"]})\n",
    "                if \"Benzoquinone\" in s[\"name\"]:\n",
    "                    row.update({\"benzoquinone\":s[\"concentration_mmol_per_l\"]})\n",
    "                if \"VO(acac)2\" in s[\"name\"]:\n",
    "                    row.update({\"VO(acac)2\":s[\"concentration_mmol_per_l\"]})\n",
    "            row.update({\"env_id\":env[\"lab_id\"]})\n",
    "            row.update({\"ph\":env[\"ph_value\"]})\n",
    "            sample_area = N[0][\"properties\"][\"sample_area\"] / 1000 #mAcm_2\n",
    "            row.update({\"N1_mAcm_2\":N[0][\"properties\"][\"step_1_current\"]/sample_area})\n",
    "            row.update({\"N_time\":N[0][\"properties\"][\"step_1_time\"]})\n",
    "            row.update({\"no_cycles\":(len(data)-1) // 2})\n",
    "            sample_area = G[0][\"properties\"][\"sample_area\"] / 1000 #mAcm_2\n",
    "            row.update({\"G1_mAcm_2\":G[0][\"properties\"][\"step_1_current\"]/sample_area})\n",
    "            row.update({\"G_time\":G[0][\"properties\"][\"step_1_time\"]})\n",
    "            row.update({\"NG_time\":NG[0][\"properties\"][\"step_1_time\"]})\n",
    "            overview_table.loc[len(overview_table)] = row\n",
    "        except:\n",
    "            if sample_id != 'CE-NOME_FeMa_250709_0001':\n",
    "                print(sample_id, \"didnt work\")\n",
    "    return overview_table"
   ]
  },
  {
   "cell_type": "code",
   "execution_count": 3,
   "id": "dd94c355-c754-4825-97da-f03879ef7da9",
   "metadata": {},
   "outputs": [],
   "source": [
    "# all ipywidgets\n",
    "\n",
    "# FFT = Furthest-First Traversal\n",
    "author_selector = widgets.Dropdown(\n",
    "    options=['Felipe Mata mata', 'Maddalena Zoli'],\n",
    "    value='Felipe Mata mata',\n",
    "    description='NOMAD author:',\n",
    "    style={'description_width': 'initial'}\n",
    ")\n",
    "\n",
    "sample_selector = widgets.Dropdown(\n",
    "    description=\"Select SampleID:\",\n",
    "    style={'description_width': 'initial'}\n",
    ")\n",
    "\n",
    "get_button = widgets.Button(\n",
    "    description='Get NOMAD data',\n",
    "    button_style='success',\n",
    "    layout=widgets.Layout(width='auto')\n",
    ")\n",
    "\n",
    "analysis_button = widgets.Button(\n",
    "    description='Analyse PEC data',\n",
    "    button_style='info',\n",
    "    layout=widgets.Layout(width='auto')\n",
    ")\n",
    "\n",
    "\n",
    "safe_baybe_button = widgets.Button(\n",
    "    description='Safe data for Bayesian Optimization',\n",
    "    button_style='primary',\n",
    "    layout=widgets.Layout(width='auto')\n",
    ")\n",
    "\n",
    "show_sample_details_button = widgets.Button(\n",
    "    description=\"Show plots for selected sample ID\",\n",
    "    button_style='info',\n",
    "    layout=widgets.Layout(width='auto')\n",
    ")\n",
    "\n",
    "all_runs_output = widgets.Output()\n",
    "analysis_output = widgets.Output()\n",
    "baybe_output = widgets.Output()\n",
    "sample_select_output = widgets.Output()\n",
    "sample_detail_output = widgets.Output()\n",
    "\n",
    "out1 = widgets.Output()\n",
    "out2 = widgets.Output()\n",
    "out3 = widgets.Output()\n",
    "\n",
    "tab = widgets.Tab(children=[out1, out2, out3])\n",
    "tab.set_title(0, 'Activity')\n",
    "tab.set_title(1, 'Stability')\n",
    "tab.set_title(2, 'Images')"
   ]
  },
  {
   "cell_type": "code",
   "execution_count": 4,
   "id": "9647446b-4579-4ee8-8c11-48e8343e32ca",
   "metadata": {},
   "outputs": [
    {
     "data": {
      "application/vnd.jupyter.widget-view+json": {
       "model_id": "c8d12640393448c5b227d5e5f4fabb6b",
       "version_major": 2,
       "version_minor": 0
      },
      "text/plain": [
       "Dropdown(description='NOMAD author:', options=('Felipe Mata mata', 'Maddalena Zoli'), style=DescriptionStyle(d…"
      ]
     },
     "metadata": {},
     "output_type": "display_data"
    }
   ],
   "source": [
    "def on_author_change(change):\n",
    "    if change['type'] == 'change' and change['name'] == 'value':\n",
    "        all_runs_output.clear_output()\n",
    "        analysis_output.clear_output()\n",
    "        baybe_output.clear_output()\n",
    "        sample_select_output.clear_output()\n",
    "        sample_detail_output.clear_output()\n",
    "\n",
    "author_selector.observe(on_author_change)\n",
    "\n",
    "display(author_selector)"
   ]
  },
  {
   "cell_type": "markdown",
   "id": "34216bfc-6b7c-46eb-b0b3-e39cf3254b70",
   "metadata": {},
   "source": [
    "## Show overview of all samples"
   ]
  },
  {
   "cell_type": "code",
   "execution_count": 5,
   "id": "8cdbee48-edc2-4ce6-b035-1f3f978d834f",
   "metadata": {
    "tags": []
   },
   "outputs": [
    {
     "data": {
      "application/vnd.jupyter.widget-view+json": {
       "model_id": "6a4505741b9342c2bae7dadcb8ad9334",
       "version_major": 2,
       "version_minor": 0
      },
      "text/plain": [
       "Button(button_style='success', description='Get NOMAD data', layout=Layout(width='auto'), style=ButtonStyle())"
      ]
     },
     "metadata": {},
     "output_type": "display_data"
    },
    {
     "data": {
      "application/vnd.jupyter.widget-view+json": {
       "model_id": "c8ce0db268d447b2811a8d8a1e2faa01",
       "version_major": 2,
       "version_minor": 0
      },
      "text/plain": [
       "Output()"
      ]
     },
     "metadata": {},
     "output_type": "display_data"
    }
   ],
   "source": [
    "overview_table = pd.DataFrame()\n",
    "\n",
    "def on_button_clicked(b):\n",
    "    global samples, overview_table\n",
    "    with all_runs_output:\n",
    "        all_runs_output.clear_output()\n",
    "        analysis_output.clear_output()\n",
    "        print('Getting data. This can take some time...')\n",
    "        samples = get_ids_of_all_samples(url, token, author_selector.value)\n",
    "        samples = sorted(samples)\n",
    "        overview_table = get_overview_table(samples)\n",
    "        samples = np.array(overview_table['Sample_id'])\n",
    "        all_runs_output.clear_output()\n",
    "        display(overview_table)\n",
    "\n",
    "get_button.on_click(on_button_clicked)\n",
    "\n",
    "display(get_button, all_runs_output)\n",
    "\n",
    "# TODO pH spalte?? und spalten rampCmin, temp1_C und time_min fehlen"
   ]
  },
  {
   "cell_type": "markdown",
   "id": "cf261570-6c00-4ed7-a5a3-9dd0b55ef1b6",
   "metadata": {},
   "source": [
    "## Analyse PEC for given samples"
   ]
  },
  {
   "cell_type": "code",
   "execution_count": 6,
   "id": "60b383ff-78b7-4ade-8d33-4ba9f120a8fb",
   "metadata": {},
   "outputs": [
    {
     "data": {
      "application/vnd.jupyter.widget-view+json": {
       "model_id": "19aed9a16bdb41fe9abc879c7714096b",
       "version_major": 2,
       "version_minor": 0
      },
      "text/plain": [
       "Button(button_style='info', description='Analyse PEC data', layout=Layout(width='auto'), style=ButtonStyle())"
      ]
     },
     "metadata": {},
     "output_type": "display_data"
    },
    {
     "data": {
      "application/vnd.jupyter.widget-view+json": {
       "model_id": "d7892f130fc4423d9c23b1428e2a140c",
       "version_major": 2,
       "version_minor": 0
      },
      "text/plain": [
       "Output()"
      ]
     },
     "metadata": {},
     "output_type": "display_data"
    }
   ],
   "source": [
    "# TODO get stability values\n",
    "# TODO make table for BO\n",
    "\n",
    "def on_analysis_clicked(b):\n",
    "    if overview_table.empty:\n",
    "        with analysis_output:\n",
    "            analysis_output.clear_output()\n",
    "            print('Please use the \"Get NOMAD data\" button first.')\n",
    "            return\n",
    "    \n",
    "    with analysis_output:\n",
    "        analysis_output.clear_output()\n",
    "        print('Evaluating data. This can take some time...')\n",
    "        for sample_id in samples:\n",
    "            entry_id = get_entryid(url, token, sample_id)\n",
    "            description = get_entry_data(url, token, entry_id).get('description')\n",
    "            overview_table.loc[overview_table['Sample_id']==sample_id, 'description'] = description\n",
    "        \n",
    "            if description and 'no deposition' in description:\n",
    "                overview_table.loc[overview_table['Sample_id']==sample_id, 'activity'] = 0\n",
    "                overview_table.loc[overview_table['Sample_id']==sample_id, 'stability'] = 1\n",
    "        \n",
    "            photoactivity_entries = get_photoactivity_data_for_samples(url, token, [entry_id])\n",
    "            for ca_data in photoactivity_entries:\n",
    "                time = np.array(ca_data['archive']['data'].get('time'))\n",
    "                current = np.array(ca_data['archive']['data'].get('current'))\n",
    "                photoactivity_results = analyse_photoactivity(current, time)\n",
    "                overview_table.loc[overview_table['Sample_id']==sample_id, 'activity'] = photoactivity_results['mean_delta_I']\n",
    "        analysis_output.clear_output()\n",
    "        display(overview_table)\n",
    "\n",
    "    if not overview_table.empty:\n",
    "        sample_selector.options = list(overview_table['Sample_id'])\n",
    "        with sample_select_output:\n",
    "            sample_select_output.clear_output()\n",
    "            display(sample_selector)\n",
    "\n",
    "analysis_button.on_click(on_analysis_clicked)\n",
    "\n",
    "display(analysis_button, analysis_output)"
   ]
  },
  {
   "cell_type": "markdown",
   "id": "6321dae2-bfd5-44da-a6ba-47b1ca735930",
   "metadata": {},
   "source": [
    "## Inspect individual samples"
   ]
  },
  {
   "cell_type": "code",
   "execution_count": 7,
   "id": "fdf67b06-d11e-47d7-a8f6-fdf7a01f3d16",
   "metadata": {},
   "outputs": [],
   "source": [
    "def get_image_list(sample_id):\n",
    "    data = get_specific_data_of_sample(url, token, sample_id, \"CE_NOME_Measurement\", with_meta=True)\n",
    "    image_path_list = []\n",
    "    for nomad_entry in data:\n",
    "        data, metadata = nomad_entry\n",
    "        file_name = data.get('data_file')[0]\n",
    "        upload_name = metadata.get('upload_name')\n",
    "        upload_id = metadata.get('upload_id')\n",
    "        file_path = f'../../{upload_name.lower().replace(' ', '-')}-{upload_id}/{file_name}'\n",
    "        image_path_list.append(file_path)\n",
    "    return image_path_list"
   ]
  },
  {
   "cell_type": "code",
   "execution_count": 12,
   "id": "8e421720-a861-42d1-bfe5-ea452c05a391",
   "metadata": {},
   "outputs": [
    {
     "data": {
      "application/vnd.jupyter.widget-view+json": {
       "model_id": "b3a1bffb00b041bb9702964bc592abb5",
       "version_major": 2,
       "version_minor": 0
      },
      "text/plain": [
       "Output(outputs=({'output_type': 'display_data', 'data': {'text/plain': \"Dropdown(description='Select SampleID:…"
      ]
     },
     "metadata": {},
     "output_type": "display_data"
    },
    {
     "data": {
      "application/vnd.jupyter.widget-view+json": {
       "model_id": "e73ec0077fd84353869c8a3dfa52182c",
       "version_major": 2,
       "version_minor": 0
      },
      "text/plain": [
       "Output(outputs=({'output_type': 'display_data', 'data': {'text/plain': 'Tab(children=(Output(), Output(), Outp…"
      ]
     },
     "metadata": {},
     "output_type": "display_data"
    }
   ],
   "source": [
    "def on_sample_id_change(change):\n",
    "    if change['name'] == 'value' and change['new'] is not None:\n",
    "        sample_id = change['new']\n",
    "        entry_id = get_entryid(url, token, sample_id)\n",
    "        with sample_select_output:\n",
    "            sample_select_output.clear_output()\n",
    "            sample_detail_output.clear_output()\n",
    "            display(sample_selector, overview_table[overview_table['Sample_id']==sample_id])\n",
    "        with out1:\n",
    "            out1.clear_output()\n",
    "            photoactivity_entries = get_photoactivity_data_for_samples(url, token, [entry_id])\n",
    "            for ca_data in photoactivity_entries:\n",
    "                upload_name = ca_data['archive']['metadata'].get('upload_name', '')\n",
    "                if sample_id in upload_name:\n",
    "                    time = np.array(ca_data['archive']['data'].get('time'))\n",
    "                    current = np.array(ca_data['archive']['data'].get('current'))\n",
    "                    photoactivity_results = analyse_photoactivity(current, time)\n",
    "                    print(f'{upload_name}, Mean ΔI: {photoactivity_results['mean_delta_I']}')\n",
    "                    fig = get_photoactivity_plot(time, current, photoactivity_results)\n",
    "                    fig.show()\n",
    "        with out2:\n",
    "            out2.clear_output()\n",
    "            stability_entries = get_stability_data_for_samples(url, token, [entry_id])\n",
    "            show_stability_plots(stability_entries)\n",
    "            show_cleaned_stability_plots(stability_entries)\n",
    "        with out3:\n",
    "            out3.clear_output()\n",
    "            image_paths = get_image_list(sample_id)\n",
    "            #box = widgets.HBox([widgets.Image(value=open(b, 'rb').read(), format='png', width=200) for b in image_paths])\n",
    "            box = widgets.HBox([widgets.Image(value=open(b, 'rb').read(), format='png') for b in image_paths])\n",
    "            display(box)\n",
    "        with sample_detail_output:\n",
    "            sample_detail_output.clear_output()\n",
    "            display(tab)\n",
    "\n",
    "sample_selector.observe(on_sample_id_change, names='value')\n",
    "\n",
    "if 'stability' not in overview_table:\n",
    "    with sample_select_output:\n",
    "        print('Please run the \"Analyse PEC data\" button before inspecting individual parameter sets.')\n",
    "\n",
    "display(sample_select_output, sample_detail_output)\n"
   ]
  },
  {
   "cell_type": "code",
   "execution_count": null,
   "id": "c333ebd8-c592-42e6-b834-c9a27219a3d3",
   "metadata": {},
   "outputs": [],
   "source": []
  }
 ],
 "metadata": {
  "kernelspec": {
   "display_name": "Python 3 (ipykernel)",
   "language": "python",
   "name": "python3"
  },
  "language_info": {
   "codemirror_mode": {
    "name": "ipython",
    "version": 3
   },
   "file_extension": ".py",
   "mimetype": "text/x-python",
   "name": "python",
   "nbconvert_exporter": "python",
   "pygments_lexer": "ipython3",
   "version": "3.12.10"
  }
 },
 "nbformat": 4,
 "nbformat_minor": 5
}
