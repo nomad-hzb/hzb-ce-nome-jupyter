{
 "cells": [
  {
   "cell_type": "markdown",
   "id": "15ddc800-72a0-42eb-bfcb-08def7ed29c5",
   "metadata": {},
   "source": [
    "# Summer Student 2025 Analysis - PEC"
   ]
  },
  {
   "cell_type": "code",
   "execution_count": 1,
   "id": "100bd820-63ef-4eb3-a2cd-e023afb95a30",
   "metadata": {
    "tags": []
   },
   "outputs": [],
   "source": [
    "%%capture\n",
    "%matplotlib widget\n",
    "#!pip install requests_cache\n",
    "\n",
    "import matplotlib.pyplot as plt\n",
    "import time\n",
    "import requests\n",
    "import pandas as pd\n",
    "import numpy as np\n",
    "import datetime\n",
    "\n",
    "import plotly.graph_objects as go\n",
    "from scipy.signal import find_peaks\n",
    "\n",
    "import ipywidgets as widgets\n",
    "from IPython.display import display\n",
    "\n",
    "import sys\n",
    "sys.path.insert(1, '../python-scripts-c6fxKDJrSsWp1xCxON1Y7g')\n",
    "sys.path.insert(1, '../../python-scripts-c6fxKDJrSsWp1xCxON1Y7g')\n",
    "from api_calls import *\n",
    "from pec_activity_stability_functions import *\n",
    "\n",
    "url = \"https://nomad-hzb-ce.de/nomad-oasis/api/v1\"\n",
    "\n",
    "import os\n",
    "token = os.environ['NOMAD_CLIENT_ACCESS_TOKEN']"
   ]
  },
  {
   "cell_type": "code",
   "execution_count": 2,
   "id": "d605024b-cb56-4445-adae-e0d9a7a70d27",
   "metadata": {
    "tags": []
   },
   "outputs": [],
   "source": [
    "def get_ids_of_all_samples(url, token, author_name, sample_type='CE_NOME_Sample'):\n",
    "    row = {\"entry_type\":sample_type,\n",
    "           #\"authors.name\": \"Abdelrahman Ishmael\"\n",
    "           #\"authors.name\": \"Sofia Muñoz\"\n",
    "           #\"authors.name\": \"Felipe Mata mata\"\n",
    "           \"authors.name\": author_name\n",
    "        }\n",
    "    query = {\n",
    "        'required': {\n",
    "            'metadata': '*',\n",
    "            'data': '*',\n",
    "        },\n",
    "        'owner': 'visible',\n",
    "        'query': row,\n",
    "        'pagination': {\n",
    "            'page_size': 100\n",
    "        }\n",
    "    }\n",
    "    response = requests.post(f'{url}/entries/archive/query',\n",
    "                             headers={'Authorization': f'Bearer {token}'}, json=query)\n",
    "    return [s[\"archive\"][\"data\"].get(\"lab_id\") for s in response.json()[\"data\"] if s[\"archive\"][\"data\"].get(\"lab_id\")]\n",
    "\n",
    "def get_overview_table(sample_id_list):\n",
    "    columns = [\"Sample_id\", \"Bi(NO3)3 5H2O\", \"KI\", \"LA\", \"VO(acac)2\", \"benzoquinone\", \"G1_mAcm_2\", \"G_time\", \"N1_mAcm_2\", \"N_time\", \"NG_time\", \"no_cycles\"]\n",
    "    overview_table = pd.DataFrame(columns=columns)\n",
    "    for sample_id in sample_id_list:\n",
    "        try:\n",
    "            row = {\"Sample_id\":sample_id}\n",
    "            data = get_specific_data_of_sample(url, token, sample_id, \"\", with_meta=True)            \n",
    "            data.sort(key=lambda x: datetime.datetime.strptime(x[0].get('datetime'), \"%Y-%m-%dT%H:%M:%S.%f+00:00\") if \".\" in x[0].get('datetime') else\n",
    "             datetime.datetime.strptime(x[0].get('datetime'), \"%Y-%m-%dT%H:%M:%S+00:00\")       \n",
    "             )\n",
    "    \n",
    "            N = data[0]\n",
    "            G = data[1]\n",
    "            NG = data[2]\n",
    "            env = get_environment(url, token,N[1][\"entry_id\"])\n",
    "            for s in env[\"substances\"]:\n",
    "                if \"Bi(NO3)3 5H2O\" in s[\"name\"] or \"BiN\" in s[\"name\"] or \"Bi(NO3)3 x 5H2O\" in s[\"name\"]:\n",
    "                    row.update({\"Bi(NO3)3 5H2O\":s[\"concentration_mmol_per_l\"]})\n",
    "                if \"KI\" in s[\"name\"]:\n",
    "                    row.update({\"KI\":s[\"concentration_mmol_per_l\"]})\n",
    "                if \"Lactic Acid\" in s[\"name\"] or \"Lactic\" in s[\"name\"] or \"LA\" in s[\"name\"]:\n",
    "                    row.update({\"LA\":s[\"concentration_mmol_per_l\"]})\n",
    "                if \"Benzoquinone\" in s[\"name\"] or \"benzo\" in s[\"name\"]:\n",
    "                    row.update({\"benzoquinone\":s[\"concentration_mmol_per_l\"]})\n",
    "                if \"VO(acac)2\" in s[\"name\"]:\n",
    "                    row.update({\"VO(acac)2\":s[\"concentration_mmol_per_l\"]})\n",
    "            sample_area = N[0][\"properties\"][\"sample_area\"] / 1000 #mAcm_2\n",
    "            row.update({\"N1_mAcm_2\":N[0][\"properties\"][\"step_1_current\"]/sample_area})\n",
    "            row.update({\"N_time\":N[0][\"properties\"][\"step_1_time\"]})\n",
    "            row.update({\"no_cycles\":(len(data)-1) // 2})\n",
    "            sample_area = G[0][\"properties\"][\"sample_area\"] / 1000 #mAcm_2\n",
    "            row.update({\"G1_mAcm_2\":G[0][\"properties\"][\"step_1_current\"]/sample_area})\n",
    "            row.update({\"G_time\":G[0][\"properties\"][\"step_1_time\"]})\n",
    "            row.update({\"NG_time\":NG[0][\"properties\"][\"step_1_time\"]})\n",
    "            overview_table.loc[len(overview_table)] = row\n",
    "        except:\n",
    "            if sample_id != 'CE-NOME_FeMa_250709_0001':\n",
    "                print(sample_id, \"didnt work\")\n",
    "    return overview_table\n",
    "\n",
    "def get_nife_deposition_params(sample_id_list):\n",
    "    nife_dict = {}\n",
    "    for sample_id in sample_id_list:\n",
    "        data = get_specific_data_of_sample(url, token, sample_id, 'CE_NOME_Chronopotentiometry', with_meta=True)\n",
    "        nife_env = []\n",
    "        for cp in data:\n",
    "            data, metadata = cp\n",
    "            if metadata.get('upload_name').startswith('NiFe'):\n",
    "                env_data = get_environment(url, token, metadata.get('entry_id'))\n",
    "                env = {}\n",
    "                for s in env_data.get('substances'):\n",
    "                    if \"Ni(NO3)2 6H2O\" in s[\"name\"]:\n",
    "                        env['ni'] = s[\"concentration_mmol_per_l\"]\n",
    "                    if \"FeCl2 4H2O\" in s[\"name\"]:\n",
    "                        env['fe'] = s[\"concentration_mmol_per_l\"]\n",
    "                nife_env.append(env)\n",
    "        if nife_env:\n",
    "            nife_dict[sample_id] = nife_env\n",
    "    return nife_dict"
   ]
  },
  {
   "cell_type": "code",
   "execution_count": 3,
   "id": "dd94c355-c754-4825-97da-f03879ef7da9",
   "metadata": {},
   "outputs": [],
   "source": [
    "# all ipywidgets\n",
    "\n",
    "author_selector = widgets.Dropdown(\n",
    "    options=['Felipe Mata mata', 'Maddalena Zoli'],\n",
    "    value='Felipe Mata mata',\n",
    "    description='NOMAD author:',\n",
    "    style={'description_width': 'initial'}\n",
    ")\n",
    "\n",
    "sample_selector = widgets.Dropdown(\n",
    "    description=\"Select SampleID:\",\n",
    "    style={'description_width': 'initial'}\n",
    ")\n",
    "\n",
    "parameter_selector = widgets.Dropdown(\n",
    "    options=['BiVO4 electrodeposition (\"fast\")', 'synthesis BiVO4 and NiFe (\"slow\")'],\n",
    "    value=None,\n",
    "    description='Select parameter set:',\n",
    "    style={'description_width': 'initial'},\n",
    "    layout=widgets.Layout(width='500px'),\n",
    ")\n",
    "\n",
    "get_button = widgets.Button(\n",
    "    description='Get NOMAD data',\n",
    "    button_style='success',\n",
    "    layout=widgets.Layout(width='auto')\n",
    ")\n",
    "\n",
    "analysis_button = widgets.Button(\n",
    "    description='Analyse PEC data',\n",
    "    button_style='info',\n",
    "    layout=widgets.Layout(width='auto')\n",
    ")\n",
    "\n",
    "\n",
    "save_baybe_button = widgets.Button(\n",
    "    description='Save data for Bayesian Optimization',\n",
    "    button_style='primary',\n",
    "    layout=widgets.Layout(width='auto')\n",
    ")\n",
    "\n",
    "show_sample_details_button = widgets.Button(\n",
    "    description=\"Show plots for selected sample ID\",\n",
    "    button_style='info',\n",
    "    layout=widgets.Layout(width='auto')\n",
    ")\n",
    "\n",
    "all_runs_output = widgets.Output()\n",
    "analysis_output = widgets.Output()\n",
    "baybe_output = widgets.Output()\n",
    "sample_select_output = widgets.Output()\n",
    "sample_detail_output = widgets.Output()\n",
    "\n",
    "out1 = widgets.Output()\n",
    "out2 = widgets.Output()\n",
    "out3 = widgets.Output()\n",
    "\n",
    "tab = widgets.Tab(children=[out1, out2, out3])\n",
    "tab.set_title(0, 'Activity')\n",
    "tab.set_title(1, 'Stability')\n",
    "tab.set_title(2, 'Images')"
   ]
  },
  {
   "cell_type": "code",
   "execution_count": 4,
   "id": "9647446b-4579-4ee8-8c11-48e8343e32ca",
   "metadata": {},
   "outputs": [
    {
     "data": {
      "application/vnd.jupyter.widget-view+json": {
       "model_id": "3772632902ab4a7fa630c53d982e7119",
       "version_major": 2,
       "version_minor": 0
      },
      "text/plain": [
       "Dropdown(description='NOMAD author:', options=('Felipe Mata mata', 'Maddalena Zoli'), style=DescriptionStyle(d…"
      ]
     },
     "metadata": {},
     "output_type": "display_data"
    }
   ],
   "source": [
    "def on_author_change(change):\n",
    "    if change['type'] == 'change' and change['name'] == 'value':\n",
    "        all_runs_output.clear_output()\n",
    "        analysis_output.clear_output()\n",
    "        baybe_output.clear_output()\n",
    "        sample_select_output.clear_output()\n",
    "        sample_detail_output.clear_output()\n",
    "\n",
    "author_selector.observe(on_author_change)\n",
    "\n",
    "display(author_selector)"
   ]
  },
  {
   "cell_type": "markdown",
   "id": "34216bfc-6b7c-46eb-b0b3-e39cf3254b70",
   "metadata": {},
   "source": [
    "## Show overview of all samples"
   ]
  },
  {
   "cell_type": "code",
   "execution_count": 5,
   "id": "8cdbee48-edc2-4ce6-b035-1f3f978d834f",
   "metadata": {
    "tags": []
   },
   "outputs": [
    {
     "data": {
      "application/vnd.jupyter.widget-view+json": {
       "model_id": "8a5ff79f07b3439a9d7b7db49d63e585",
       "version_major": 2,
       "version_minor": 0
      },
      "text/plain": [
       "Button(button_style='success', description='Get NOMAD data', layout=Layout(width='auto'), style=ButtonStyle())"
      ]
     },
     "metadata": {},
     "output_type": "display_data"
    },
    {
     "data": {
      "application/vnd.jupyter.widget-view+json": {
       "model_id": "13b349ea503d432c85e986b2f4774107",
       "version_major": 2,
       "version_minor": 0
      },
      "text/plain": [
       "Output()"
      ]
     },
     "metadata": {},
     "output_type": "display_data"
    }
   ],
   "source": [
    "overview_table = pd.DataFrame()\n",
    "\n",
    "def on_button_clicked(b):\n",
    "    global samples, overview_table\n",
    "    with all_runs_output:\n",
    "        all_runs_output.clear_output()\n",
    "        analysis_output.clear_output()\n",
    "        print('Getting data. This can take some time...')\n",
    "        samples = get_ids_of_all_samples(url, token, author_selector.value)\n",
    "        samples = sorted(samples)\n",
    "        overview_table = get_overview_table(samples)\n",
    "        samples = np.array(overview_table['Sample_id'])\n",
    "        nife_dict = get_nife_deposition_params(samples)\n",
    "        all_runs_output.clear_output()\n",
    "        for sample_id, element_list in nife_dict.items():\n",
    "            if len(element_list) > 1:\n",
    "                print('Found more than one NiFe deposition for sample {sample_id}')\n",
    "            if sample_id in overview_table[\"Sample_id\"].values:\n",
    "                overview_table.loc[overview_table[\"Sample_id\"] == sample_id, \"Ni\"] = element_list[0][\"ni\"]\n",
    "                overview_table.loc[overview_table[\"Sample_id\"] == sample_id, \"Fe\"] = element_list[0][\"fe\"]\n",
    "        display(overview_table)\n",
    "\n",
    "get_button.on_click(on_button_clicked)\n",
    "\n",
    "display(get_button, all_runs_output)"
   ]
  },
  {
   "cell_type": "markdown",
   "id": "cf261570-6c00-4ed7-a5a3-9dd0b55ef1b6",
   "metadata": {},
   "source": [
    "## Analyse PEC for given samples\n",
    "\n",
    "Note: activity values of -1 mean, that the algorithm could not find an activity value. In the future we can calculate these values individually and set them manually."
   ]
  },
  {
   "cell_type": "code",
   "execution_count": 6,
   "id": "60b383ff-78b7-4ade-8d33-4ba9f120a8fb",
   "metadata": {},
   "outputs": [
    {
     "data": {
      "application/vnd.jupyter.widget-view+json": {
       "model_id": "5486309a9814468f8abb402d4cb73130",
       "version_major": 2,
       "version_minor": 0
      },
      "text/plain": [
       "Button(button_style='info', description='Analyse PEC data', layout=Layout(width='auto'), style=ButtonStyle())"
      ]
     },
     "metadata": {},
     "output_type": "display_data"
    },
    {
     "data": {
      "application/vnd.jupyter.widget-view+json": {
       "model_id": "c929b729d0854da8a564a167258ac3ca",
       "version_major": 2,
       "version_minor": 0
      },
      "text/plain": [
       "Output()"
      ]
     },
     "metadata": {},
     "output_type": "display_data"
    }
   ],
   "source": [
    "def on_analysis_clicked(b):\n",
    "    if overview_table.empty:\n",
    "        with analysis_output:\n",
    "            analysis_output.clear_output()\n",
    "            print('Please use the \"Get NOMAD data\" button first.')\n",
    "            return\n",
    "    \n",
    "    with analysis_output:\n",
    "        analysis_output.clear_output()\n",
    "        print('Evaluating data. This can take some time...')\n",
    "        for sample_id in samples:\n",
    "            entry_id = get_entryid(url, token, sample_id)\n",
    "            description = get_entry_data(url, token, entry_id).get('description')\n",
    "            overview_table.loc[overview_table['Sample_id']==sample_id, 'description'] = description\n",
    "        \n",
    "            if description and ('no deposition' in description or 'no good deposition' in description):\n",
    "                overview_table.loc[overview_table['Sample_id']==sample_id, 'activity'] = 0\n",
    "                overview_table.loc[overview_table['Sample_id']==sample_id, 'stability'] = 100\n",
    "        \n",
    "            photoactivity_entries = get_photoactivity_data_for_samples(url, token, [entry_id])\n",
    "            for ca_data in photoactivity_entries:\n",
    "                time = np.array(ca_data['archive']['data'].get('time'))\n",
    "                current = np.array(ca_data['archive']['data'].get('current'))\n",
    "                photoactivity_results = analyse_photoactivity(current, time)\n",
    "                overview_table.loc[overview_table['Sample_id']==sample_id, 'activity'] = photoactivity_results['mean_delta_I']\n",
    "\n",
    "            stability_entries = get_stability_data_for_samples(url, token, [entry_id])\n",
    "            for entry in stability_entries:\n",
    "                time = np.array(entry['archive']['data'].get('time'))\n",
    "                voltage = np.array(entry['archive']['data'].get('voltage'))\n",
    "                stability_analysis_result = analyse_stability(time, voltage)\n",
    "                overview_table.loc[overview_table['Sample_id']==sample_id, 'stability'] = stability_analysis_result['percentage_of_loss']\n",
    "                \n",
    "        analysis_output.clear_output()\n",
    "        display(overview_table)\n",
    "\n",
    "    if not overview_table.empty:\n",
    "        sample_selector.options = list(overview_table['Sample_id'])\n",
    "        with sample_select_output:\n",
    "            sample_select_output.clear_output()\n",
    "            display(sample_selector)\n",
    "\n",
    "analysis_button.on_click(on_analysis_clicked)\n",
    "\n",
    "display(analysis_button, analysis_output)"
   ]
  },
  {
   "cell_type": "markdown",
   "id": "6321dae2-bfd5-44da-a6ba-47b1ca735930",
   "metadata": {},
   "source": [
    "## Inspect individual samples"
   ]
  },
  {
   "cell_type": "code",
   "execution_count": 7,
   "id": "fdf67b06-d11e-47d7-a8f6-fdf7a01f3d16",
   "metadata": {},
   "outputs": [],
   "source": [
    "def get_image_list(sample_id):\n",
    "    data = get_specific_data_of_sample(url, token, sample_id, \"CE_NOME_Measurement\", with_meta=True)\n",
    "    image_path_list = []\n",
    "    for nomad_entry in data:\n",
    "        data, metadata = nomad_entry\n",
    "        file_name = data.get('data_file')[0]\n",
    "        upload_name = metadata.get('upload_name')\n",
    "        upload_id = metadata.get('upload_id')\n",
    "        file_path = f'../../{upload_name.lower().replace(' ', '-')}-{upload_id}/{file_name}'\n",
    "        image_path_list.append(file_path)\n",
    "    return image_path_list"
   ]
  },
  {
   "cell_type": "code",
   "execution_count": 8,
   "id": "8e421720-a861-42d1-bfe5-ea452c05a391",
   "metadata": {},
   "outputs": [
    {
     "data": {
      "application/vnd.jupyter.widget-view+json": {
       "model_id": "c8b9079949664538a850049b77118413",
       "version_major": 2,
       "version_minor": 0
      },
      "text/plain": [
       "Output()"
      ]
     },
     "metadata": {},
     "output_type": "display_data"
    },
    {
     "data": {
      "application/vnd.jupyter.widget-view+json": {
       "model_id": "573f9b79a9de4632986eda673c59d95a",
       "version_major": 2,
       "version_minor": 0
      },
      "text/plain": [
       "Output()"
      ]
     },
     "metadata": {},
     "output_type": "display_data"
    }
   ],
   "source": [
    "def on_sample_id_change(change):\n",
    "    if change['name'] == 'value' and change['new'] is not None:\n",
    "        sample_id = change['new']\n",
    "        entry_id = get_entryid(url, token, sample_id)\n",
    "        with sample_select_output:\n",
    "            sample_select_output.clear_output()\n",
    "            sample_detail_output.clear_output()\n",
    "            display(sample_selector, overview_table[overview_table['Sample_id']==sample_id])\n",
    "        with out1:\n",
    "            out1.clear_output()\n",
    "            photoactivity_entries = get_photoactivity_data_for_samples(url, token, [entry_id])\n",
    "            for ca_data in photoactivity_entries:\n",
    "                upload_name = ca_data['archive']['metadata'].get('upload_name', '')\n",
    "                if sample_id in upload_name:\n",
    "                    time = np.array(ca_data['archive']['data'].get('time'))\n",
    "                    current = np.array(ca_data['archive']['data'].get('current'))\n",
    "                    photoactivity_results = analyse_photoactivity(current, time)\n",
    "                    print(f'{upload_name}, Mean ΔI: {photoactivity_results['mean_delta_I']}')\n",
    "                    fig = get_photoactivity_plot(time, current, photoactivity_results)\n",
    "                    fig.show()\n",
    "        with out2:\n",
    "            out2.clear_output()\n",
    "            stability_entries = get_stability_data_for_samples(url, token, [entry_id])\n",
    "            for entry in stability_entries:\n",
    "                time = np.array(entry['archive']['data'].get('time'))\n",
    "                voltage = np.array(entry['archive']['data'].get('voltage'))\n",
    "                stability_analysis_result = analyse_stability(time, voltage)\n",
    "                fig = get_stability_plot(time, voltage, stability_analysis_result)\n",
    "                fig.show()\n",
    "        with out3:\n",
    "            out3.clear_output()\n",
    "            image_paths = get_image_list(sample_id)\n",
    "            #box = widgets.HBox([widgets.Image(value=open(b, 'rb').read(), format='png', width=200) for b in image_paths])\n",
    "            box = widgets.HBox([widgets.Image(value=open(b, 'rb').read(), format='png') for b in image_paths])\n",
    "            display(box)\n",
    "        with sample_detail_output:\n",
    "            sample_detail_output.clear_output()\n",
    "            display(tab)\n",
    "\n",
    "sample_selector.observe(on_sample_id_change, names='value')\n",
    "\n",
    "if 'activity' not in overview_table:\n",
    "    with sample_select_output:\n",
    "        print('Please run the \"Analyse PEC data\" button before inspecting individual parameter sets.')\n",
    "\n",
    "display(sample_select_output, sample_detail_output)\n"
   ]
  },
  {
   "cell_type": "markdown",
   "id": "445edbd1-b21e-40c6-8087-c4211fa54aab",
   "metadata": {},
   "source": [
    "## Save Data for Bayesian Optimization"
   ]
  },
  {
   "cell_type": "code",
   "execution_count": 9,
   "id": "80818643-fdfa-41cf-b571-2b0eabdfd104",
   "metadata": {},
   "outputs": [],
   "source": [
    "def save_deposition_baybe_table_csv(overview_df, author_name='felipe', target_col='stability'):\n",
    "    rename_baybe = {\n",
    "        'N_time': 'N1_s',\n",
    "        'G_time': 'G1_s',\n",
    "        'NG_time': 'NG1_s',\n",
    "    }\n",
    "    baybe_table = overview_df.rename(columns=rename_baybe)[['N1_mAcm_2', 'G1_mAcm_2', 'N1_s', 'G1_s', 'NG1_s', 'no_cycles', target_col]]\n",
    "    #baybe_table = baybe_table[baybe_table[target_col].notna()]\n",
    "    baybe_table.dropna(inplace=True)\n",
    "    file_name = f'baybe_csv/bivo4_electrodeposition_{author_name}.csv'\n",
    "    baybe_table.to_csv(file_name, index=False, header=True)\n",
    "    print(f'Saved table for Bayesion Optimization in {file_name}')\n",
    "    display(baybe_table)\n",
    "\n",
    "def save_synthesis_baybe_table_csv(overview_df, author_name='felipe', target_col='stability'):\n",
    "    rename_baybe = {\n",
    "        'Bi(NO3)3 5H2O': 'BiNO3_M',\n",
    "        'KI': 'KI_M',\n",
    "        'LA': 'LA_M',\n",
    "        'benzoquinone': 'benzoquinone_M',\n",
    "        'VO(acac)2': 'Vacac2_M',\n",
    "        'Ni': 'Ni_M',\n",
    "    }\n",
    "    cols = ['BiNO3_M', 'KI_M', 'LA_M', 'benzoquinone_M', 'Vacac2_M', 'Ni_M']\n",
    "    baybe_table = overview_df.rename(columns=rename_baybe)[cols + [target_col]]\n",
    "    baybe_table[cols] = baybe_table[cols] / 1000\n",
    "    #baybe_table = baybe_table[baybe_table[target_col].notna()]\n",
    "    baybe_table.dropna(inplace=True)\n",
    "    baybe_table.to_csv(f'baybe_csv/bivo4_synthesis_{author_name}.csv', index=False, header=True)\n",
    "    print(f'Saved table for Bayesion Optimization in baybe_csv/bivo4_synthesis_{author_name}.csv')\n",
    "    display(baybe_table)"
   ]
  },
  {
   "cell_type": "code",
   "execution_count": 10,
   "id": "9a142c25-a52b-4625-931a-7ef9c3309595",
   "metadata": {},
   "outputs": [
    {
     "data": {
      "application/vnd.jupyter.widget-view+json": {
       "model_id": "c7fd729fb8c447e895268849536a1dda",
       "version_major": 2,
       "version_minor": 0
      },
      "text/plain": [
       "Dropdown(description='Select parameter set:', layout=Layout(width='500px'), options=('BiVO4 electrodeposition …"
      ]
     },
     "metadata": {},
     "output_type": "display_data"
    },
    {
     "data": {
      "application/vnd.jupyter.widget-view+json": {
       "model_id": "e45fbd3646e64cf78c5a58c11eca41a1",
       "version_major": 2,
       "version_minor": 0
      },
      "text/plain": [
       "Button(button_style='primary', description='Save data for Bayesian Optimization', layout=Layout(width='auto'),…"
      ]
     },
     "metadata": {},
     "output_type": "display_data"
    },
    {
     "data": {
      "application/vnd.jupyter.widget-view+json": {
       "model_id": "8bb636b6dd824887b1277dcb514dab30",
       "version_major": 2,
       "version_minor": 0
      },
      "text/plain": [
       "Output()"
      ]
     },
     "metadata": {},
     "output_type": "display_data"
    }
   ],
   "source": [
    "parameter_selector.value = 'BiVO4 electrodeposition (\"fast\")'\n",
    "\n",
    "def on_baybe_clicked(b):\n",
    "    with baybe_output:\n",
    "        baybe_output.clear_output()\n",
    "        if 'activity' not in overview_table or overview_table.empty:\n",
    "            print('Please run the \"Analyse PEC data\" button before saving the table to csv.')\n",
    "        else:\n",
    "            first_name = author_selector.value.split()[0].lower()\n",
    "            if parameter_selector.value == 'BiVO4 electrodeposition (\"fast\")':\n",
    "                save_deposition_baybe_table_csv(overview_table, author_name=first_name, target_col='stability')\n",
    "            elif parameter_selector.value == 'synthesis BiVO4 and NiFe (\"slow\")':\n",
    "                save_synthesis_baybe_table_csv(overview_table, author_name=first_name, target_col='stability')\n",
    "\n",
    "save_baybe_button.on_click(on_baybe_clicked)\n",
    "\n",
    "display(parameter_selector, save_baybe_button, baybe_output)"
   ]
  },
  {
   "cell_type": "code",
   "execution_count": null,
   "id": "6ea19ed7-7a49-4529-87b4-8677d84e47a9",
   "metadata": {},
   "outputs": [],
   "source": []
  }
 ],
 "metadata": {
  "kernelspec": {
   "display_name": "Python 3 (ipykernel)",
   "language": "python",
   "name": "python3"
  },
  "language_info": {
   "codemirror_mode": {
    "name": "ipython",
    "version": 3
   },
   "file_extension": ".py",
   "mimetype": "text/x-python",
   "name": "python",
   "nbconvert_exporter": "python",
   "pygments_lexer": "ipython3",
   "version": "3.12.10"
  }
 },
 "nbformat": 4,
 "nbformat_minor": 5
}
