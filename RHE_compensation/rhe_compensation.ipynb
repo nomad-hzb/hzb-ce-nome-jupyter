{
 "cells": [
  {
   "cell_type": "code",
   "execution_count": 1,
   "id": "684571fb-0fc4-44f5-9bd7-f3b2ca586446",
   "metadata": {},
   "outputs": [],
   "source": [
    "%%capture\n",
    "%matplotlib widget\n",
    "#!pip install requests_cache\n",
    "\n",
    "import matplotlib.pyplot as plt\n",
    "import plotly.graph_objects as go\n",
    "import time\n",
    "import requests\n",
    "import pandas as pd\n",
    "import numpy as np\n",
    "from datetime import datetime\n",
    "import math\n",
    "\n",
    "import ipywidgets as widgets\n",
    "from IPython.display import display, clear_output\n",
    "\n",
    "import sys\n",
    "sys.path.insert(1, '../python-scripts-c6fxKDJrSsWp1xCxON1Y7g')\n",
    "sys.path.insert(1, '../../python-scripts-c6fxKDJrSsWp1xCxON1Y7g')\n",
    "from api_calls import *\n",
    "\n",
    "url = \"https://nomad-hzb-ce.de/nomad-oasis/api/v1\"\n",
    "\n",
    "import os\n",
    "token = os.environ['NOMAD_CLIENT_ACCESS_TOKEN']"
   ]
  },
  {
   "cell_type": "code",
   "execution_count": 2,
   "id": "2b7e2590-8819-4201-997c-783c67ec77c6",
   "metadata": {},
   "outputs": [],
   "source": [
    "def get_ocv_data(url, token):   \n",
    "    query = {\n",
    "        'required': {\n",
    "            'data': '*',\n",
    "        },\n",
    "        'owner': 'visible',\n",
    "        'query': {\n",
    "            'entry_type': 'CE_NOME_OpenCircuitVoltage'\n",
    "        },\n",
    "        'pagination': {\n",
    "            'page_size': 10000\n",
    "        }\n",
    "    }\n",
    "    response = requests.post(f'{url}/entries/archive/query',\n",
    "                             headers={'Authorization': f'Bearer {token}'}, json=query)\n",
    "    linked_data = response.json()['data']\n",
    "    res = []\n",
    "    for ldata in linked_data:\n",
    "        data_dict = ldata.get('archive').get('data')\n",
    "        data_dict['entry_id'] = ldata.get('entry_id')\n",
    "        data_dict['upload_id'] = ldata.get('upload_id')\n",
    "        res.append(data_dict)\n",
    "    return res \n",
    "\n",
    "def get_nome_entryids_from_upload(url, token, upload_id):   \n",
    "    query = {\n",
    "        'required': {\n",
    "            'metadata': {\n",
    "                'entry_id': '*',\n",
    "            }\n",
    "        },\n",
    "        'owner': 'visible',\n",
    "        'query': {\n",
    "            'upload_id': upload_id,\n",
    "            'entry_type:any': [\n",
    "                'CE_NOME_Chronoamperometry',\n",
    "                'CE_NOME_Chronopotentiometry',\n",
    "                'CE_NOME_LinearSweepVoltammetry',\n",
    "                'CE_NOME_GalvanodynamicSweep',\n",
    "                'CE_NOME_CyclicVoltammetry',\n",
    "            ]\n",
    "        },\n",
    "        'pagination': {\n",
    "            'page_size': 10000\n",
    "        }\n",
    "    }\n",
    "    response = requests.post(f'{url}/entries/archive/query',\n",
    "                             headers={'Authorization': f'Bearer {token}'}, json=query)\n",
    "    linked_data = response.json()[\"data\"]\n",
    "    res = []\n",
    "    for ldata in linked_data:\n",
    "        res.append(ldata.get('entry_id'))\n",
    "    return res \n",
    "\n",
    "def link_rhe_calibration(url, token, entry_id, voltage_shift, ocv_link):   \n",
    "    query = {\n",
    "      \"changes\": [\n",
    "          {\n",
    "              \"path\": \"data/voltage_shift\",\n",
    "              \"new_value\": voltage_shift,\n",
    "              \"action\": \"upsert\"\n",
    "          },\n",
    "          {\n",
    "              \"path\": \"data/connected_experiments\",\n",
    "              \"new_value\": ocv_link,\n",
    "              \"action\": \"upsert\"\n",
    "          }\n",
    "      ]\n",
    "    }\n",
    "    response = requests.post(f'{url}/entries/{entry_id}/edit',\n",
    "                             headers={'Authorization': f'Bearer {token}'}, json=query)\n",
    "    res = response.json()\n",
    "    return res\n",
    "\n",
    "def get_voltage_shift(time, voltage, time_interval_seconds):\n",
    "    threshold = time[-1] - time_interval_seconds\n",
    "    relevant_voltages = [v for t, v in zip(time, voltage) if t >= threshold]\n",
    "    if relevant_voltages:\n",
    "        mean_voltage = np.mean(relevant_voltages)\n",
    "        std_dev = np.std(relevant_voltages, ddof=1)\n",
    "    else:\n",
    "        mean_voltage, std_dev = None, None\n",
    "    return mean_voltage, std_dev\n",
    "\n",
    "def get_voltage_plot(time, voltage):\n",
    "    fig = go.Figure()\n",
    "    \n",
    "    fig.add_trace(go.Scatter(\n",
    "        x=time,\n",
    "        y=voltage,\n",
    "        mode='lines+markers',\n",
    "        name='Voltage',\n",
    "        line=dict(width=2),\n",
    "        marker=dict(size=6)\n",
    "    ))\n",
    "    \n",
    "    # Clean and minimal layout\n",
    "    fig.update_layout(\n",
    "        title=\"OCP Voltage over Time\",\n",
    "        xaxis_title=\"Time (s)\",\n",
    "        yaxis_title=\"Voltage (V)\",\n",
    "        template=\"simple_white\",  # Clean white background\n",
    "        showlegend=False,         # Hide legend if only one trace\n",
    "        margin=dict(l=40, r=40, t=50, b=40),\n",
    "        height=400\n",
    "    )\n",
    "    \n",
    "    # Optional: Remove grid lines for a minimalist look\n",
    "    fig.update_xaxes(showgrid=False)\n",
    "    fig.update_yaxes(showgrid=False)\n",
    "    return fig\n",
    "\n",
    "def parse_datetime(dt_str):\n",
    "    return datetime.fromisoformat(dt_str)\n",
    "\n",
    "def format_datetime_string(dt_obj):\n",
    "    return dt_obj.strftime(\"%d.%m.%Y %H:%M\")\n",
    "\n",
    "def get_ocv_link(upload_id, entry_id):\n",
    "    return [f'../uploads/{upload_id}/archive/{entry_id}#data']"
   ]
  },
  {
   "cell_type": "markdown",
   "id": "61b47c56-1116-46bf-b410-c94a63cedfdb",
   "metadata": {},
   "source": [
    "# Calibration of Reference Electrode\n",
    "\n",
    "This script helps you to set the `voltage_shift` in multiple NOMAD entries depending on an OCP that is uploaded as a `CE_NOME_OpenCircuitVoltage`. The RHE compensation is then automatically performed within the NOMAD entries.\n",
    "\n",
    "### 1) Select OCP"
   ]
  },
  {
   "cell_type": "code",
   "execution_count": 3,
   "id": "e92c5eca-eefb-4ff0-9118-eb2eb6e8bea4",
   "metadata": {},
   "outputs": [],
   "source": [
    "ocv_list = get_ocv_data(url, token)\n",
    "ocv_list.sort(key=lambda entry: parse_datetime(entry[\"datetime\"]), reverse=True)\n",
    "\n",
    "selected_ocv = {\n",
    "    'link': None,\n",
    "    'voltage_shift': 0,\n",
    "}"
   ]
  },
  {
   "cell_type": "code",
   "execution_count": 4,
   "id": "64864072-8078-4f20-9769-fbc13ddec723",
   "metadata": {},
   "outputs": [
    {
     "data": {
      "application/vnd.jupyter.widget-view+json": {
       "model_id": "1c9516d01449411195969befb5cdfa4f",
       "version_major": 2,
       "version_minor": 0
      },
      "text/plain": [
       "Dropdown(description='Select an OCP file for calibration:', layout=Layout(width='60%'), options=(('04.08.2025 …"
      ]
     },
     "metadata": {},
     "output_type": "display_data"
    },
    {
     "data": {
      "application/vnd.jupyter.widget-view+json": {
       "model_id": "6cedd7693ee34969876b30dc1679f2a3",
       "version_major": 2,
       "version_minor": 0
      },
      "text/plain": [
       "Output()"
      ]
     },
     "metadata": {},
     "output_type": "display_data"
    }
   ],
   "source": [
    "dropdown_options = [\n",
    "    (f\"{format_datetime_string(parse_datetime(entry['datetime']))} - {entry['data_file']}\", i)\n",
    "    for i, entry in enumerate(ocv_list)\n",
    "]\n",
    "\n",
    "dropdown = widgets.Dropdown(\n",
    "    options=dropdown_options,\n",
    "    value=None,\n",
    "    description=\"Select an OCP file for calibration:\",\n",
    "    style={'description_width': 'initial'},\n",
    "    layout=widgets.Layout(width='60%')\n",
    ")\n",
    "\n",
    "ocp_selection_output = widgets.Output()\n",
    "def on_dropdown_change(change):\n",
    "    if change['type'] == 'change' and change['name'] == 'value':\n",
    "        idx = change['new']\n",
    "        selected_entry = ocv_list[idx]\n",
    "        with ocp_selection_output:\n",
    "            ocp_selection_output.clear_output()\n",
    "            print('Calculate voltage shift. This might take a moment...')\n",
    "            #for key, value in selected_entry.items():\n",
    "            #    print(f\"{key}: {value}\")\n",
    "            fig = get_voltage_plot(selected_entry.get('time'), selected_entry.get('voltage'))\n",
    "            voltage_shift, std_dev = get_voltage_shift(selected_entry.get('time'), selected_entry.get('voltage'), 10)\n",
    "            selected_ocv['link'] = get_ocv_link(selected_entry.get('upload_id'), selected_entry.get('entry_id'))\n",
    "            selected_ocv['voltage_shift'] = voltage_shift\n",
    "            ocp_selection_output.clear_output()\n",
    "            print('Selected entry:')\n",
    "            fig.show()\n",
    "            print(f'Calculated voltage shift: {voltage_shift} V')\n",
    "            print(f'The voltage shift is calculated as the mean of the last 10 seconds of the OCP. The standard deviation for this time interval is {std_dev} V.')\n",
    "\n",
    "dropdown.observe(on_dropdown_change)\n",
    "\n",
    "display(dropdown, ocp_selection_output)"
   ]
  },
  {
   "cell_type": "markdown",
   "id": "d34f5526-8836-4bc9-8de2-77ba6cf9dfb8",
   "metadata": {},
   "source": [
    "### 2) In which uploads would you like to use this calibration?\n",
    "\n",
    "Hold Shift and click to select multiple uploads."
   ]
  },
  {
   "cell_type": "code",
   "execution_count": 7,
   "id": "6683d3e1-6d7c-47bd-b41a-017821d50918",
   "metadata": {},
   "outputs": [
    {
     "data": {
      "application/vnd.jupyter.widget-view+json": {
       "model_id": "620ce69c31b546a0a6f42d6552f6bc65",
       "version_major": 2,
       "version_minor": 0
      },
      "text/plain": [
       "SelectMultiple(description='Uploads:', layout=Layout(height='150px', width='50%'), options=(('731N1mSZQiOIenf3…"
      ]
     },
     "metadata": {},
     "output_type": "display_data"
    },
    {
     "data": {
      "application/vnd.jupyter.widget-view+json": {
       "model_id": "9da7e20e66d74b5795a92bb2288c4573",
       "version_major": 2,
       "version_minor": 0
      },
      "text/plain": [
       "Output()"
      ]
     },
     "metadata": {},
     "output_type": "display_data"
    }
   ],
   "source": [
    "upload_list = get_all_uploads(url, token, number_of_uploads=200)\n",
    "\n",
    "options = [\n",
    "    (f\"{item['upload_id']} - {item.get('upload_name', '--no name given--')}\", item['upload_id'])\n",
    "    for item in upload_list\n",
    "]\n",
    "\n",
    "# SelectMultiple Widget\n",
    "multi_select = widgets.SelectMultiple(\n",
    "    options=options,\n",
    "    description='Uploads:',\n",
    "    style={'description_width': 'initial'},\n",
    "    layout=widgets.Layout(width='50%', height='150px')\n",
    ")\n",
    "\n",
    "# Ausgabe Widget für Anzeige der Auswahl\n",
    "upload_selection_output = widgets.Output()\n",
    "\n",
    "def on_selection_change(change):\n",
    "    with upload_selection_output:\n",
    "        upload_selection_output.clear_output()\n",
    "        selected_ids = change['new']  # Liste der ausgewählten upload_id\n",
    "        if selected_ids:\n",
    "            print(\"Selected Upload IDs:\")\n",
    "            for sid in selected_ids:\n",
    "                print(sid)\n",
    "        else:\n",
    "            print(\"No Uploads selected.\")\n",
    "\n",
    "multi_select.observe(on_selection_change, names='value')\n",
    "\n",
    "display(multi_select, upload_selection_output)"
   ]
  },
  {
   "cell_type": "markdown",
   "id": "445c872a-24a2-4224-802c-74f2e7dcc7a5",
   "metadata": {},
   "source": [
    "### 3) Apply voltage shift\n",
    "\n",
    "The button below will associate all NOMAD entries of types `CE_NOME_Chronoamperometry`, `CE_NOME_Chronopotentiometry`, `CE_NOME_LinearSweepVoltammetry`, `CE_NOME_GalvanodynamicSweep`, and `CE_NOME_CyclicVoltammetry` with the selected OCP.  \n",
    "\n",
    "**Please note that this calibration process is not easily reversible.** If you have \"connected_experiments\" in your NOMAD entries these will be overwritten."
   ]
  },
  {
   "cell_type": "code",
   "execution_count": null,
   "id": "46b53098-1e79-4216-beb7-2e9c994a51d1",
   "metadata": {},
   "outputs": [],
   "source": [
    "calibration_output = widgets.Output()\n",
    "\n",
    "button = widgets.Button(\n",
    "    description=\"Link OCP for calibration\",\n",
    "    button_style='info',\n",
    "    layout=widgets.Layout(width='auto'),\n",
    ")\n",
    "\n",
    "def on_button_click(b):\n",
    "    with calibration_output:\n",
    "        calibration_output.clear_output()\n",
    "        print('Please wait for the \"All entries updated. DONE.\" at the bottom')\n",
    "        for upload_id in multi_select.value:\n",
    "            entry_ids = get_nome_entryids_from_upload(url, token, upload_id)\n",
    "            for entry_id in entry_ids:\n",
    "                link_rhe_calibration(url, token, entry_id, selected_ocv.get('voltage_shift'), selected_ocv.get('link'))\n",
    "                print(f'Use calibration of {selected_ocv.get('voltage_shift')} V in NOMAD entry {entry_id}')\n",
    "        print('All entries updated. DONE.')\n",
    "\n",
    "button.on_click(on_button_click)\n",
    "\n",
    "# Anzeigen\n",
    "display(button, calibration_output)"
   ]
  },
  {
   "cell_type": "code",
   "execution_count": null,
   "id": "6cc06df2-914a-41cf-9c1c-f5d1d45d7527",
   "metadata": {},
   "outputs": [],
   "source": []
  },
  {
   "cell_type": "code",
   "execution_count": null,
   "id": "62f18b05-d724-4964-8049-ad93017787a6",
   "metadata": {},
   "outputs": [],
   "source": []
  }
 ],
 "metadata": {
  "kernelspec": {
   "display_name": "Python 3 (ipykernel)",
   "language": "python",
   "name": "python3"
  },
  "language_info": {
   "codemirror_mode": {
    "name": "ipython",
    "version": 3
   },
   "file_extension": ".py",
   "mimetype": "text/x-python",
   "name": "python",
   "nbconvert_exporter": "python",
   "pygments_lexer": "ipython3",
   "version": "3.12.10"
  }
 },
 "nbformat": 4,
 "nbformat_minor": 5
}
