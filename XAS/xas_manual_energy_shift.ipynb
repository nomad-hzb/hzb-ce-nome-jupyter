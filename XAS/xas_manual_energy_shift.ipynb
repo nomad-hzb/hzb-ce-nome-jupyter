{
 "cells": [
  {
   "cell_type": "code",
   "execution_count": 2,
   "id": "684571fb-0fc4-44f5-9bd7-f3b2ca586446",
   "metadata": {},
   "outputs": [],
   "source": [
    "%%capture\n",
    "%matplotlib widget\n",
    "#!pip install requests_cache\n",
    "\n",
    "import matplotlib.pyplot as plt\n",
    "import plotly.graph_objects as go\n",
    "import time\n",
    "import requests\n",
    "import pandas as pd\n",
    "import numpy as np\n",
    "from datetime import datetime\n",
    "import math\n",
    "from scipy.optimize import curve_fit\n",
    "\n",
    "import ipywidgets as widgets\n",
    "from IPython.display import display, clear_output\n",
    "\n",
    "import sys\n",
    "sys.path.insert(1, '../python-scripts-c6fxKDJrSsWp1xCxON1Y7g')\n",
    "sys.path.insert(1, '../../python-scripts-c6fxKDJrSsWp1xCxON1Y7g')\n",
    "from api_calls import *\n",
    "from periodic_table import *\n",
    "\n",
    "url = 'https://nomad-hzb-ce.de/nomad-oasis/api/v1'\n",
    "\n",
    "import os\n",
    "token = os.environ['NOMAD_CLIENT_ACCESS_TOKEN']"
   ]
  },
  {
   "cell_type": "code",
   "execution_count": 3,
   "id": "2b7e2590-8819-4201-997c-783c67ec77c6",
   "metadata": {},
   "outputs": [],
   "source": [
    "def get_transmission_data(url, token):   \n",
    "    query = {\n",
    "        'required': {\n",
    "            'data': '*',\n",
    "        },\n",
    "        'owner': 'visible',\n",
    "        'query': {\n",
    "            'entry_type:any': ['Bessy2_KMC3_XASTransmission', 'Bessy2_KMC2_XASTransmission']\n",
    "        },\n",
    "        'pagination': {\n",
    "            'page_size': 10000\n",
    "        }\n",
    "    }\n",
    "    response = requests.post(f'{url}/entries/archive/query',\n",
    "                             headers={'Authorization': f'Bearer {token}'}, json=query)\n",
    "    linked_data = response.json()['data']\n",
    "    res = []\n",
    "    for ldata in linked_data:\n",
    "        data_dict = ldata.get('archive').get('data')\n",
    "        data_dict['entry_id'] = ldata.get('entry_id')\n",
    "        data_dict['upload_id'] = ldata.get('upload_id')\n",
    "        res.append(data_dict)\n",
    "    return res\n",
    "\n",
    "def get_xas_entryids(url, token):   \n",
    "    query = {\n",
    "        'required': {\n",
    "            'metadata': '*',\n",
    "        },\n",
    "        'owner': 'visible',\n",
    "        'query': {\n",
    "            'entry_type:any': [\n",
    "                'Bessy2_KMC3_XASTransmission',\n",
    "                'Bessy2_KMC3_XASFluorescence',\n",
    "                'Bessy2_KMC2_XASTransmission',\n",
    "                'Bessy2_KMC2_XASFluorescence',\n",
    "            ]\n",
    "        },\n",
    "        'pagination': {\n",
    "            'page_size': 10000\n",
    "        }\n",
    "    }\n",
    "    response = requests.post(f'{url}/entries/archive/query',\n",
    "                             headers={'Authorization': f'Bearer {token}'}, json=query)\n",
    "    linked_data = response.json()['data']\n",
    "    res = []\n",
    "    for ldata in linked_data:\n",
    "        res.append({\n",
    "            'entry_name': ldata['archive']['metadata'].get('entry_name'),\n",
    "            'entry_id': ldata.get('entry_id'),\n",
    "            'upload_name': ldata['archive']['metadata'].get('upload_name'),\n",
    "            'upload_id': ldata.get('upload_id'),\n",
    "            'create_time': ldata['archive']['metadata'].get('upload_create_time'),\n",
    "        })\n",
    "    res_sorted = sorted(res, key=lambda x: x['create_time'], reverse=True)\n",
    "    return res_sorted \n",
    "\n",
    "def link_xas_energy_shift(url, token, entry_id, energy_shift, ocv_link):   \n",
    "    query = {\n",
    "      'changes': [\n",
    "          {\n",
    "              'path': 'data/manual_energy_shift',\n",
    "              'new_value': energy_shift,\n",
    "              'action': 'upsert'\n",
    "          },\n",
    "          {\n",
    "              'path': 'data/connected_measurements',\n",
    "              'new_value': ocv_link,\n",
    "              'action': 'upsert'\n",
    "          }\n",
    "      ]\n",
    "    }\n",
    "    response = requests.post(f'{url}/entries/{entry_id}/edit',\n",
    "                             headers={'Authorization': f'Bearer {token}'}, json=query)\n",
    "    res = response.json()\n",
    "    return res\n",
    "\n",
    "def gauss(x, A, x0, sigma):\n",
    "    return A * np.exp(-(x - x0)**2 / (2 * sigma**2))\n",
    "    \n",
    "def get_first_derivative(x, y):\n",
    "    x = np.asarray(x, dtype=float)\n",
    "    y = np.asarray(y, dtype=float)\n",
    "    if x.shape != y.shape:\n",
    "        raise ValueError('Can only compute derivative for axis with same length.')\n",
    "    return np.gradient(y, x)\n",
    "\n",
    "def get_gaussian_fit(df, peak_df, initial_peak_idx_guess, x_col_name, y_col_name):\n",
    "    start = peak_df[x_col_name].iloc[0]\n",
    "    end = peak_df[x_col_name].iloc[-1]\n",
    "    sigma = end - start\n",
    "\n",
    "    # TODO maybe find better min/max values here\n",
    "    max_peak_height = np.max(peak_df[y_col_name])\n",
    "    min_peak_height = np.min(peak_df[y_col_name])\n",
    "    #max_peak_height = 230\n",
    "    #min_peak_height = 0\n",
    "    if df.loc[initial_peak_idx_guess, y_col_name] < 1:\n",
    "        max_peak_height = 1\n",
    "    \n",
    "    p0 = [df.loc[initial_peak_idx_guess, y_col_name], df.loc[initial_peak_idx_guess, x_col_name], sigma] # peak height, peak position, peak width (A, x0, sigma)\n",
    "    bounds = ([min_peak_height, start, 0],\n",
    "              [max_peak_height, end, 1])  # min and max for p0        \n",
    "    popt, pcov = curve_fit(gauss, peak_df[x_col_name], peak_df[y_col_name], p0=p0, bounds=bounds, maxfev=5000)\n",
    "    return popt, pcov\n",
    "\n",
    "def get_energy_gauss_df(df, peak_df, initial_peak_guess, x_col_name, y_col_name):\n",
    "    popt, pcov = get_gaussian_fit(df, peak_df, initial_peak_guess, x_col_name, y_col_name)\n",
    "    df.loc[:, f'{y_col_name}_edge_area'] = peak_df[y_col_name]\n",
    "    df.loc[:, f'{y_col_name}_edge'] = popt[1]\n",
    "    df.loc[:, f'{y_col_name}_gauss'] = gauss(peak_df[x_col_name], *popt)\n",
    "    df.loc[:, f'{y_col_name}_gauss_complete'] = gauss(df[x_col_name], *popt)    \n",
    "    return df\n",
    "\n",
    "def get_edge_fit(energy, derivative_ref, estimated_peak_energy):\n",
    "    df = pd.DataFrame({'energy': energy, 'd_ref': derivative_ref})\n",
    "    df_edge_area = df.loc[(df['energy'] >= estimated_peak_energy - 0.005) & (df['energy'] <= estimated_peak_energy + 0.0025), ['energy', 'd_ref']]\n",
    "    df_edge_area = df_edge_area.copy()\n",
    "    if df_edge_area.empty:\n",
    "        raise ValueError('Could not find a peak close to the selected E0.')\n",
    "    peak_idx_guess = (df['energy'] >= estimated_peak_energy).idxmax()\n",
    "    # fit gaussian to derivatives\n",
    "    df = get_energy_gauss_df(df, df_edge_area, peak_idx_guess, 'energy', 'd_ref')\n",
    "    return df['d_ref_edge'].iloc[0], df['d_ref_gauss_complete']\n",
    "\n",
    "def get_energy_shift(energy, derivative_ref, e0, estimated_peak_energy):\n",
    "    edge_energy, gauss_fit = get_edge_fit(energy, derivative_ref, estimated_peak_energy)\n",
    "    return e0 - edge_energy, gauss_fit\n",
    "\n",
    "def get_energy_plot(energy, derivative_ref, gauss_fit, energy_shift, E0):\n",
    "    fig = go.Figure()\n",
    "    \n",
    "    fig.add_trace(go.Scatter(\n",
    "        x=energy,\n",
    "        y=derivative_ref,\n",
    "        mode='lines+markers',\n",
    "        name='dµ/dE',\n",
    "        line=dict(width=2),\n",
    "        marker=dict(size=6)\n",
    "    ))\n",
    "\n",
    "    fig.add_trace(go.Scatter(\n",
    "        x=energy,\n",
    "        y=gauss_fit,\n",
    "        mode='lines',\n",
    "        name='gauss fit',\n",
    "        line=dict(width=2, color='orange'),\n",
    "        marker=dict(size=6)\n",
    "    ))\n",
    "\n",
    "    fig.add_trace(\n",
    "        go.Scatter(\n",
    "            x=[E0-energy_shift, E0-energy_shift],\n",
    "            y=[min(derivative_ref), max(derivative_ref)],\n",
    "            mode='lines',\n",
    "            line=dict(color='orange', dash='dot'),\n",
    "            name='fitted gauss peak',\n",
    "        )\n",
    "    )\n",
    "\n",
    "    fig.add_trace(\n",
    "        go.Scatter(\n",
    "            x=[E0, E0],\n",
    "            y=[min(derivative_ref), max(derivative_ref)],\n",
    "            mode='lines',\n",
    "            line=dict(color='red', dash='dot'),\n",
    "            name=f'E0 = {E0} keV'\n",
    "        )\n",
    "    )\n",
    "    \n",
    "    # Clean and minimal layout\n",
    "    fig.update_layout(\n",
    "        title='First derivative of absorbance of the reference (dµ/dE)',\n",
    "        xaxis_title='Energy (keV)',\n",
    "        yaxis_title='dµ/dE (a.u.)',\n",
    "        template='simple_white',  # Clean white background\n",
    "        #showlegend=False,         # Hide legend if only one trace\n",
    "        legend_title=dict(text=f'manual shift = {energy_shift*1000:.6f} eV'),\n",
    "        margin=dict(l=40, r=40, t=50, b=40),\n",
    "        height=400\n",
    "    )\n",
    "    \n",
    "    # Optional: Remove grid lines for a minimalist look\n",
    "    fig.update_xaxes(showgrid=False)\n",
    "    fig.update_yaxes(showgrid=False)\n",
    "    return fig\n",
    "\n",
    "def parse_datetime(dt_str):\n",
    "    return datetime.fromisoformat(dt_str)\n",
    "\n",
    "def format_datetime_string(dt_obj):\n",
    "    return dt_obj.strftime('%d.%m.%Y %H:%M')\n",
    "\n",
    "def get_ocv_link(upload_id, entry_id):\n",
    "    return [f'../uploads/{upload_id}/archive/{entry_id}#data']"
   ]
  },
  {
   "cell_type": "code",
   "execution_count": 4,
   "id": "7e3e2cc6-b101-4e16-bc19-3411a7556900",
   "metadata": {},
   "outputs": [],
   "source": [
    "# widgets\n",
    "ocp_selection_output = widgets.Output()\n",
    "\n",
    "default_xas = {\n",
    "    'link': None,\n",
    "    'energy_shift': None,\n",
    "}\n",
    "\n",
    "selected_xas = default_xas.copy()   # without copy we change the default dict..."
   ]
  },
  {
   "cell_type": "markdown",
   "id": "61b47c56-1116-46bf-b410-c94a63cedfdb",
   "metadata": {},
   "source": [
    "# Calibration of XAS with manual energy shift\n",
    "\n",
    "This script helps you to set the `energy_shift` in multiple NOMAD entries depending on an XAS Transmission Measurement that is uploaded as a `Bessy2_KMC3_XASTransmission` or `Bessy2_KMC2_XASTransmission`. \n",
    "\n",
    "The `manual_energy_shift` is then automatically annotated within the selected NOMAD entries.\n",
    "\n",
    "### 1) Select E0"
   ]
  },
  {
   "cell_type": "code",
   "execution_count": 5,
   "id": "36629771-58da-45a4-a31a-e24db46ef509",
   "metadata": {},
   "outputs": [
    {
     "data": {
      "application/vnd.jupyter.widget-view+json": {
       "model_id": "335f31c1a27543de92e22c12c0dfdea4",
       "version_major": 2,
       "version_minor": 0
      },
      "text/plain": [
       "GridBox(children=(Button(description='H', layout=Layout(width='40px'), style=ButtonStyle(button_color='#eee'))…"
      ]
     },
     "metadata": {},
     "output_type": "display_data"
    }
   ],
   "source": [
    "default_E0 = 6.539\n",
    "E0_widget = widgets.FloatText(\n",
    "    value=default_E0,\n",
    "    description=r'$E_{0}$ (keV)',\n",
    "    step=0.001,\n",
    "    style={'description_width': 'initial'},\n",
    "    layout=widgets.Layout(width='400px')\n",
    ")\n",
    "\n",
    "element = None\n",
    "def on_click_periodic_table(symbol):\n",
    "    global selected_xas\n",
    "    k = k_edge_data.get(symbol)\n",
    "    if k:\n",
    "        E0_widget.value = k\n",
    "    selected_xas = default_xas.copy()\n",
    "    with ocp_selection_output:\n",
    "        ocp_selection_output.clear_output()\n",
    "\n",
    "gridbox = create_periodic_table(on_click_periodic_table)\n",
    "\n",
    "display(gridbox)"
   ]
  },
  {
   "cell_type": "markdown",
   "id": "53cf320e-76e3-40c8-a60f-b022b49b0dc8",
   "metadata": {},
   "source": [
    "**If the absorption edge is not defined in the table above: Please select the $E_{0}$ you want to use.**"
   ]
  },
  {
   "cell_type": "code",
   "execution_count": 9,
   "id": "24d6b5aa-8428-4342-b67a-b3872c11cb65",
   "metadata": {},
   "outputs": [
    {
     "data": {
      "application/vnd.jupyter.widget-view+json": {
       "model_id": "6bb3413d44e443dbb1be1b937def56aa",
       "version_major": 2,
       "version_minor": 0
      },
      "text/plain": [
       "FloatText(value=6.539, description='$E_{0}$ (keV)', layout=Layout(width='200px'), step=0.001, style=Descriptio…"
      ]
     },
     "metadata": {},
     "output_type": "display_data"
    },
    {
     "data": {
      "application/vnd.jupyter.widget-view+json": {
       "model_id": "6cbaa65e85924cbda9aba457742dbfba",
       "version_major": 2,
       "version_minor": 0
      },
      "text/plain": [
       "FloatText(value=0.0, description='Estimated Peak Energy (keV) (setting this is optional)', layout=Layout(width…"
      ]
     },
     "metadata": {},
     "output_type": "display_data"
    }
   ],
   "source": [
    "estimated_peak_energy_widget = widgets.FloatText(\n",
    "    value=None,\n",
    "    description='Estimated Peak Energy (keV) (setting this is optional)',\n",
    "    step=0.001,\n",
    "    style={'description_width': 'initial'},\n",
    "    layout=widgets.Layout(width='400px')\n",
    ")\n",
    "\n",
    "display(E0_widget)\n",
    "display(estimated_peak_energy_widget)"
   ]
  },
  {
   "cell_type": "markdown",
   "id": "bc583d84-2608-4ee9-ac83-9fd13b542dd6",
   "metadata": {},
   "source": [
    "### 2) Select XAS Transmission Measurement for Calibration"
   ]
  },
  {
   "cell_type": "code",
   "execution_count": 6,
   "id": "e92c5eca-eefb-4ff0-9118-eb2eb6e8bea4",
   "metadata": {},
   "outputs": [],
   "source": [
    "xas_list = get_transmission_data(url, token)\n",
    "xas_list.sort(key=lambda entry: parse_datetime(entry['datetime']), reverse=True)"
   ]
  },
  {
   "cell_type": "code",
   "execution_count": 53,
   "id": "64864072-8078-4f20-9769-fbc13ddec723",
   "metadata": {},
   "outputs": [
    {
     "data": {
      "application/vnd.jupyter.widget-view+json": {
       "model_id": "5bb8d8c9035a43629b812fc32c0b4e7b",
       "version_major": 2,
       "version_minor": 0
      },
      "text/plain": [
       "Dropdown(description='Select an XAS entry for calibration:', layout=Layout(width='60%'), options=(('19.07.2025…"
      ]
     },
     "metadata": {},
     "output_type": "display_data"
    },
    {
     "data": {
      "application/vnd.jupyter.widget-view+json": {
       "model_id": "23b3b1f6037646d48749838f9a5c8880",
       "version_major": 2,
       "version_minor": 0
      },
      "text/plain": [
       "Output(outputs=({'name': 'stdout', 'text': 'Selected entry:\\n', 'output_type': 'stream'}, {'output_type': 'dis…"
      ]
     },
     "metadata": {},
     "output_type": "display_data"
    }
   ],
   "source": [
    "dropdown_options = [\n",
    "    (f'{format_datetime_string(parse_datetime(entry['datetime']))} - {entry['data_file']}', i)\n",
    "    for i, entry in enumerate(xas_list)\n",
    "]\n",
    "\n",
    "dropdown = widgets.Dropdown(\n",
    "    options=dropdown_options,\n",
    "    value=None,\n",
    "    description='Select an XAS entry for calibration:',\n",
    "    style={'description_width': 'initial'},\n",
    "    layout=widgets.Layout(width='60%')\n",
    ")\n",
    "\n",
    "def on_dropdown_change(change):\n",
    "    global selected_xas\n",
    "    if change['type'] == 'change' and change['name'] == 'value':\n",
    "        idx = change['new']\n",
    "        selected_entry = xas_list[idx]\n",
    "        with ocp_selection_output:\n",
    "            ocp_selection_output.clear_output()\n",
    "            print('Calculate energy shift. This might take a moment...')\n",
    "            #for key, value in selected_entry.items():\n",
    "            #    print(f'{key}: {value}')\n",
    "            if 'Bessy2_KMC3_XASTransmission' in selected_entry.get('m_def'):\n",
    "                mu = selected_entry.get('absorbance_of_the_sample')\n",
    "            elif 'Bessy2_KMC2_XASTransmission' in selected_entry.get('m_def'):\n",
    "                mu = selected_entry.get('absorbance_of_the_reference')\n",
    "            peak_guess = E0_widget.value if estimated_peak_energy_widget.value is None else estimated_peak_energy_widget.value\n",
    "            try:\n",
    "                selected_entry['derivative'] = get_first_derivative(selected_entry.get('energy'), mu)\n",
    "                if np.isnan(selected_entry['derivative']).any():\n",
    "                    print('Derivative contains nan values that will be removed. Please check selected µ and energy.')\n",
    "                    energy_array = np.array(selected_entry.get('energy'), dtype=float)\n",
    "                    mu_array = np.array(mu, dtype=float)\n",
    "                    mask = np.isfinite(energy_array) & np.isfinite(mu_array)\n",
    "                    energy_clean = energy_array[mask]\n",
    "                    mu_clean = mu_array[mask]\n",
    "                    selected_entry['derivative'] = get_first_derivative(energy_clean, mu_clean)\n",
    "                    energy_shift, gauss_fit = get_energy_shift(energy_clean, selected_entry.get('derivative'), E0_widget.value, peak_guess)\n",
    "                else:\n",
    "                    energy_shift, gauss_fit = get_energy_shift(selected_entry.get('energy'), selected_entry.get('derivative'), E0_widget.value, peak_guess)\n",
    "                selected_xas['energy_shift'] = energy_shift\n",
    "            except ValueError as e:\n",
    "                print(e)\n",
    "                print('Could not calculate the energy shift from the given E0 and selected XAS entry.')\n",
    "                selected_xas = default_xas.copy()\n",
    "                return\n",
    "            fig = get_energy_plot(selected_entry.get('energy'), selected_entry.get('derivative'), gauss_fit, energy_shift, E0_widget.value)\n",
    "            selected_xas['link'] = get_ocv_link(selected_entry.get('upload_id'), selected_entry.get('entry_id'))\n",
    "            ocp_selection_output.clear_output()\n",
    "            print('Selected entry:')\n",
    "            if selected_entry.get('quality_annotation') == 'ICR out of bounds':\n",
    "                print('Please check the ICR values of the selected entry. Some ICR values are not in the recommended bounds [0; 250000].')\n",
    "            fig.show()\n",
    "            print(f'Calculated energy shift: {energy_shift} keV')\n",
    "            print(f'The energy shift is calculated as the difference of the selected E0 and the first peak of the derivative of µ.')\n",
    "\n",
    "dropdown.observe(on_dropdown_change)\n",
    "\n",
    "display(dropdown, ocp_selection_output)"
   ]
  },
  {
   "cell_type": "markdown",
   "id": "d34f5526-8836-4bc9-8de2-77ba6cf9dfb8",
   "metadata": {},
   "source": [
    "### 3) In which entries would you like to use this calibration?\n",
    "\n",
    "Hold Shift and click to select multiple entries."
   ]
  },
  {
   "cell_type": "code",
   "execution_count": 55,
   "id": "6683d3e1-6d7c-47bd-b41a-017821d50918",
   "metadata": {},
   "outputs": [
    {
     "data": {
      "application/vnd.jupyter.widget-view+json": {
       "model_id": "d344cd3ec3e44fd88c15390cb0f1ad03",
       "version_major": 2,
       "version_minor": 0
      },
      "text/plain": [
       "SelectMultiple(description='Entries:', layout=Layout(height='150px', width='75%'), options=(('XAS Workflow Exa…"
      ]
     },
     "metadata": {},
     "output_type": "display_data"
    },
    {
     "data": {
      "application/vnd.jupyter.widget-view+json": {
       "model_id": "9f85920525514866a15b89b61e07a13e",
       "version_major": 2,
       "version_minor": 0
      },
      "text/plain": [
       "Output()"
      ]
     },
     "metadata": {},
     "output_type": "display_data"
    }
   ],
   "source": [
    "xas_entry_list = get_xas_entryids(url, token)\n",
    "\n",
    "options = [\n",
    "    (f'{item.get('upload_name', '--no name given--')} - {item['entry_name']} - {item['entry_id']}', item['entry_id'])\n",
    "    for item in xas_entry_list\n",
    "]\n",
    "\n",
    "multi_select_entries = widgets.SelectMultiple(\n",
    "    options=options,\n",
    "    description='Entries:',\n",
    "    style={'description_width': 'initial'},\n",
    "    layout=widgets.Layout(width='75%', height='150px')\n",
    ")\n",
    "\n",
    "# Ausgabe Widget für Anzeige der Auswahl\n",
    "entry_selection_output = widgets.Output()\n",
    "\n",
    "def on_selection_change(change):\n",
    "    with entry_selection_output:\n",
    "        entry_selection_output.clear_output()\n",
    "        selected_ids = change['new']\n",
    "        if selected_ids:\n",
    "            print('Selected Entry IDs:')\n",
    "            for sid in selected_ids:\n",
    "                print(sid)\n",
    "        else:\n",
    "            print('No Uploads selected.')\n",
    "\n",
    "multi_select_entries.observe(on_selection_change, names='value')\n",
    "\n",
    "display(multi_select_entries, entry_selection_output)"
   ]
  },
  {
   "cell_type": "markdown",
   "id": "445c872a-24a2-4224-802c-74f2e7dcc7a5",
   "metadata": {},
   "source": [
    "### 4) Apply energy shift\n",
    "\n",
    "The button below will associate all selected NOMAD entries with the calculated manual energy shift from the XAS Transmission entry.  \n",
    "\n",
    "**Please note that this calibration process is not easily reversible.** If you have 'connected_experiments' in your NOMAD entries these will be overwritten."
   ]
  },
  {
   "cell_type": "code",
   "execution_count": 56,
   "id": "46b53098-1e79-4216-beb7-2e9c994a51d1",
   "metadata": {},
   "outputs": [
    {
     "data": {
      "application/vnd.jupyter.widget-view+json": {
       "model_id": "716f415ef70c460f91d47d7488a8ccfb",
       "version_major": 2,
       "version_minor": 0
      },
      "text/plain": [
       "Button(button_style='info', description='Link XAS Transmission entry and calculated shift for calibration', la…"
      ]
     },
     "metadata": {},
     "output_type": "display_data"
    },
    {
     "data": {
      "application/vnd.jupyter.widget-view+json": {
       "model_id": "d13c43e52b574ffeb446b1358e8e1e55",
       "version_major": 2,
       "version_minor": 0
      },
      "text/plain": [
       "Output()"
      ]
     },
     "metadata": {},
     "output_type": "display_data"
    }
   ],
   "source": [
    "calibration_output = widgets.Output()\n",
    "\n",
    "button = widgets.Button(\n",
    "    description='Link XAS Transmission entry and calculated shift for calibration',\n",
    "    button_style='info',\n",
    "    layout=widgets.Layout(width='auto'),\n",
    ")\n",
    "\n",
    "def on_button_click(b):\n",
    "    with calibration_output:\n",
    "        calibration_output.clear_output()\n",
    "        if selected_xas.get('energy_shift') is None:\n",
    "            print('Please calculate an energy shift before using this button!')\n",
    "            return\n",
    "        print('Please wait for the \"All entries updated. DONE.\" at the bottom')\n",
    "        for entry_id in multi_select_entries.value:\n",
    "            link_xas_energy_shift(url, token, entry_id, selected_xas.get('energy_shift'), selected_xas.get('link'))\n",
    "            print(f'Use calibration of {selected_xas.get('energy_shift')} keV in NOMAD entry {entry_id}')\n",
    "        print('All entries updated. DONE.')\n",
    "\n",
    "button.on_click(on_button_click)\n",
    "\n",
    "# Anzeigen\n",
    "display(button, calibration_output)"
   ]
  },
  {
   "cell_type": "code",
   "execution_count": null,
   "id": "6cc06df2-914a-41cf-9c1c-f5d1d45d7527",
   "metadata": {},
   "outputs": [],
   "source": []
  },
  {
   "cell_type": "code",
   "execution_count": null,
   "id": "8861e22e-5456-4278-b6d2-7e18bb734fcd",
   "metadata": {},
   "outputs": [],
   "source": []
  }
 ],
 "metadata": {
  "kernelspec": {
   "display_name": "Python 3 (ipykernel)",
   "language": "python",
   "name": "python3"
  },
  "language_info": {
   "codemirror_mode": {
    "name": "ipython",
    "version": 3
   },
   "file_extension": ".py",
   "mimetype": "text/x-python",
   "name": "python",
   "nbconvert_exporter": "python",
   "pygments_lexer": "ipython3",
   "version": "3.12.10"
  }
 },
 "nbformat": 4,
 "nbformat_minor": 5
}
