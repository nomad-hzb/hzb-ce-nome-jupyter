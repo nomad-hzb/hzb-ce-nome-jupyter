{
 "cells": [
  {
   "cell_type": "markdown",
   "id": "1627cb50-e050-4ea5-9b47-02ba1564f036",
   "metadata": {},
   "source": [
    "# Summer Students 2025 Analysis - Steel Based Electrolysis Activation"
   ]
  },
  {
   "cell_type": "code",
   "execution_count": 8,
   "id": "4985d606-e658-4119-bc44-db5149d7b8ed",
   "metadata": {},
   "outputs": [],
   "source": [
    "%%capture\n",
    "%matplotlib widget\n",
    "#!pip install requests_cache\n",
    "\n",
    "import matplotlib.pyplot as plt\n",
    "import plotly.graph_objects as go\n",
    "import time\n",
    "import requests\n",
    "import pandas as pd\n",
    "import numpy as np\n",
    "import datetime\n",
    "import math\n",
    "\n",
    "import ipywidgets as widgets\n",
    "from IPython.display import display, clear_output\n",
    "\n",
    "import sys\n",
    "sys.path.insert(1, '../python-scripts-c6fxKDJrSsWp1xCxON1Y7g')\n",
    "sys.path.insert(1, '../../python-scripts-c6fxKDJrSsWp1xCxON1Y7g')\n",
    "from api_calls import *\n",
    "\n",
    "url = \"https://nomad-hzb-ce.de/nomad-oasis/api/v1\"\n",
    "\n",
    "import os\n",
    "token = os.environ['NOMAD_CLIENT_ACCESS_TOKEN']"
   ]
  },
  {
   "cell_type": "code",
   "execution_count": 9,
   "id": "d8aa4420-c962-44eb-8168-bae2bacc0757",
   "metadata": {},
   "outputs": [],
   "source": [
    "def get_upload_ids_from_main_authors(url, token, main_authors):   \n",
    "    query = {\n",
    "        'required': {\n",
    "            'upload_id': '*',\n",
    "        },\n",
    "        'owner': 'visible',\n",
    "        'query': {\n",
    "            'origin:any': main_authors,\n",
    "        },\n",
    "        'pagination': {\n",
    "            'page_size': 1000\n",
    "        }\n",
    "    }\n",
    "    response = requests.post(f'{url}/entries/archive/query',\n",
    "                             headers={'Authorization': f'Bearer {token}'}, json=query)\n",
    "    linked_data = response.json()[\"data\"]\n",
    "    res = set()\n",
    "    for ldata in linked_data:\n",
    "        res.add(ldata.get('upload_id'))\n",
    "    return res\n",
    "\n",
    "def get_specific_entrytype_of_upload_ids(url, token, upload_list, entry_type):   \n",
    "    query = {\n",
    "        'required': {\n",
    "            'data': '*',\n",
    "        },\n",
    "        'owner': 'visible',\n",
    "        'query': {\n",
    "            'upload_id:any': upload_list,\n",
    "            'entry_type': entry_type\n",
    "        },\n",
    "        'pagination': {\n",
    "            'page_size': 10000\n",
    "        }\n",
    "    }\n",
    "    response = requests.post(f'{url}/entries/archive/query',\n",
    "                             headers={'Authorization': f'Bearer {token}'}, json=query)\n",
    "    linked_data = response.json()[\"data\"]\n",
    "    res = []\n",
    "    for ldata in linked_data:\n",
    "        res.append(ldata[\"archive\"][\"data\"])\n",
    "    return res \n",
    "\n",
    "def get_upload_name_from_id(url, token, upload_id):\n",
    "    response = requests.get(f'{url}/uploads/{upload_id}', headers={'Authorization': f'Bearer {token}'})\n",
    "    linked_data = response.json()[\"data\"]\n",
    "    return linked_data.get('upload_name')\n",
    "\n",
    "def get_result_df_from_upload_ids(upload_ids, filter_fft=False):\n",
    "    #columns = ['sample_id', 'potential1 (mV vs RHE)', 'hold1 (s)', 'potential2 (mV vs RHE)', 'hold2 (s)', 'potential3 (mV vs RHE)', 'sweep speed (mV/s)', 'cycle (P2-P3)', 'duration (s)', 'duration (h)']\n",
    "    columns = ['upload_id', 'sample_id', 'potential1 (mV vs Hg/HgO)', 'hold1 (s)', 'potential2 (mV vs Hg/HgO)', 'hold2 (s)', 'potential3 (mV vs Hg/HgO)', 'sweep speed (mV/s)', 'cycle (P2-P3)', 'duration (s)', 'duration (h)']\n",
    "    rows = []\n",
    "    hold2 = 0\n",
    "    sweep_speed = 100\n",
    "    \n",
    "    for upload_id in upload_ids:\n",
    "        try:\n",
    "            ca_data = get_specific_entrytype_of_upload_ids(url, token, [upload_id], 'CE_NOME_Chronoamperometry',)\n",
    "            cv_data = get_specific_entrytype_of_upload_ids(url, token, [upload_id], 'CE_NOME_CyclicVoltammetry',)\n",
    "\n",
    "            if filter_fft:\n",
    "                if not ca_data[0].get('name', '').startswith('FFT'):\n",
    "                    continue\n",
    "            else:\n",
    "                if ca_data[0].get('name', '').startswith('FFT'):\n",
    "                    continue\n",
    "    \n",
    "            sample_id = ca_data[0].get('samples')[0].get('name')\n",
    "            #upload_name = get_upload_name_from_id(url, token, upload_id)\n",
    "        \n",
    "            # extract data from Chronoamperometry files\n",
    "            rhe = ca_data[0].get('voltage_shift') or 0.933\n",
    "            potential1 = ca_data[0].get('properties').get('step_1_potential')\n",
    "            potential1_rhe = potential1 + rhe\n",
    "            hold1 = ca_data[0].get('properties').get('step_1_time')\n",
    "        \n",
    "            # extract data from CyclicVoltammetry files\n",
    "            rhe = cv_data[0].get('voltage_shift') or 0.933\n",
    "            potential2 = cv_data[0].get('properties').get('limit_potential_1')\n",
    "            potential3 = cv_data[0].get('properties').get('limit_potential_2')\n",
    "            potential2_rhe = potential2 + rhe\n",
    "            potential3_rhe = potential3 + rhe\n",
    "            sweep_speed = cv_data[0].get('properties').get('scan_rate')\n",
    "\n",
    "            # convert to mV\n",
    "            potential1 *= 1000\n",
    "            potential2 *= 1000\n",
    "            potential3 *= 1000\n",
    "         \n",
    "            interval1 = hold1 + np.abs(potential1 - potential2)/sweep_speed\n",
    "            interval2 = np.abs(potential2 - potential3)/sweep_speed + hold2\n",
    "            cycles_computed = min(100, math.floor((3600 - interval1) / interval2 - 1))   #TODO check the -1\n",
    "            cycles_gamry_file = cv_data[0].get('properties').get('cycles')\n",
    "            \n",
    "            #if cycles_computed != len(cv_data[0].get('cycles', [{}])):\n",
    "            if cycles_computed != cycles_gamry_file:\n",
    "                print(f' {upload_id} cycles do not match: {cycles_computed} != {cycles_gamry_file}')\n",
    "            duration = interval1 + cycles_gamry_file*interval2\n",
    "        \n",
    "            rows.append([upload_id, sample_id, potential1, hold1, potential2, hold2, potential3, sweep_speed, cycles_gamry_file, duration, duration/3600])\n",
    "        \n",
    "            #print(upload_id, f': {len(cv_data)} CV files, {len(ca_data)} CA files')\n",
    "        except:\n",
    "            print(upload_id, \"didnt work - maybe calibration upload?\")\n",
    "    \n",
    "    result = pd.DataFrame(rows, columns=columns)\n",
    "    result = result.sort_values(by=['sample_id']).reset_index(drop = True)\n",
    "    return result"
   ]
  },
  {
   "cell_type": "code",
   "execution_count": 10,
   "id": "f7df14f9-2ce5-4d28-a9f7-cd6c77a9adad",
   "metadata": {},
   "outputs": [],
   "source": [
    "# all ipywidgets\n",
    "\n",
    "# FFT = Furthest-First Traversal\n",
    "author_selector = widgets.Dropdown(\n",
    "    options=['Maitryi Gupta', 'Literature-Marlena Thormeier', 'FFT-Marlena Thormeier'],\n",
    "    value='Maitryi Gupta',\n",
    "    description='NOMAD author:',\n",
    "    style={'description_width': 'initial'}\n",
    ")\n",
    "\n",
    "group_selector = widgets.Dropdown(\n",
    "    description=\"Select parameter set:\",\n",
    "    style={'description_width': 'initial'}\n",
    ")\n",
    "\n",
    "get_button = widgets.Button(\n",
    "    description='Get NOMAD data',\n",
    "    button_style='success',\n",
    "    layout=widgets.Layout(width='auto')\n",
    ")\n",
    "\n",
    "analysis_button = widgets.Button(\n",
    "    description='Group and evaluate data',\n",
    "    button_style='info',\n",
    "    layout=widgets.Layout(width='auto')\n",
    ")\n",
    "\n",
    "\n",
    "safe_baybe_button = widgets.Button(\n",
    "    description='Safe data for Bayesian Optimization',\n",
    "    button_style='primary',\n",
    "    layout=widgets.Layout(width='auto')\n",
    ")\n",
    "\n",
    "show_group_details_button = widgets.Button(\n",
    "    description=\"Show plots for selected parameter set\",\n",
    "    button_style='info',\n",
    "    layout=widgets.Layout(width='auto')\n",
    ")\n",
    "\n",
    "all_runs_output = widgets.Output()\n",
    "analysis_output = widgets.Output()\n",
    "baybe_output = widgets.Output()\n",
    "group_select_output = widgets.Output()\n",
    "group_detail_output = widgets.Output()"
   ]
  },
  {
   "cell_type": "markdown",
   "id": "20c7d392-a56e-4089-b967-6327dc999345",
   "metadata": {},
   "source": [
    "### Select Uploads"
   ]
  },
  {
   "cell_type": "code",
   "execution_count": 11,
   "id": "59f296c4-d49c-4790-8aa3-3b61d9301274",
   "metadata": {},
   "outputs": [
    {
     "data": {
      "application/vnd.jupyter.widget-view+json": {
       "model_id": "669182016da543be8a865fd331c3d931",
       "version_major": 2,
       "version_minor": 0
      },
      "text/plain": [
       "Dropdown(description='NOMAD author:', options=('Maitryi Gupta', 'Literature-Marlena Thormeier', 'FFT-Marlena T…"
      ]
     },
     "metadata": {},
     "output_type": "display_data"
    }
   ],
   "source": [
    "def on_author_change(change):\n",
    "    if change['type'] == 'change' and change['name'] == 'value':\n",
    "        all_runs_output.clear_output()\n",
    "        analysis_output.clear_output()\n",
    "        baybe_output.clear_output()\n",
    "        group_select_output.clear_output()\n",
    "        group_detail_output.clear_output()\n",
    "\n",
    "author_selector.observe(on_author_change)\n",
    "\n",
    "display(author_selector)"
   ]
  },
  {
   "cell_type": "markdown",
   "id": "16d84a34-a293-45a0-b8cc-01d474789843",
   "metadata": {},
   "source": [
    "### Create Table from NOMAD entries"
   ]
  },
  {
   "cell_type": "code",
   "execution_count": 12,
   "id": "6df04e95-e07c-435b-85ec-7a9b3e0b1536",
   "metadata": {},
   "outputs": [
    {
     "data": {
      "application/vnd.jupyter.widget-view+json": {
       "model_id": "b68c1f54605642daa47ba861edfd4b05",
       "version_major": 2,
       "version_minor": 0
      },
      "text/plain": [
       "Button(button_style='success', description='Get NOMAD data', layout=Layout(width='auto'), style=ButtonStyle())"
      ]
     },
     "metadata": {},
     "output_type": "display_data"
    },
    {
     "data": {
      "application/vnd.jupyter.widget-view+json": {
       "model_id": "43052a338a7e4e1da31ca44528ccc80a",
       "version_major": 2,
       "version_minor": 0
      },
      "text/plain": [
       "Output()"
      ]
     },
     "metadata": {},
     "output_type": "display_data"
    }
   ],
   "source": [
    "def on_button_clicked(b):\n",
    "    global result\n",
    "    fft_filter = False\n",
    "    with all_runs_output:\n",
    "        all_runs_output.clear_output()\n",
    "        print('Getting data. This can take some time...')\n",
    "        author_list = [author_selector.value.split(\"-\", 1)[-1]]\n",
    "        upload_ids = get_upload_ids_from_main_authors(url, token, author_list)\n",
    "        if author_selector.value.startswith('FFT'):\n",
    "            fft_filter = True\n",
    "        result = get_result_df_from_upload_ids(upload_ids, fft_filter)\n",
    "        all_runs_output.clear_output()\n",
    "        display(result)\n",
    "\n",
    "get_button.on_click(on_button_clicked)\n",
    "\n",
    "display(get_button, all_runs_output)"
   ]
  },
  {
   "cell_type": "markdown",
   "id": "25250eac-5916-4f86-81a6-6517202c438e",
   "metadata": {},
   "source": [
    "### Calculation of Targets"
   ]
  },
  {
   "cell_type": "code",
   "execution_count": null,
   "id": "096ec406-af82-4b4c-9f16-792129eddbf3",
   "metadata": {},
   "outputs": [],
   "source": [
    "# TODO: should this be done on RHE compensated data? E_shift referenzelektrode\n",
    "# TODO decide how table and activity is connected: everything in the same upload or match via sample ids?"
   ]
  },
  {
   "cell_type": "code",
   "execution_count": 7,
   "id": "c61f7fb1-48fd-46ed-9d4f-0e6a68ba55c5",
   "metadata": {},
   "outputs": [],
   "source": [
    "def get_groups(df):\n",
    "    res_grouped = df.groupby([\n",
    "        'potential1 (mV vs Hg/HgO)',\n",
    "        'hold1 (s)',\n",
    "        'potential3 (mV vs Hg/HgO)',\n",
    "        'sweep speed (mV/s)',\n",
    "        'cycle (P2-P3)'\n",
    "    ]).agg({\n",
    "        'upload_id': lambda x: list(x.unique()),\n",
    "        'sample_id': lambda x: list(x.unique())\n",
    "    }).reset_index()\n",
    "    res_grouped.rename(columns={\n",
    "        'upload_id': 'upload_ids',\n",
    "        'sample_id': 'sample_ids'\n",
    "    }, inplace=True)\n",
    "\n",
    "    # sort by date\n",
    "    res_grouped['sort_by_id_date'] = res_grouped['sample_ids'].apply(lambda x: x[0] if x else '') #apply(lambda x: x[0][13:24] if x else '')\n",
    "    res_grouped.sort_values(by='sort_by_id_date', inplace=True)\n",
    "    res_grouped.drop(columns='sort_by_id_date', inplace=True)\n",
    "    res_grouped.reset_index(drop=True, inplace=True)\n",
    "\n",
    "    return res_grouped\n",
    "\n",
    "def get_mean_std_no_cycles(data_list, quantity):\n",
    "    replicates = []\n",
    "    for measurement in data_list:\n",
    "        replicates.append(measurement.get(quantity))\n",
    "    mean_all = np.mean(replicates, axis=0)\n",
    "    std_all = np.std(replicates, axis=0, ddof=1)\n",
    "    mean_val = mean_all.mean() * 1000 #mV\n",
    "    std_val = std_all.mean() * 1000 #mV\n",
    "    return mean_val, std_val\n",
    "    \n",
    "def get_mean_std_of_groups(res_grouped):\n",
    "    eval_col_names = ['cp_voltage_mean', 'cp_voltage_std', 'cp_geom_mean', 'cp_voltage_rhe_mean', 'cp_voltage_rhe_std', 'cp_geom_mean_rhe']\n",
    "    eval_cols = []\n",
    "    \n",
    "    for group in res_grouped.itertuples():\n",
    "        cp_data = get_specific_entrytype_of_upload_ids(url, token, group.upload_ids, 'CE_NOME_Chronopotentiometry',)\n",
    "        \n",
    "        cp_mean, cp_std = get_mean_std_no_cycles(cp_data, 'voltage')\n",
    "        cp_mean_rhe, cp_std_rhe = get_mean_std_no_cycles(cp_data, 'voltage_rhe_compensated')\n",
    "\n",
    "        geom_mean = (cp_mean*cp_mean*cp_std)**(1/3)\n",
    "        geom_mean_rhe = (cp_mean_rhe*cp_mean_rhe*cp_std_rhe)**(1/3)\n",
    "        \n",
    "        eval_cols.append([cp_mean, cp_std, geom_mean, cp_mean_rhe, cp_std_rhe, geom_mean_rhe])\n",
    "    \n",
    "    res_grouped.loc[:, eval_col_names] = eval_cols\n",
    "    return res_grouped\n",
    "\n",
    "#upload_ids = get_upload_ids_from_main_authors(url, token, [author_selector.value])\n",
    "#result = get_result_df_from_upload_ids(upload_ids)\n",
    "#res_grouped = get_groups(result)\n",
    "#res_grouped2 = get_mean_std_of_groups(res_grouped)\n",
    "#res_grouped2"
   ]
  },
  {
   "cell_type": "code",
   "execution_count": 8,
   "id": "6019e0f7-1387-48ca-9c04-87724cf6e22d",
   "metadata": {},
   "outputs": [],
   "source": [
    "def get_trial_overview(res_grouped, plot_title='CP Mean & STD in mV', y1_name='cp_voltage_mean', y1_label='CP Voltage (mV)', y2_name='cp_voltage_std', y2_label='CP Standard Deviation (mV)'):\n",
    "    fig = go.Figure()\n",
    "    \n",
    "    fig.add_trace(go.Scatter(\n",
    "        x=res_grouped.index,\n",
    "        y=res_grouped[y1_name],\n",
    "        name=y1_label,\n",
    "        mode='lines+markers',\n",
    "        yaxis='y1'\n",
    "    ))\n",
    "    \n",
    "    fig.add_trace(go.Scatter(\n",
    "        x=res_grouped.index,\n",
    "        y=res_grouped[y2_name],\n",
    "        name=y2_label,\n",
    "        mode='lines+markers',\n",
    "        yaxis='y2'\n",
    "    ))\n",
    "    \n",
    "    fig.update_layout(\n",
    "        title=plot_title,\n",
    "        plot_bgcolor='white',\n",
    "        xaxis=dict(\n",
    "            title='Parameter Set',\n",
    "            showgrid=False,      # no vertikal line\n",
    "            linecolor='black',   # black axis at bottom\n",
    "        ),\n",
    "        yaxis=dict(\n",
    "            title=y1_label,\n",
    "            #showgrid=False,      # no horizontal line\n",
    "            linecolor='blue',\n",
    "            titlefont=dict(color='blue'),\n",
    "            tickfont=dict(color='blue'),\n",
    "        ),\n",
    "        yaxis2=dict(\n",
    "            title=y2_label,\n",
    "            overlaying='y',\n",
    "            side='right',\n",
    "            showgrid=False,     # no horizontal line\n",
    "            linecolor='red',\n",
    "            titlefont=dict(color='red'),\n",
    "            tickfont=dict(color='red'),\n",
    "        ),\n",
    "        legend=dict(\n",
    "            x=0.5, y=-0.3,\n",
    "            xanchor='center',\n",
    "            orientation='h'\n",
    "        )\n",
    "    )\n",
    "    return fig\n",
    "\n",
    "def get_trial_std_over_mean(res_grouped, plot_title='CP std vs. CP mean (in mV)', x_name='cp_voltage_mean', x_label='CP Voltage (mV)', y_name='cp_voltage_std', y_label='CP Standard Deviation (mV)'):\n",
    "    fig = go.Figure()\n",
    "    \n",
    "    fig.add_trace(go.Scatter(\n",
    "        x=res_grouped[x_name],   # TODO maybe use mA\n",
    "        y=res_grouped[y_name],\n",
    "        mode='markers+text',\n",
    "        marker=dict(color='green', size=8),\n",
    "        name='Mean vs Std',\n",
    "        textposition='top center'\n",
    "    ))\n",
    "    \n",
    "    fig.update_layout(\n",
    "        title=plot_title,\n",
    "        xaxis=dict(\n",
    "            title=x_label,\n",
    "            showgrid=True,\n",
    "            gridcolor='lightgrey',\n",
    "            zeroline=False,\n",
    "            linecolor='black',\n",
    "            #range=[0, 2000],\n",
    "        ),\n",
    "        yaxis=dict(\n",
    "            title=y_label, \n",
    "            showgrid=True,\n",
    "            gridcolor='lightgrey',\n",
    "            zeroline=False,\n",
    "            linecolor='black',\n",
    "        ),\n",
    "        plot_bgcolor='white',\n",
    "    )\n",
    "    return fig\n"
   ]
  },
  {
   "cell_type": "code",
   "execution_count": 9,
   "id": "3a68f0a6-a773-4a11-990b-34dfe098d2f5",
   "metadata": {},
   "outputs": [
    {
     "data": {
      "application/vnd.jupyter.widget-view+json": {
       "model_id": "95e8cc947c574c5ea2aed8518c37a0a2",
       "version_major": 2,
       "version_minor": 0
      },
      "text/plain": [
       "Button(button_style='info', description='Group and evaluate data', layout=Layout(width='auto'), style=ButtonSt…"
      ]
     },
     "metadata": {},
     "output_type": "display_data"
    },
    {
     "data": {
      "application/vnd.jupyter.widget-view+json": {
       "model_id": "ba602e0089734ded95b4bc9e62ebf0df",
       "version_major": 2,
       "version_minor": 0
      },
      "text/plain": [
       "Output()"
      ]
     },
     "metadata": {},
     "output_type": "display_data"
    }
   ],
   "source": [
    "def on_analysis_clicked(b):\n",
    "    global res_grouped\n",
    "    with analysis_output:\n",
    "        analysis_output.clear_output()\n",
    "        print('Evaluating data. This can take some time...')\n",
    "        res_grouped = get_groups(result)\n",
    "        res_grouped = get_mean_std_of_groups(res_grouped)\n",
    "        styled_df = res_grouped.drop(columns=['upload_ids', 'sample_ids']).style.background_gradient(subset=['cp_geom_mean', 'cp_geom_mean_rhe'], cmap='RdYlGn_r')\n",
    "        fig1 = get_trial_overview(res_grouped, plot_title='CP Mean & STD in mV', y1_name='cp_voltage_mean', y1_label='CP Voltage (mV)', y2_name='cp_voltage_std', y2_label='CP Standard Deviation (mV)')\n",
    "        fig2 = get_trial_std_over_mean(res_grouped, plot_title='CP std vs. CP mean (in mV)', x_name='cp_voltage_mean', x_label='CP Voltage (mV)', y_name='cp_voltage_std', y_label='CP Standard Deviation (mV)')\n",
    "        analysis_output.clear_output()\n",
    "        display(styled_df)\n",
    "        fig1.show()\n",
    "        fig2.show()\n",
    "    if not res_grouped.empty:\n",
    "        group_selector.options = list(res_grouped.index)\n",
    "        with group_select_output:\n",
    "            group_select_output.clear_output()\n",
    "            display(group_selector, show_group_details_button)\n",
    "\n",
    "analysis_button.on_click(on_analysis_clicked)\n",
    "\n",
    "display(analysis_button, analysis_output)"
   ]
  },
  {
   "cell_type": "markdown",
   "id": "aa5fd3d0-726a-4159-a417-5d329ce915e6",
   "metadata": {},
   "source": [
    "### Save Data for Bayesian Optimization\n",
    "\n",
    "At the moment we use the `cp_geom_mean` column for BO (not the RHE compensated column)."
   ]
  },
  {
   "cell_type": "code",
   "execution_count": 10,
   "id": "6b1a27ae-18c1-47bb-8442-2d5e46a3ae25",
   "metadata": {},
   "outputs": [],
   "source": [
    "#date_now = datetime.datetime.now()\n",
    "#file_name = 'baybe_csv/nomad_result_table_maitryi_' + date_now.strftime(\"%Y%m%d\") + '.csv'\n",
    "#result.to_csv(file_name, index=False)"
   ]
  },
  {
   "cell_type": "code",
   "execution_count": 11,
   "id": "bdc7dbb6-ba41-4ba7-ab30-816aa2e45927",
   "metadata": {},
   "outputs": [],
   "source": [
    "def save_baybe_table_csv(res_grouped_df, author_name='maitryi'):\n",
    "    rename_baybe = {\n",
    "        'potential1 (mV vs Hg/HgO)': 'potential1',\n",
    "        'potential3 (mV vs Hg/HgO)': 'potential3',\n",
    "        'hold1 (s)': 'hold1',\n",
    "        'sweep speed (mV/s)': 'sweep_speed',\n",
    "    }\n",
    "    \n",
    "    baybe_table = res_grouped_df.rename(columns=rename_baybe)[['potential1', 'potential3', 'hold1', 'sweep_speed', 'cp_geom_mean']]\n",
    "    #baybe_table = baybe_table.replace('n/a', 0)    # this is from last year where sweep speed could be n/a TODO check if this is also possible this year\n",
    "    baybe_table.to_csv(f'baybe_csv/wateroxidation_ni_{author_name}.csv', index=False, header=True)\n",
    "    print(f'Saved table for Bayesion Optimization in baybe_csv/wateroxidation_ni_{author_name}.csv')"
   ]
  },
  {
   "cell_type": "code",
   "execution_count": 12,
   "id": "1cb69ea5-7ae7-4d64-b112-b8b77d9c35af",
   "metadata": {},
   "outputs": [
    {
     "data": {
      "application/vnd.jupyter.widget-view+json": {
       "model_id": "659d6d6b36a44bf591a5161109393eca",
       "version_major": 2,
       "version_minor": 0
      },
      "text/plain": [
       "Button(button_style='primary', description='Safe data for Bayesian Optimization', layout=Layout(width='auto'),…"
      ]
     },
     "metadata": {},
     "output_type": "display_data"
    },
    {
     "data": {
      "application/vnd.jupyter.widget-view+json": {
       "model_id": "b95fd13842f642f784d87f6b58293618",
       "version_major": 2,
       "version_minor": 0
      },
      "text/plain": [
       "Output()"
      ]
     },
     "metadata": {},
     "output_type": "display_data"
    }
   ],
   "source": [
    "def on_baybe_clicked(b):\n",
    "    with baybe_output:\n",
    "        baybe_output.clear_output()\n",
    "        first_name = author_selector.value.split()[0].lower()\n",
    "        save_baybe_table_csv(res_grouped, author_name=first_name)\n",
    "\n",
    "safe_baybe_button.on_click(on_baybe_clicked)\n",
    "\n",
    "display(safe_baybe_button, baybe_output)"
   ]
  },
  {
   "cell_type": "markdown",
   "id": "2c5953b3-31c5-4c52-9551-66f8494b9d03",
   "metadata": {},
   "source": [
    "### More detailed view on grouped data"
   ]
  },
  {
   "cell_type": "code",
   "execution_count": 13,
   "id": "e1e8d4cd-ce0e-4ace-becf-3b661d1dba5e",
   "metadata": {},
   "outputs": [],
   "source": [
    "def get_oer_cp_compare_plot(time_lists, voltage_lists, labels, plot_title='OER CP Voltage vs Time'):\n",
    "    fig = go.Figure()\n",
    "\n",
    "    for time, voltage, label in zip(time_lists, voltage_lists, labels):\n",
    "        fig.add_trace(go.Scatter(\n",
    "            x=time,\n",
    "            y=voltage,\n",
    "            mode='lines+markers',\n",
    "            name=label,\n",
    "            line=dict(width=2),\n",
    "            marker=dict(size=6)\n",
    "        ))\n",
    "    \n",
    "    fig.update_layout(\n",
    "        title=plot_title,\n",
    "        xaxis_title=\"Time (s)\",\n",
    "        yaxis_title=\"Voltage (V)\",\n",
    "        template=\"plotly_white\"\n",
    "    )\n",
    "    \n",
    "    fig.show()\n",
    "\n",
    "def get_cv_compare_plot(dfs):\n",
    "    fig = go.Figure()\n",
    "\n",
    "    for i, df in enumerate(dfs, start=1):\n",
    "        fig.add_trace(go.Scatter(\n",
    "            x=df['voltage'],\n",
    "            y=df['current'],\n",
    "            mode='lines+markers',\n",
    "            name=df['id'][0],\n",
    "            line=dict(width=2),\n",
    "            marker=dict(size=6)\n",
    "        ))\n",
    "    \n",
    "    fig.update_layout(\n",
    "        title=\"Activation CV\",\n",
    "        xaxis_title=\"Voltage (V)\",\n",
    "        yaxis_title=\"Im (A)\",\n",
    "        template=\"plotly_white\"\n",
    "    )\n",
    "    \n",
    "    fig.show()"
   ]
  },
  {
   "cell_type": "code",
   "execution_count": 14,
   "id": "f647a541-6900-4b83-b115-6c2ebf8bafb9",
   "metadata": {},
   "outputs": [],
   "source": [
    "def get_group_detail_view(res_grouped, parameter_set_idx):\n",
    "    group = res_grouped.iloc[parameter_set_idx]\n",
    "\n",
    "    # ------------- CP --------------\n",
    "    \n",
    "    cp_data = get_specific_entrytype_of_upload_ids(url, token, group.upload_ids, 'CE_NOME_Chronopotentiometry',)\n",
    "    replicates = []\n",
    "    replicates_time = []\n",
    "    replicates_id = []\n",
    "    for measurement in cp_data:\n",
    "        replicates.append(measurement.get('voltage'))  # TODO 'voltage_rhe_compensated'\n",
    "        replicates_time.append(measurement.get('time'))\n",
    "        replicates_id.append(measurement.get('samples', [''])[0].get('name'))\n",
    "    mean_all = np.mean(replicates, axis=0)\n",
    "    std_all = np.std(replicates, axis=0, ddof=1)\n",
    "    mean_val = mean_all.mean() * 1000 #mV\n",
    "    std_val = std_all.mean() * 1000 #mV\n",
    "\n",
    "    get_oer_cp_compare_plot(replicates_time, replicates, replicates_id)\n",
    "    get_oer_cp_compare_plot([replicates_time[0]], [mean_all], ['V average'], 'OER CP V average')\n",
    "    get_oer_cp_compare_plot([replicates_time[0]], [std_all], ['V standard deviation'], 'OER CP V standard deviation')\n",
    "\n",
    "    # ------------- CV --------------\n",
    "\n",
    "    cv_data = get_specific_entrytype_of_upload_ids(url, token, group.upload_ids, 'CE_NOME_CyclicVoltammetry',)\n",
    "    first_cycles = []\n",
    "    last_cycles = []\n",
    "    for idx, cv in enumerate(cv_data):\n",
    "        sample_id = cv.get('samples', [''])[0].get('name')\n",
    "        first_cycle = cv.get('cycles')[1]   # cycle 2 (first complete cycle)\n",
    "        last_cycle = cv.get('cycles')[-1]\n",
    "        if len(last_cycle) < len(first_cycle):\n",
    "            last_cycle = cv.get('cycles')[-2]    # sometimes the last cycle is only half cycle\n",
    "    \n",
    "        first_current = first_cycle.get('current')\n",
    "        first_voltage = np.array(first_cycle.get('voltage_rhe_compensated'))\n",
    "        first_df = pd.DataFrame({\n",
    "            'voltage': first_voltage,\n",
    "            'current': first_current,\n",
    "            'id': f'first cycle {sample_id}',\n",
    "        })\n",
    "        first_cycles.append(first_df)\n",
    "        \n",
    "        last_current = last_cycle.get('current')\n",
    "        last_voltage = np.array(last_cycle.get('voltage_rhe_compensated'))\n",
    "        last_df = pd.DataFrame({\n",
    "            'voltage': last_voltage,\n",
    "            'current': last_current,\n",
    "            'id': f'last cycle {sample_id}',\n",
    "        })\n",
    "        last_cycles.append(last_df)\n",
    "    get_cv_compare_plot(first_cycles+last_cycles)"
   ]
  },
  {
   "cell_type": "code",
   "execution_count": 27,
   "id": "503c8178-c468-4e1a-beed-3e0383ad57cf",
   "metadata": {},
   "outputs": [
    {
     "data": {
      "application/vnd.jupyter.widget-view+json": {
       "model_id": "4b8e69e62d8646858570ccd3b3f2f4d6",
       "version_major": 2,
       "version_minor": 0
      },
      "text/plain": [
       "Output(outputs=({'output_type': 'display_data', 'data': {'text/plain': \"Dropdown(description='Select parameter…"
      ]
     },
     "metadata": {},
     "output_type": "display_data"
    },
    {
     "data": {
      "application/vnd.jupyter.widget-view+json": {
       "model_id": "c12a65b213364bd299c36748ef805f03",
       "version_major": 2,
       "version_minor": 0
      },
      "text/plain": [
       "Output()"
      ]
     },
     "metadata": {},
     "output_type": "display_data"
    }
   ],
   "source": [
    "def on_group_idx_change(change):\n",
    "    if change['name'] == 'value' and change['new'] is not None:\n",
    "        idx = change['new']\n",
    "        with group_select_output:\n",
    "            group_select_output.clear_output()\n",
    "            group_detail_output.clear_output()\n",
    "            display(group_selector, res_grouped.loc[[idx]].drop(columns=['upload_ids', 'sample_ids']), show_group_details_button)\n",
    "\n",
    "group_selector.observe(on_group_idx_change, names='value')\n",
    "\n",
    "def on_show_group_details_button_click(b):\n",
    "    selected_idx = group_selector.value\n",
    "    with group_detail_output:\n",
    "        group_detail_output.clear_output()\n",
    "        get_group_detail_view(res_grouped, selected_idx)\n",
    "\n",
    "show_group_details_button.on_click(on_show_group_details_button_click)\n",
    "\n",
    "try:\n",
    "    _ = res_grouped  # check if df is already defined\n",
    "except NameError:\n",
    "    with group_select_output:\n",
    "        print('Please run the \"Group and evaluate data\" button before inspecting individual parameter sets.')\n",
    "\n",
    "display(group_select_output, group_detail_output)\n"
   ]
  },
  {
   "cell_type": "code",
   "execution_count": null,
   "id": "d5839374-e389-426b-bf15-1631dbe4e15d",
   "metadata": {},
   "outputs": [],
   "source": []
  }
 ],
 "metadata": {
  "kernelspec": {
   "display_name": "Python 3 (ipykernel)",
   "language": "python",
   "name": "python3"
  },
  "language_info": {
   "codemirror_mode": {
    "name": "ipython",
    "version": 3
   },
   "file_extension": ".py",
   "mimetype": "text/x-python",
   "name": "python",
   "nbconvert_exporter": "python",
   "pygments_lexer": "ipython3",
   "version": "3.12.10"
  }
 },
 "nbformat": 4,
 "nbformat_minor": 5
}
