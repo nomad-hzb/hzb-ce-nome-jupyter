{
 "cells": [
  {
   "cell_type": "code",
   "execution_count": 1,
   "id": "11459e49-86b8-4cc6-a063-028cff8ec6bb",
   "metadata": {
    "tags": []
   },
   "outputs": [],
   "source": [
    "%%capture\n",
    "!pip install baybe\n",
    "import pandas as pd\n",
    "import numpy as np\n",
    "import datetime\n",
    "from baybe.targets import NumericalTarget\n",
    "from baybe.objectives.single import SingleTargetObjective\n",
    "from baybe.constraints import ContinuousLinearInequalityConstraint"
   ]
  },
  {
   "cell_type": "code",
   "execution_count": 2,
   "id": "28facbbf-e931-45ee-927d-b52cd9d42437",
   "metadata": {
    "tags": []
   },
   "outputs": [],
   "source": [
    "parameters_data = [\n",
    "    (\"potential1\",-2930,1070,1),\n",
    "    (\"potential2\",-2930,1070,1),\n",
    "    (\"potential3\",-2930,1070,1),\n",
    "]\n",
    "# (\"hold1\",120,120,1),\n",
    "# (\"hold2\",0,0,1),\n",
    "# (\"sweep_speed\",100,100,1),\n",
    "# (\"cycles\",50,50,1),\n",
    "\n",
    "constraints = None\n",
    "\n",
    "from baybe.parameters import NumericalContinuousParameter\n",
    "parameters = [\n",
    "    NumericalContinuousParameter(\n",
    "        name=p[0],\n",
    "         bounds=(0, 1),      \n",
    "    ) for p in parameters_data\n",
    "]"
   ]
  },
  {
   "cell_type": "code",
   "execution_count": 3,
   "id": "8a99a65d-ed75-4d15-8b6e-05c58fca6030",
   "metadata": {
    "tags": []
   },
   "outputs": [],
   "source": [
    "from baybe.searchspace import SearchSpace\n",
    "from baybe.recommenders import (\n",
    "    BotorchRecommender,\n",
    "    RandomRecommender,\n",
    "    TwoPhaseMetaRecommender,\n",
    ")\n",
    "\n",
    "recommender = TwoPhaseMetaRecommender(\n",
    "    initial_recommender=RandomRecommender(),  # farthest point sampling\n",
    "    recommender=BotorchRecommender(sequential_continuous=True),  # Bayesian model-based optimization\n",
    ")\n",
    "\n",
    "searchspace = SearchSpace.from_product(parameters,constraints=constraints)"
   ]
  },
  {
   "cell_type": "code",
   "execution_count": 4,
   "id": "fe773797-0a47-4dd2-b79e-16810fdd0c73",
   "metadata": {
    "tags": []
   },
   "outputs": [],
   "source": [
    "def scale_measurements_down(df, parameter_info):\n",
    "    for p in parameter_info:\n",
    "        values = (df[p[0]]-p[1])/(p[2]-p[1])\n",
    "        df[p[0]] = values\n",
    "    return df\n",
    "\n",
    "def scale_parameters_up(df, parameter_info):\n",
    "    for p in parameter_info:\n",
    "        values = (p[2]-p[1])*df[p[0]] + p[1]\n",
    "        df[p[0]] = round(values / p[3]) * p[3]\n",
    "    return df"
   ]
  },
  {
   "cell_type": "code",
   "execution_count": 5,
   "id": "5aac2fc7-1e85-4101-a645-6fd558965219",
   "metadata": {
    "tags": []
   },
   "outputs": [
    {
     "name": "stderr",
     "output_type": "stream",
     "text": [
      "/opt/conda/lib/python3.12/site-packages/baybe/utils/dataframe.py:875: InputDataTypeWarning: The following columns have unexpected data types: ['Activity']. Converting to float internally.\n",
      "  warnings.warn(\n"
     ]
    },
    {
     "name": "stdout",
     "output_type": "stream",
     "text": [
      "   potential1  potential2  potential3\n",
      "0    0.072577    0.059758     0.20649\n",
      "1    1.000000    1.000000     0.00000\n"
     ]
    },
    {
     "data": {
      "text/html": [
       "<div>\n",
       "<style scoped>\n",
       "    .dataframe tbody tr th:only-of-type {\n",
       "        vertical-align: middle;\n",
       "    }\n",
       "\n",
       "    .dataframe tbody tr th {\n",
       "        vertical-align: top;\n",
       "    }\n",
       "\n",
       "    .dataframe thead th {\n",
       "        text-align: right;\n",
       "    }\n",
       "</style>\n",
       "<table border=\"1\" class=\"dataframe\">\n",
       "  <thead>\n",
       "    <tr style=\"text-align: right;\">\n",
       "      <th></th>\n",
       "      <th>potential1</th>\n",
       "      <th>potential2</th>\n",
       "      <th>potential3</th>\n",
       "    </tr>\n",
       "  </thead>\n",
       "  <tbody>\n",
       "    <tr>\n",
       "      <th>0</th>\n",
       "      <td>-2640.0</td>\n",
       "      <td>-2691.0</td>\n",
       "      <td>-2104.0</td>\n",
       "    </tr>\n",
       "    <tr>\n",
       "      <th>1</th>\n",
       "      <td>1070.0</td>\n",
       "      <td>1070.0</td>\n",
       "      <td>-2930.0</td>\n",
       "    </tr>\n",
       "  </tbody>\n",
       "</table>\n",
       "</div>"
      ],
      "text/plain": [
       "   potential1  potential2  potential3\n",
       "0     -2640.0     -2691.0     -2104.0\n",
       "1      1070.0      1070.0     -2930.0"
      ]
     },
     "execution_count": 5,
     "metadata": {},
     "output_type": "execute_result"
    }
   ],
   "source": [
    "from baybe import Campaign\n",
    "\n",
    "target = NumericalTarget(name=\"Activity\", mode=\"MAX\")\n",
    "objective = SingleTargetObjective(target)\n",
    "columns = [p[0] for p in parameters_data]\n",
    "campaign = Campaign(searchspace, objective, recommender)\n",
    "measurements = pd.read_csv('baybe_csv/wateroxidation_ni.csv')\n",
    "\n",
    "measurements = scale_measurements_down(measurements, parameters_data)\n",
    "campaign.add_measurements(measurements)\n",
    "df_next = campaign.recommend(batch_size=2)\n",
    "\n",
    "print(df_next)\n",
    "df_next = scale_parameters_up(df_next, parameters_data)\n",
    "\n",
    "df_next\n"
   ]
  },
  {
   "cell_type": "code",
   "execution_count": 6,
   "id": "f300d53a-174b-43ce-b291-7b89f8cc6033",
   "metadata": {},
   "outputs": [
    {
     "data": {
      "text/html": [
       "<div>\n",
       "<style scoped>\n",
       "    .dataframe tbody tr th:only-of-type {\n",
       "        vertical-align: middle;\n",
       "    }\n",
       "\n",
       "    .dataframe tbody tr th {\n",
       "        vertical-align: top;\n",
       "    }\n",
       "\n",
       "    .dataframe thead th {\n",
       "        text-align: right;\n",
       "    }\n",
       "</style>\n",
       "<table border=\"1\" class=\"dataframe\">\n",
       "  <thead>\n",
       "    <tr style=\"text-align: right;\">\n",
       "      <th></th>\n",
       "      <th>potential1</th>\n",
       "      <th>potential2</th>\n",
       "      <th>potential3</th>\n",
       "      <th>Activity</th>\n",
       "    </tr>\n",
       "  </thead>\n",
       "  <tbody>\n",
       "    <tr>\n",
       "      <th>0</th>\n",
       "      <td>0.7075</td>\n",
       "      <td>0.7325</td>\n",
       "      <td>0.7575</td>\n",
       "      <td>1</td>\n",
       "    </tr>\n",
       "  </tbody>\n",
       "</table>\n",
       "</div>"
      ],
      "text/plain": [
       "   potential1  potential2  potential3  Activity\n",
       "0      0.7075      0.7325      0.7575         1"
      ]
     },
     "execution_count": 6,
     "metadata": {},
     "output_type": "execute_result"
    }
   ],
   "source": [
    "measurements"
   ]
  },
  {
   "cell_type": "code",
   "execution_count": 7,
   "id": "a92a61e7-55ce-43cd-b61f-26fb12fe0ff8",
   "metadata": {
    "tags": []
   },
   "outputs": [
    {
     "ename": "KeyError",
     "evalue": "'hold1'",
     "output_type": "error",
     "traceback": [
      "\u001b[31m---------------------------------------------------------------------------\u001b[39m",
      "\u001b[31mKeyError\u001b[39m                                  Traceback (most recent call last)",
      "\u001b[36mFile \u001b[39m\u001b[32m/opt/conda/lib/python3.12/site-packages/pandas/core/indexes/base.py:3805\u001b[39m, in \u001b[36mIndex.get_loc\u001b[39m\u001b[34m(self, key)\u001b[39m\n\u001b[32m   3804\u001b[39m \u001b[38;5;28;01mtry\u001b[39;00m:\n\u001b[32m-> \u001b[39m\u001b[32m3805\u001b[39m     \u001b[38;5;28;01mreturn\u001b[39;00m \u001b[38;5;28;43mself\u001b[39;49m\u001b[43m.\u001b[49m\u001b[43m_engine\u001b[49m\u001b[43m.\u001b[49m\u001b[43mget_loc\u001b[49m\u001b[43m(\u001b[49m\u001b[43mcasted_key\u001b[49m\u001b[43m)\u001b[49m\n\u001b[32m   3806\u001b[39m \u001b[38;5;28;01mexcept\u001b[39;00m \u001b[38;5;167;01mKeyError\u001b[39;00m \u001b[38;5;28;01mas\u001b[39;00m err:\n",
      "\u001b[36mFile \u001b[39m\u001b[32mindex.pyx:167\u001b[39m, in \u001b[36mpandas._libs.index.IndexEngine.get_loc\u001b[39m\u001b[34m()\u001b[39m\n",
      "\u001b[36mFile \u001b[39m\u001b[32mindex.pyx:196\u001b[39m, in \u001b[36mpandas._libs.index.IndexEngine.get_loc\u001b[39m\u001b[34m()\u001b[39m\n",
      "\u001b[36mFile \u001b[39m\u001b[32mpandas/_libs/hashtable_class_helper.pxi:7081\u001b[39m, in \u001b[36mpandas._libs.hashtable.PyObjectHashTable.get_item\u001b[39m\u001b[34m()\u001b[39m\n",
      "\u001b[36mFile \u001b[39m\u001b[32mpandas/_libs/hashtable_class_helper.pxi:7089\u001b[39m, in \u001b[36mpandas._libs.hashtable.PyObjectHashTable.get_item\u001b[39m\u001b[34m()\u001b[39m\n",
      "\u001b[31mKeyError\u001b[39m: 'hold1'",
      "\nThe above exception was the direct cause of the following exception:\n",
      "\u001b[31mKeyError\u001b[39m                                  Traceback (most recent call last)",
      "\u001b[36mCell\u001b[39m\u001b[36m \u001b[39m\u001b[32mIn[7]\u001b[39m\u001b[32m, line 2\u001b[39m\n\u001b[32m      1\u001b[39m \u001b[38;5;66;03m# make table as expected by student\u001b[39;00m\n\u001b[32m----> \u001b[39m\u001b[32m2\u001b[39m interval1 = \u001b[43mdf_next\u001b[49m\u001b[43m[\u001b[49m\u001b[33;43m'\u001b[39;49m\u001b[33;43mhold1\u001b[39;49m\u001b[33;43m'\u001b[39;49m\u001b[43m]\u001b[49m + np.abs(df_next[\u001b[33m'\u001b[39m\u001b[33mpotential1\u001b[39m\u001b[33m'\u001b[39m] - df_next[\u001b[33m'\u001b[39m\u001b[33mpotential2\u001b[39m\u001b[33m'\u001b[39m])/df_next[\u001b[33m'\u001b[39m\u001b[33msweep_speed\u001b[39m\u001b[33m'\u001b[39m]\n\u001b[32m      3\u001b[39m interval2 = np.abs(df_next[\u001b[33m'\u001b[39m\u001b[33mpotential2\u001b[39m\u001b[33m'\u001b[39m] - df_next[\u001b[33m'\u001b[39m\u001b[33mpotential3\u001b[39m\u001b[33m'\u001b[39m])/df_next[\u001b[33m'\u001b[39m\u001b[33msweep_speed\u001b[39m\u001b[33m'\u001b[39m] + df_next[\u001b[33m'\u001b[39m\u001b[33mhold2\u001b[39m\u001b[33m'\u001b[39m]\n\u001b[32m      4\u001b[39m df_next[\u001b[33m'\u001b[39m\u001b[33mduration\u001b[39m\u001b[33m'\u001b[39m] = interval1 + df_next[\u001b[33m'\u001b[39m\u001b[33mcycles\u001b[39m\u001b[33m'\u001b[39m]*interval2\n",
      "\u001b[36mFile \u001b[39m\u001b[32m/opt/conda/lib/python3.12/site-packages/pandas/core/frame.py:4102\u001b[39m, in \u001b[36mDataFrame.__getitem__\u001b[39m\u001b[34m(self, key)\u001b[39m\n\u001b[32m   4100\u001b[39m \u001b[38;5;28;01mif\u001b[39;00m \u001b[38;5;28mself\u001b[39m.columns.nlevels > \u001b[32m1\u001b[39m:\n\u001b[32m   4101\u001b[39m     \u001b[38;5;28;01mreturn\u001b[39;00m \u001b[38;5;28mself\u001b[39m._getitem_multilevel(key)\n\u001b[32m-> \u001b[39m\u001b[32m4102\u001b[39m indexer = \u001b[38;5;28;43mself\u001b[39;49m\u001b[43m.\u001b[49m\u001b[43mcolumns\u001b[49m\u001b[43m.\u001b[49m\u001b[43mget_loc\u001b[49m\u001b[43m(\u001b[49m\u001b[43mkey\u001b[49m\u001b[43m)\u001b[49m\n\u001b[32m   4103\u001b[39m \u001b[38;5;28;01mif\u001b[39;00m is_integer(indexer):\n\u001b[32m   4104\u001b[39m     indexer = [indexer]\n",
      "\u001b[36mFile \u001b[39m\u001b[32m/opt/conda/lib/python3.12/site-packages/pandas/core/indexes/base.py:3812\u001b[39m, in \u001b[36mIndex.get_loc\u001b[39m\u001b[34m(self, key)\u001b[39m\n\u001b[32m   3807\u001b[39m     \u001b[38;5;28;01mif\u001b[39;00m \u001b[38;5;28misinstance\u001b[39m(casted_key, \u001b[38;5;28mslice\u001b[39m) \u001b[38;5;129;01mor\u001b[39;00m (\n\u001b[32m   3808\u001b[39m         \u001b[38;5;28misinstance\u001b[39m(casted_key, abc.Iterable)\n\u001b[32m   3809\u001b[39m         \u001b[38;5;129;01mand\u001b[39;00m \u001b[38;5;28many\u001b[39m(\u001b[38;5;28misinstance\u001b[39m(x, \u001b[38;5;28mslice\u001b[39m) \u001b[38;5;28;01mfor\u001b[39;00m x \u001b[38;5;129;01min\u001b[39;00m casted_key)\n\u001b[32m   3810\u001b[39m     ):\n\u001b[32m   3811\u001b[39m         \u001b[38;5;28;01mraise\u001b[39;00m InvalidIndexError(key)\n\u001b[32m-> \u001b[39m\u001b[32m3812\u001b[39m     \u001b[38;5;28;01mraise\u001b[39;00m \u001b[38;5;167;01mKeyError\u001b[39;00m(key) \u001b[38;5;28;01mfrom\u001b[39;00m\u001b[38;5;250m \u001b[39m\u001b[34;01merr\u001b[39;00m\n\u001b[32m   3813\u001b[39m \u001b[38;5;28;01mexcept\u001b[39;00m \u001b[38;5;167;01mTypeError\u001b[39;00m:\n\u001b[32m   3814\u001b[39m     \u001b[38;5;66;03m# If we have a listlike key, _check_indexing_error will raise\u001b[39;00m\n\u001b[32m   3815\u001b[39m     \u001b[38;5;66;03m#  InvalidIndexError. Otherwise we fall through and re-raise\u001b[39;00m\n\u001b[32m   3816\u001b[39m     \u001b[38;5;66;03m#  the TypeError.\u001b[39;00m\n\u001b[32m   3817\u001b[39m     \u001b[38;5;28mself\u001b[39m._check_indexing_error(key)\n",
      "\u001b[31mKeyError\u001b[39m: 'hold1'"
     ]
    }
   ],
   "source": [
    "# make table as expected by student\n",
    "interval1 = df_next['hold1'] + np.abs(df_next['potential1'] - df_next['potential2'])/df_next['sweep_speed']\n",
    "interval2 = np.abs(df_next['potential2'] - df_next['potential3'])/df_next['sweep_speed'] + df_next['hold2']\n",
    "df_next['duration'] = interval1 + df_next['cycles']*interval2\n",
    "rename_columns = {\n",
    "    'potential1': 'potential1 (mV vs RHE)',\n",
    "    'hold1': 'hold1 (s)',\n",
    "    'potential2': 'potential2 (mV vs RHE)',\n",
    "    'hold2': 'hold2 (s)',\n",
    "    'potential3': 'potential3 (mV vs RHE)',\n",
    "    'sweep_speed': 'sweep speed (mV/s)',\n",
    "    'cycles': 'cycle (P2-P3)',\n",
    "    'duration': 'duration (s)',\n",
    "}\n",
    "df_next = df_next.rename(columns=rename_columns)\n",
    "\n",
    "date_now = datetime.datetime.now()\n",
    "filename = 'baybe_csv/newparameters_ni_' + date_now.strftime(\"%Y%m%d\") + '.csv'\n",
    "df_next.to_csv(filename)\n",
    "\n",
    "df_next"
   ]
  },
  {
   "cell_type": "code",
   "execution_count": null,
   "id": "8efbe71f-1a75-435b-85c8-c4cc5ce70dc2",
   "metadata": {},
   "outputs": [],
   "source": []
  }
 ],
 "metadata": {
  "kernelspec": {
   "display_name": "Python 3 (ipykernel)",
   "language": "python",
   "name": "python3"
  },
  "language_info": {
   "codemirror_mode": {
    "name": "ipython",
    "version": 3
   },
   "file_extension": ".py",
   "mimetype": "text/x-python",
   "name": "python",
   "nbconvert_exporter": "python",
   "pygments_lexer": "ipython3",
   "version": "3.12.10"
  }
 },
 "nbformat": 4,
 "nbformat_minor": 5
}
