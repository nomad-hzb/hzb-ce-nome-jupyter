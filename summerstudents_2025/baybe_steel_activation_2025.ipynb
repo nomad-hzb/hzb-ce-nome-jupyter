{
 "cells": [
  {
   "cell_type": "markdown",
   "id": "6684040a-9faf-42f0-ac64-3b0514646562",
   "metadata": {},
   "source": [
    "# Get new parametersets with Baysian Optimization\n",
    "\n",
    "This script uses the BaysianBackEnd (BayBE). For more information you can find the documentation here: https://emdgroup.github.io/baybe/stable/index.html "
   ]
  },
  {
   "cell_type": "code",
   "execution_count": 1,
   "id": "11459e49-86b8-4cc6-a063-028cff8ec6bb",
   "metadata": {
    "tags": []
   },
   "outputs": [],
   "source": [
    "%%capture\n",
    "!pip install baybe\n",
    "import pandas as pd\n",
    "import numpy as np\n",
    "import datetime\n",
    "import math\n",
    "\n",
    "from baybe.targets import NumericalTarget\n",
    "from baybe.objectives.single import SingleTargetObjective\n",
    "from baybe.constraints import ContinuousLinearInequalityConstraint\n",
    "\n",
    "import ipywidgets as widgets\n",
    "from IPython.display import display, clear_output"
   ]
  },
  {
   "cell_type": "code",
   "execution_count": 2,
   "id": "a121bf15-6267-48da-9b4b-05dbc7d80ced",
   "metadata": {},
   "outputs": [],
   "source": [
    "# TODO maybe let the user set these things in the future\n",
    "\n",
    "parameters_data = [\n",
    "    (\"potential1\",-2000,1600,1),\n",
    "    (\"potential3\",-2000,400,1),\n",
    "    (\"hold1\",0,1800,1),\n",
    "    (\"sweep_speed\",10,1000,1),\n",
    "]\n",
    "#(\"potential2\",900,900,1),\n",
    "#(\"hold2\",0,0,1),\n",
    "# (\"cycles\",100,100,1),"
   ]
  },
  {
   "cell_type": "code",
   "execution_count": 3,
   "id": "8ca58f57-0941-4f00-81df-c5789452bdef",
   "metadata": {},
   "outputs": [],
   "source": [
    "# all ipywidgets\n",
    "author_selector = widgets.Dropdown(\n",
    "    options=['Maitryi Gupta', 'Literature-Marlena Thormeier', 'FFT-Marlena Thormeier'],\n",
    "    value=None,\n",
    "    description='NOMAD author:',\n",
    "    style={'description_width': 'initial'}\n",
    ")\n",
    "\n",
    "run_baybe_button = widgets.Button(\n",
    "    description='Run Bayesian Optimization',\n",
    "    button_style='primary',\n",
    "    layout=widgets.Layout(width='auto')\n",
    ")\n",
    "\n",
    "safe_recommendations_button = widgets.Button(\n",
    "    description='Safe recommended parameters as csv',\n",
    "    button_style='primary',\n",
    "    layout=widgets.Layout(width='auto')\n",
    ")\n",
    "\n",
    "author_measurement_overview_output = widgets.Output()\n",
    "recommendations_output = widgets.Output()\n",
    "save_csv_output = widgets.Output()"
   ]
  },
  {
   "cell_type": "code",
   "execution_count": 4,
   "id": "0164ee93-2622-470e-b369-99ccfaa6dfb6",
   "metadata": {},
   "outputs": [
    {
     "data": {
      "application/vnd.jupyter.widget-view+json": {
       "model_id": "c421796368f147a2a33890531e4d2867",
       "version_major": 2,
       "version_minor": 0
      },
      "text/plain": [
       "Dropdown(description='NOMAD author:', options=('Maitryi Gupta', 'Marlena Thormeier'), style=DescriptionStyle(d…"
      ]
     },
     "metadata": {},
     "output_type": "display_data"
    },
    {
     "data": {
      "application/vnd.jupyter.widget-view+json": {
       "model_id": "fbb417ae40bd411db11452153747625a",
       "version_major": 2,
       "version_minor": 0
      },
      "text/plain": [
       "Output()"
      ]
     },
     "metadata": {},
     "output_type": "display_data"
    }
   ],
   "source": [
    "def on_author_change(change):\n",
    "    global measurements\n",
    "    if change['type'] == 'change' and change['name'] == 'value':\n",
    "        first_name = author_selector.value.split()[0].lower()\n",
    "        file_name = f'baybe_csv/wateroxidation_ni_{first_name}.csv'\n",
    "        with author_measurement_overview_output:\n",
    "            author_measurement_overview_output.clear_output()\n",
    "            try:\n",
    "                measurements = pd.read_csv(file_name)\n",
    "                print('Measurements for given user:')\n",
    "                display(measurements)\n",
    "            except FileNotFoundError:\n",
    "                print(f'Could not find file {file_name}')\n",
    "            \n",
    "\n",
    "author_selector.observe(on_author_change)\n",
    "author_selector.value = 'Maitryi Gupta'\n",
    "\n",
    "display(author_selector, author_measurement_overview_output)"
   ]
  },
  {
   "cell_type": "code",
   "execution_count": 5,
   "id": "fe773797-0a47-4dd2-b79e-16810fdd0c73",
   "metadata": {
    "tags": []
   },
   "outputs": [],
   "source": [
    "def scale_measurements_down(df, parameter_info):\n",
    "    for p in parameter_info:\n",
    "        values = (df[p[0]]-p[1])/(p[2]-p[1])\n",
    "        df[p[0]] = values\n",
    "    return df\n",
    "\n",
    "def scale_parameters_up(df, parameter_info):\n",
    "    for p in parameter_info:\n",
    "        values = (p[2]-p[1])*df[p[0]] + p[1]\n",
    "        df[p[0]] = round(values / p[3]) * p[3]\n",
    "    return df"
   ]
  },
  {
   "cell_type": "code",
   "execution_count": 6,
   "id": "28facbbf-e931-45ee-927d-b52cd9d42437",
   "metadata": {
    "tags": []
   },
   "outputs": [],
   "source": [
    "from baybe.parameters import NumericalContinuousParameter\n",
    "from baybe.searchspace import SearchSpace\n",
    "from baybe.recommenders import (\n",
    "    BotorchRecommender,\n",
    "    RandomRecommender,\n",
    "    TwoPhaseMetaRecommender,\n",
    ")\n",
    "from baybe import Campaign\n",
    "\n",
    "\n",
    "def get_clean_baybe_setup(parameters_data):\n",
    "    constraints = None\n",
    "    parameters = [\n",
    "        NumericalContinuousParameter(\n",
    "            name=p[0],\n",
    "             bounds=(0, 1),      \n",
    "        ) for p in parameters_data\n",
    "    ]\n",
    "    recommender = TwoPhaseMetaRecommender(\n",
    "        initial_recommender=RandomRecommender(),  # farthest point sampling\n",
    "        recommender=BotorchRecommender(sequential_continuous=True),  # Bayesian model-based optimization\n",
    "    )\n",
    "    searchspace = SearchSpace.from_product(parameters,constraints=constraints)\n",
    "\n",
    "    print('Minimize for target cp_geom_mean.')\n",
    "    target = NumericalTarget(name=\"cp_geom_mean\", mode=\"MIN\")\n",
    "    objective = SingleTargetObjective(target)\n",
    "    columns = [p[0] for p in parameters_data]\n",
    "    campaign = Campaign(searchspace, objective, recommender)\n",
    "    return campaign\n",
    "\n",
    "def get_baybe_recommendations(campaign, parameters_data, measurements, num_recommendations=6):\n",
    "    scaled_measurements = measurements.copy() # use a copy if user hits recommendation button several times\n",
    "    scaled_measurements = scale_measurements_down(scaled_measurements, parameters_data)\n",
    "    # print(scaled_measurements) # uncomment to check if measurements are scaled down as expected\n",
    "    campaign.add_measurements(scaled_measurements)\n",
    "    df_next = campaign.recommend(batch_size=num_recommendations)\n",
    "    # print(df_next) #uncomment to see unscaled recommendations\n",
    "    df_next = scale_parameters_up(df_next, parameters_data)\n",
    "    return df_next\n",
    "\n",
    "def get_complete_recommendations(df_next):\n",
    "    # this function adds longer column names and parameters that we do not change to make the table as expected by the student\n",
    "    df_next['potential2'] = 900\n",
    "    df_next['hold2'] = 0\n",
    "    interval1 = df_next['hold1'] + np.abs(df_next['potential1'] - df_next['potential2'])/df_next['sweep_speed']\n",
    "    interval2 = np.abs(df_next['potential2'] - df_next['potential3'])/df_next['sweep_speed'] + df_next['hold2']\n",
    "    df_next['cycles'] = [min(100, math.floor((3600 - interval1[i]) / interval2[i])) for i in range(len(interval1))]\n",
    "    df_next['duration_s'] = interval1 + df_next['cycles']*interval2\n",
    "    df_next['duration_min'] = df_next['duration_s']/60\n",
    "    df_next['duration_h'] = df_next['duration_s']/3600\n",
    "    rename_columns = {\n",
    "        'potential1': 'potential1 (mV vs Hg/HgO)',\n",
    "        'hold1': 'hold1 (s)',\n",
    "        'potential2': 'potential2 (mV vs Hg/HgO)',\n",
    "        'hold2': 'hold2 (s)',\n",
    "        'potential3': 'potential3 (mV vs Hg/HgO)',\n",
    "        'sweep_speed': 'sweep speed (mV/s)',\n",
    "        'cycles': 'cycle (P2-P3)',\n",
    "        'duration_s': 'duration (s)',\n",
    "        'duration_h': 'duration (h)',\n",
    "        'duration_min': 'duration (min)',\n",
    "    }\n",
    "    df_next = df_next.rename(columns=rename_columns)\n",
    "    column_order = ['potential1 (mV vs Hg/HgO)', 'hold1 (s)', 'potential2 (mV vs Hg/HgO)', 'hold2 (s)', 'potential3 (mV vs Hg/HgO)', 'sweep speed (mV/s)', 'cycle (P2-P3)', 'duration (s)',\t'duration (h)', 'duration (min)']\n",
    "    df_next = df_next[column_order]\n",
    "    return df_next\n",
    "\n",
    "def save_recommendations_as_csv(df_next, author_name):\n",
    "    date_now = datetime.datetime.now()\n",
    "    filename = f'baybe_csv/newparameters_ni_{author_name}_{date_now.strftime(\"%Y%m%d\")}.csv'\n",
    "    df_next.to_csv(filename, index=False, header=True)\n",
    "    print(f'File saved in {filename}')"
   ]
  },
  {
   "cell_type": "code",
   "execution_count": 7,
   "id": "435535a4-8fe8-49fb-97e1-d804d2eaca02",
   "metadata": {},
   "outputs": [
    {
     "data": {
      "application/vnd.jupyter.widget-view+json": {
       "model_id": "7e938edec6b44c12950dcf0696114ca0",
       "version_major": 2,
       "version_minor": 0
      },
      "text/plain": [
       "Button(button_style='primary', description='Run Bayesian Optimization', layout=Layout(width='auto'), style=But…"
      ]
     },
     "metadata": {},
     "output_type": "display_data"
    },
    {
     "data": {
      "application/vnd.jupyter.widget-view+json": {
       "model_id": "0dd746d7b19a4adb9855dc8823d69afe",
       "version_major": 2,
       "version_minor": 0
      },
      "text/plain": [
       "Output()"
      ]
     },
     "metadata": {},
     "output_type": "display_data"
    }
   ],
   "source": [
    "def on_baybe_button_clicked(b):\n",
    "    global df_pretty\n",
    "    with recommendations_output:\n",
    "        recommendations_output.clear_output()\n",
    "        campaign = get_clean_baybe_setup(parameters_data)\n",
    "        df_next = get_baybe_recommendations(campaign, parameters_data, measurements, num_recommendations=6)\n",
    "        df_pretty = get_complete_recommendations(df_next)\n",
    "        print('Recommended next parameter sets:')\n",
    "        display(df_pretty)\n",
    "\n",
    "run_baybe_button.on_click(on_baybe_button_clicked)\n",
    "\n",
    "display(run_baybe_button, recommendations_output)"
   ]
  },
  {
   "cell_type": "code",
   "execution_count": 8,
   "id": "159a954e-baa1-44c7-b4ab-9892b4bff240",
   "metadata": {},
   "outputs": [
    {
     "data": {
      "application/vnd.jupyter.widget-view+json": {
       "model_id": "c17a311b9fa442808eba21bf6af83489",
       "version_major": 2,
       "version_minor": 0
      },
      "text/plain": [
       "Button(button_style='primary', description='Safe recommended parameters as csv', layout=Layout(width='auto'), …"
      ]
     },
     "metadata": {},
     "output_type": "display_data"
    },
    {
     "data": {
      "application/vnd.jupyter.widget-view+json": {
       "model_id": "880ee819589c4f0fbdcea5e2d28e368d",
       "version_major": 2,
       "version_minor": 0
      },
      "text/plain": [
       "Output()"
      ]
     },
     "metadata": {},
     "output_type": "display_data"
    }
   ],
   "source": [
    "def on_save_csv_button_clicked(b):\n",
    "    with save_csv_output:\n",
    "        save_csv_output.clear_output()\n",
    "        first_name = author_selector.value.split()[0].lower()\n",
    "        save_recommendations_as_csv(df_pretty, first_name)\n",
    "\n",
    "safe_recommendations_button.on_click(on_save_csv_button_clicked)\n",
    "\n",
    "display(safe_recommendations_button, save_csv_output)"
   ]
  }
 ],
 "metadata": {
  "kernelspec": {
   "display_name": "Python 3 (ipykernel)",
   "language": "python",
   "name": "python3"
  },
  "language_info": {
   "codemirror_mode": {
    "name": "ipython",
    "version": 3
   },
   "file_extension": ".py",
   "mimetype": "text/x-python",
   "name": "python",
   "nbconvert_exporter": "python",
   "pygments_lexer": "ipython3",
   "version": "3.12.10"
  }
 },
 "nbformat": 4,
 "nbformat_minor": 5
}
